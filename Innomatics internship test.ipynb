{
 "cells": [
  {
   "cell_type": "markdown",
   "metadata": {},
   "source": [
    "## Step 1"
   ]
  },
  {
   "cell_type": "code",
   "execution_count": 73,
   "metadata": {},
   "outputs": [],
   "source": [
    "import pandas as pd \n",
    "import numpy as np \n",
    "import seaborn as sns"
   ]
  },
  {
   "cell_type": "code",
   "execution_count": 74,
   "metadata": {},
   "outputs": [],
   "source": [
    "import pandas as pd\n",
    "import seaborn as sns"
   ]
  },
  {
   "cell_type": "code",
   "execution_count": 75,
   "metadata": {},
   "outputs": [
    {
     "data": {
      "text/html": [
       "<div>\n",
       "<style scoped>\n",
       "    .dataframe tbody tr th:only-of-type {\n",
       "        vertical-align: middle;\n",
       "    }\n",
       "\n",
       "    .dataframe tbody tr th {\n",
       "        vertical-align: top;\n",
       "    }\n",
       "\n",
       "    .dataframe thead th {\n",
       "        text-align: right;\n",
       "    }\n",
       "</style>\n",
       "<table border=\"1\" class=\"dataframe\">\n",
       "  <thead>\n",
       "    <tr style=\"text-align: right;\">\n",
       "      <th></th>\n",
       "      <th>x1</th>\n",
       "      <th>x2</th>\n",
       "      <th>y</th>\n",
       "    </tr>\n",
       "  </thead>\n",
       "  <tbody>\n",
       "    <tr>\n",
       "      <th>0</th>\n",
       "      <td>-119.366669</td>\n",
       "      <td>1.150000e+02</td>\n",
       "      <td>1</td>\n",
       "    </tr>\n",
       "    <tr>\n",
       "      <th>1</th>\n",
       "      <td>-101.108044</td>\n",
       "      <td>9.777716e+01</td>\n",
       "      <td>1</td>\n",
       "    </tr>\n",
       "    <tr>\n",
       "      <th>2</th>\n",
       "      <td>-130.278658</td>\n",
       "      <td>1.067677e+02</td>\n",
       "      <td>1</td>\n",
       "    </tr>\n",
       "    <tr>\n",
       "      <th>3</th>\n",
       "      <td>-114.703415</td>\n",
       "      <td>1.011955e+02</td>\n",
       "      <td>1</td>\n",
       "    </tr>\n",
       "    <tr>\n",
       "      <th>4</th>\n",
       "      <td>-119.366669</td>\n",
       "      <td>1.150000e+02</td>\n",
       "      <td>1</td>\n",
       "    </tr>\n",
       "    <tr>\n",
       "      <th>...</th>\n",
       "      <td>...</td>\n",
       "      <td>...</td>\n",
       "      <td>...</td>\n",
       "    </tr>\n",
       "    <tr>\n",
       "      <th>2222</th>\n",
       "      <td>98.714112</td>\n",
       "      <td>8.964312e+01</td>\n",
       "      <td>0</td>\n",
       "    </tr>\n",
       "    <tr>\n",
       "      <th>2223</th>\n",
       "      <td>96.633331</td>\n",
       "      <td>9.100000e+01</td>\n",
       "      <td>0</td>\n",
       "    </tr>\n",
       "    <tr>\n",
       "      <th>2224</th>\n",
       "      <td>85.673940</td>\n",
       "      <td>1.038393e+02</td>\n",
       "      <td>0</td>\n",
       "    </tr>\n",
       "    <tr>\n",
       "      <th>2225</th>\n",
       "      <td>78.958862</td>\n",
       "      <td>7.860537e+01</td>\n",
       "      <td>0</td>\n",
       "    </tr>\n",
       "    <tr>\n",
       "      <th>2226</th>\n",
       "      <td>109.624009</td>\n",
       "      <td>1.000000e+08</td>\n",
       "      <td>0</td>\n",
       "    </tr>\n",
       "  </tbody>\n",
       "</table>\n",
       "<p>2227 rows × 3 columns</p>\n",
       "</div>"
      ],
      "text/plain": [
       "              x1            x2  y\n",
       "0    -119.366669  1.150000e+02  1\n",
       "1    -101.108044  9.777716e+01  1\n",
       "2    -130.278658  1.067677e+02  1\n",
       "3    -114.703415  1.011955e+02  1\n",
       "4    -119.366669  1.150000e+02  1\n",
       "...          ...           ... ..\n",
       "2222   98.714112  8.964312e+01  0\n",
       "2223   96.633331  9.100000e+01  0\n",
       "2224   85.673940  1.038393e+02  0\n",
       "2225   78.958862  7.860537e+01  0\n",
       "2226  109.624009  1.000000e+08  0\n",
       "\n",
       "[2227 rows x 3 columns]"
      ]
     },
     "execution_count": 75,
     "metadata": {},
     "output_type": "execute_result"
    }
   ],
   "source": [
    "data=pd.read_csv('data.csv')\n",
    "data"
   ]
  },
  {
   "cell_type": "code",
   "execution_count": 76,
   "metadata": {},
   "outputs": [
    {
     "data": {
      "text/plain": [
       "x1    5\n",
       "x2    3\n",
       "y     0\n",
       "dtype: int64"
      ]
     },
     "execution_count": 76,
     "metadata": {},
     "output_type": "execute_result"
    }
   ],
   "source": [
    "data.isna().sum()"
   ]
  },
  {
   "cell_type": "code",
   "execution_count": 77,
   "metadata": {},
   "outputs": [
    {
     "data": {
      "text/plain": [
       "<matplotlib.axes._subplots.AxesSubplot at 0x25df8a61188>"
      ]
     },
     "execution_count": 77,
     "metadata": {},
     "output_type": "execute_result"
    },
    {
     "data": {
      "image/png": "[encoded data removed]",
      "text/plain": [
       "<Figure size 432x288 with 1 Axes>"
      ]
     },
     "metadata": {},
     "output_type": "display_data"
    }
   ],
   "source": [
    "sns.distplot(data['x1'],kde=True)"
   ]
  },
  {
   "cell_type": "code",
   "execution_count": 78,
   "metadata": {},
   "outputs": [
    {
     "data": {
      "text/plain": [
       "<matplotlib.axes._subplots.AxesSubplot at 0x25df87aef48>"
      ]
     },
     "execution_count": 78,
     "metadata": {},
     "output_type": "execute_result"
    },
    {
     "data": {
      "image/png": "[encoded data removed]",
      "text/plain": [
       "<Figure size 432x288 with 1 Axes>"
      ]
     },
     "metadata": {},
     "output_type": "display_data"
    }
   ],
   "source": [
    "sns.distplot(data['x2'],kde=True)"
   ]
  },
  {
   "cell_type": "code",
   "execution_count": 79,
   "metadata": {},
   "outputs": [
    {
     "data": {
      "text/plain": [
       "-4.818766123605403"
      ]
     },
     "execution_count": 79,
     "metadata": {},
     "output_type": "execute_result"
    }
   ],
   "source": [
    "data['x1'].mean()"
   ]
  },
  {
   "cell_type": "code",
   "execution_count": 80,
   "metadata": {},
   "outputs": [
    {
     "data": {
      "text/plain": [
       "-9.836555486"
      ]
     },
     "execution_count": 80,
     "metadata": {},
     "output_type": "execute_result"
    }
   ],
   "source": [
    "data['x1'].median()"
   ]
  },
  {
   "cell_type": "code",
   "execution_count": 81,
   "metadata": {},
   "outputs": [
    {
     "data": {
      "text/plain": [
       "0   -118.366669\n",
       "dtype: float64"
      ]
     },
     "execution_count": 81,
     "metadata": {},
     "output_type": "execute_result"
    }
   ],
   "source": [
    "data['x1'].mode()"
   ]
  },
  {
   "cell_type": "code",
   "execution_count": 82,
   "metadata": {},
   "outputs": [
    {
     "data": {
      "text/plain": [
       "89476.25894136279"
      ]
     },
     "execution_count": 82,
     "metadata": {},
     "output_type": "execute_result"
    }
   ],
   "source": [
    "data['x2'].mean()"
   ]
  },
  {
   "cell_type": "code",
   "execution_count": 83,
   "metadata": {},
   "outputs": [
    {
     "data": {
      "text/plain": [
       "-1.04615092"
      ]
     },
     "execution_count": 83,
     "metadata": {},
     "output_type": "execute_result"
    }
   ],
   "source": [
    "data['x2'].median()"
   ]
  },
  {
   "cell_type": "code",
   "execution_count": 84,
   "metadata": {},
   "outputs": [
    {
     "data": {
      "text/plain": [
       "0   -113.0\n",
       "1    -55.0\n",
       "dtype: float64"
      ]
     },
     "execution_count": 84,
     "metadata": {},
     "output_type": "execute_result"
    }
   ],
   "source": [
    "data['x2'].mode()"
   ]
  },
  {
   "cell_type": "code",
   "execution_count": 85,
   "metadata": {},
   "outputs": [
    {
     "data": {
      "text/plain": [
       "x1    5\n",
       "x2    3\n",
       "y     0\n",
       "dtype: int64"
      ]
     },
     "execution_count": 85,
     "metadata": {},
     "output_type": "execute_result"
    }
   ],
   "source": [
    "data.isna().sum()"
   ]
  },
  {
   "cell_type": "code",
   "execution_count": 86,
   "metadata": {},
   "outputs": [],
   "source": [
    "data['x1']=data['x1'].fillna(data['x1'].mode()[0])\n",
    "data['x2']=data['x2'].fillna(data['x2'].mode()[1])"
   ]
  },
  {
   "cell_type": "code",
   "execution_count": 87,
   "metadata": {},
   "outputs": [
    {
     "data": {
      "text/plain": [
       "x1    0\n",
       "x2    0\n",
       "y     0\n",
       "dtype: int64"
      ]
     },
     "execution_count": 87,
     "metadata": {},
     "output_type": "execute_result"
    }
   ],
   "source": [
    "data.isna().sum()"
   ]
  },
  {
   "cell_type": "code",
   "execution_count": 88,
   "metadata": {},
   "outputs": [
    {
     "data": {
      "text/plain": [
       "<matplotlib.axes._subplots.AxesSubplot at 0x25df88b6f88>"
      ]
     },
     "execution_count": 88,
     "metadata": {},
     "output_type": "execute_result"
    },
    {
     "data": {
      "image/png": "[encoded data removed]",
      "text/plain": [
       "<Figure size 1080x720 with 1 Axes>"
      ]
     },
     "metadata": {},
     "output_type": "display_data"
    }
   ],
   "source": [
    "fig, ax = plt.subplots(figsize=(15,10))\n",
    "sns.boxplot(data=data, width= 0.5,ax=ax,  fliersize=5)"
   ]
  },
  {
   "cell_type": "code",
   "execution_count": 71,
   "metadata": {},
   "outputs": [],
   "source": [
    "q = data['x2'].quantile(0.10)\n",
    "data_cleaned = data[data['x2']<q]"
   ]
  },
  {
   "cell_type": "markdown",
   "metadata": {},
   "source": [
    "# Step 2: Building Model"
   ]
  },
  {
   "cell_type": "markdown",
   "metadata": {},
   "source": [
    "## Logistic Regression"
   ]
  },
  {
   "cell_type": "code",
   "execution_count": 183,
   "metadata": {},
   "outputs": [],
   "source": [
    "from sklearn.preprocessing import StandardScaler \n",
    "from sklearn.linear_model  import Ridge,Lasso,RidgeCV, LassoCV, ElasticNet, ElasticNetCV, LogisticRegression\n",
    "from sklearn.model_selection import train_test_split\n",
    "from statsmodels.stats.outliers_influence import variance_inflation_factor \n",
    "from sklearn.metrics import accuracy_score, confusion_matrix, roc_curve, roc_auc_score\n",
    "import matplotlib.pyplot as plt"
   ]
  },
  {
   "cell_type": "code",
   "execution_count": 89,
   "metadata": {},
   "outputs": [
    {
     "data": {
      "text/html": [
       "<div>\n",
       "<style scoped>\n",
       "    .dataframe tbody tr th:only-of-type {\n",
       "        vertical-align: middle;\n",
       "    }\n",
       "\n",
       "    .dataframe tbody tr th {\n",
       "        vertical-align: top;\n",
       "    }\n",
       "\n",
       "    .dataframe thead th {\n",
       "        text-align: right;\n",
       "    }\n",
       "</style>\n",
       "<table border=\"1\" class=\"dataframe\">\n",
       "  <thead>\n",
       "    <tr style=\"text-align: right;\">\n",
       "      <th></th>\n",
       "      <th>x1</th>\n",
       "      <th>x2</th>\n",
       "      <th>y</th>\n",
       "    </tr>\n",
       "  </thead>\n",
       "  <tbody>\n",
       "    <tr>\n",
       "      <th>0</th>\n",
       "      <td>-119.366669</td>\n",
       "      <td>115.000000</td>\n",
       "      <td>1</td>\n",
       "    </tr>\n",
       "    <tr>\n",
       "      <th>1</th>\n",
       "      <td>-101.108044</td>\n",
       "      <td>97.777159</td>\n",
       "      <td>1</td>\n",
       "    </tr>\n",
       "    <tr>\n",
       "      <th>2</th>\n",
       "      <td>-130.278658</td>\n",
       "      <td>106.767654</td>\n",
       "      <td>1</td>\n",
       "    </tr>\n",
       "    <tr>\n",
       "      <th>3</th>\n",
       "      <td>-114.703415</td>\n",
       "      <td>101.195477</td>\n",
       "      <td>1</td>\n",
       "    </tr>\n",
       "    <tr>\n",
       "      <th>4</th>\n",
       "      <td>-119.366669</td>\n",
       "      <td>115.000000</td>\n",
       "      <td>1</td>\n",
       "    </tr>\n",
       "  </tbody>\n",
       "</table>\n",
       "</div>"
      ],
      "text/plain": [
       "           x1          x2  y\n",
       "0 -119.366669  115.000000  1\n",
       "1 -101.108044   97.777159  1\n",
       "2 -130.278658  106.767654  1\n",
       "3 -114.703415  101.195477  1\n",
       "4 -119.366669  115.000000  1"
      ]
     },
     "execution_count": 89,
     "metadata": {},
     "output_type": "execute_result"
    }
   ],
   "source": [
    "data.head()"
   ]
  },
  {
   "cell_type": "code",
   "execution_count": 90,
   "metadata": {},
   "outputs": [],
   "source": [
    "X=data.drop(columns=['y'])\n",
    "y=data['y']"
   ]
  },
  {
   "cell_type": "code",
   "execution_count": 91,
   "metadata": {},
   "outputs": [
    {
     "data": {
      "image/png": "[encoded data removed]",
      "text/plain": [
       "<Figure size 1440x1800 with 2 Axes>"
      ]
     },
     "metadata": {},
     "output_type": "display_data"
    }
   ],
   "source": [
    "# let's see how data is distributed for every column\n",
    "plt.figure(figsize=(20,25), facecolor='white')\n",
    "plotnumber = 1\n",
    "\n",
    "for column in X:\n",
    "    if plotnumber<=9 :\n",
    "        ax = plt.subplot(3,3,plotnumber)\n",
    "        sns.stripplot(y,X[column])\n",
    "    plotnumber+=1\n",
    "plt.tight_layout()"
   ]
  },
  {
   "cell_type": "code",
   "execution_count": 92,
   "metadata": {},
   "outputs": [],
   "source": [
    "scalar = StandardScaler()\n",
    "X_scaled = scalar.fit_transform(X)"
   ]
  },
  {
   "cell_type": "code",
   "execution_count": 94,
   "metadata": {},
   "outputs": [
    {
     "data": {
      "text/plain": [
       "array([[-1.52326436e+00, -2.99400579e-02],\n",
       "       [-1.27991858e+00, -2.99458361e-02],\n",
       "       [-1.66869627e+00, -2.99428198e-02],\n",
       "       ...,\n",
       "       [ 1.20945890e+00, -2.99438023e-02],\n",
       "       [ 1.11996224e+00, -2.99522682e-02],\n",
       "       [ 1.52865864e+00,  3.35198187e+01]])"
      ]
     },
     "execution_count": 94,
     "metadata": {},
     "output_type": "execute_result"
    }
   ],
   "source": [
    "X_scaled"
   ]
  },
  {
   "cell_type": "code",
   "execution_count": 93,
   "metadata": {},
   "outputs": [
    {
     "data": {
      "text/html": [
       "<div>\n",
       "<style scoped>\n",
       "    .dataframe tbody tr th:only-of-type {\n",
       "        vertical-align: middle;\n",
       "    }\n",
       "\n",
       "    .dataframe tbody tr th {\n",
       "        vertical-align: top;\n",
       "    }\n",
       "\n",
       "    .dataframe thead th {\n",
       "        text-align: right;\n",
       "    }\n",
       "</style>\n",
       "<table border=\"1\" class=\"dataframe\">\n",
       "  <thead>\n",
       "    <tr style=\"text-align: right;\">\n",
       "      <th></th>\n",
       "      <th>vif</th>\n",
       "      <th>Features</th>\n",
       "    </tr>\n",
       "  </thead>\n",
       "  <tbody>\n",
       "    <tr>\n",
       "      <th>0</th>\n",
       "      <td>1.001392</td>\n",
       "      <td>x1</td>\n",
       "    </tr>\n",
       "    <tr>\n",
       "      <th>1</th>\n",
       "      <td>1.001392</td>\n",
       "      <td>x2</td>\n",
       "    </tr>\n",
       "  </tbody>\n",
       "</table>\n",
       "</div>"
      ],
      "text/plain": [
       "        vif Features\n",
       "0  1.001392       x1\n",
       "1  1.001392       x2"
      ]
     },
     "execution_count": 93,
     "metadata": {},
     "output_type": "execute_result"
    }
   ],
   "source": [
    "vif = pd.DataFrame()\n",
    "vif[\"vif\"] = [variance_inflation_factor(X_scaled,i) for i in range(X_scaled.shape[1])]\n",
    "vif[\"Features\"] = X.columns\n",
    "vif"
   ]
  },
  {
   "cell_type": "markdown",
   "metadata": {},
   "source": [
    "All the VIF values are less than 5 and are very low. That means no multicollinearity."
   ]
  },
  {
   "cell_type": "code",
   "execution_count": 95,
   "metadata": {},
   "outputs": [],
   "source": [
    "x_train,x_test,y_train,y_test = train_test_split(X_scaled,y, test_size= 0.25, random_state = 355)"
   ]
  },
  {
   "cell_type": "code",
   "execution_count": 96,
   "metadata": {},
   "outputs": [
    {
     "data": {
      "text/plain": [
       "LogisticRegression(C=1.0, class_weight=None, dual=False, fit_intercept=True,\n",
       "                   intercept_scaling=1, l1_ratio=None, max_iter=100,\n",
       "                   multi_class='auto', n_jobs=None, penalty='l2',\n",
       "                   random_state=None, solver='lbfgs', tol=0.0001, verbose=0,\n",
       "                   warm_start=False)"
      ]
     },
     "execution_count": 96,
     "metadata": {},
     "output_type": "execute_result"
    }
   ],
   "source": [
    "log_reg = LogisticRegression()\n",
    "log_reg.fit(x_train,y_train)"
   ]
  },
  {
   "cell_type": "code",
   "execution_count": 97,
   "metadata": {},
   "outputs": [],
   "source": [
    "y_pred = log_reg.predict(x_test)"
   ]
  },
  {
   "cell_type": "code",
   "execution_count": 99,
   "metadata": {},
   "outputs": [
    {
     "data": {
      "text/plain": [
       "0.5673249551166966"
      ]
     },
     "execution_count": 99,
     "metadata": {},
     "output_type": "execute_result"
    }
   ],
   "source": [
    "accuracy = accuracy_score(y_test,y_pred)\n",
    "accuracy"
   ]
  },
  {
   "cell_type": "code",
   "execution_count": 100,
   "metadata": {},
   "outputs": [
    {
     "data": {
      "text/plain": [
       "array([[244,  61],\n",
       "       [180,  72]], dtype=int64)"
      ]
     },
     "execution_count": 100,
     "metadata": {},
     "output_type": "execute_result"
    }
   ],
   "source": [
    "conf_mat = confusion_matrix(y_test,y_pred)\n",
    "conf_mat"
   ]
  },
  {
   "cell_type": "code",
   "execution_count": 101,
   "metadata": {},
   "outputs": [],
   "source": [
    "true_positive = conf_mat[0][0]\n",
    "false_positive = conf_mat[0][1]\n",
    "false_negative = conf_mat[1][0]\n",
    "true_negative = conf_mat[1][1]"
   ]
  },
  {
   "cell_type": "code",
   "execution_count": 102,
   "metadata": {},
   "outputs": [
    {
     "data": {
      "text/plain": [
       "0.5673249551166966"
      ]
     },
     "execution_count": 102,
     "metadata": {},
     "output_type": "execute_result"
    }
   ],
   "source": [
    "Accuracy = (true_positive + true_negative) / (true_positive +false_positive + false_negative + true_negative)\n",
    "Accuracy"
   ]
  },
  {
   "cell_type": "code",
   "execution_count": 103,
   "metadata": {},
   "outputs": [
    {
     "data": {
      "text/plain": [
       "0.8"
      ]
     },
     "execution_count": 103,
     "metadata": {},
     "output_type": "execute_result"
    }
   ],
   "source": [
    "Precision = true_positive/(true_positive+false_positive)\n",
    "Precision"
   ]
  },
  {
   "cell_type": "code",
   "execution_count": 104,
   "metadata": {},
   "outputs": [
    {
     "data": {
      "text/plain": [
       "0.5754716981132075"
      ]
     },
     "execution_count": 104,
     "metadata": {},
     "output_type": "execute_result"
    }
   ],
   "source": [
    "Recall = true_positive/(true_positive+false_negative)\n",
    "Recall"
   ]
  },
  {
   "cell_type": "code",
   "execution_count": 105,
   "metadata": {},
   "outputs": [
    {
     "data": {
      "text/plain": [
       "0.6694101508916324"
      ]
     },
     "execution_count": 105,
     "metadata": {},
     "output_type": "execute_result"
    }
   ],
   "source": [
    "F1_Score = 2*(Recall * Precision) / (Recall + Precision)\n",
    "F1_Score"
   ]
  },
  {
   "cell_type": "markdown",
   "metadata": {},
   "source": [
    "## Decision Tree"
   ]
  },
  {
   "cell_type": "code",
   "execution_count": 116,
   "metadata": {},
   "outputs": [],
   "source": [
    "from sklearn.tree import DecisionTreeClassifier, export_graphviz\n",
    "from sklearn import tree\n",
    "from sklearn.model_selection import train_test_split,GridSearchCV\n",
    "from IPython.display import Image  \n",
    "from sklearn.tree import export_graphviz\n",
    "import pydotplus"
   ]
  },
  {
   "cell_type": "code",
   "execution_count": 157,
   "metadata": {},
   "outputs": [
    {
     "data": {
      "text/plain": [
       "DecisionTreeClassifier(ccp_alpha=0.0, class_weight=None, criterion='gini',\n",
       "                       max_depth=None, max_features=None, max_leaf_nodes=None,\n",
       "                       min_impurity_decrease=0.0, min_impurity_split=None,\n",
       "                       min_samples_leaf=1, min_samples_split=2,\n",
       "                       min_weight_fraction_leaf=0.0, presort='deprecated',\n",
       "                       random_state=None, splitter='best')"
      ]
     },
     "execution_count": 157,
     "metadata": {},
     "output_type": "execute_result"
    }
   ],
   "source": [
    "dt = DecisionTreeClassifier()\n",
    "dt.fit(x_train,y_train)"
   ]
  },
  {
   "cell_type": "code",
   "execution_count": 158,
   "metadata": {},
   "outputs": [
    {
     "name": "stdout",
     "output_type": "stream",
     "text": [
      "['x1', 'x2']\n",
      "[0, 1]\n"
     ]
    }
   ],
   "source": [
    "feature_name=list(X.columns)\n",
    "class_name=list(y_train.unique())\n",
    "print(feature_name)\n",
    "print(class_name)"
   ]
  },
  {
   "cell_type": "code",
   "execution_count": 133,
   "metadata": {},
   "outputs": [
    {
     "data": {
      "image/png": "[encoded data removed]",
      "text/plain": [
       "<Figure size 720x720 with 1 Axes>"
      ]
     },
     "metadata": {},
     "output_type": "display_data"
    }
   ],
   "source": [
    "plt.figure(figsize=(10,10))\n",
    "fig=tree.plot_tree(dt,\n",
    "                   feature_names=['x1', 'x2'],\n",
    "                   class_names=['0', '1'],\n",
    "                   filled=True)"
   ]
  },
  {
   "cell_type": "code",
   "execution_count": 159,
   "metadata": {},
   "outputs": [
    {
     "data": {
      "text/plain": [
       "1.0"
      ]
     },
     "execution_count": 159,
     "metadata": {},
     "output_type": "execute_result"
    }
   ],
   "source": [
    "dt.score(x_train,y_train)"
   ]
  },
  {
   "cell_type": "code",
   "execution_count": 160,
   "metadata": {},
   "outputs": [
    {
     "data": {
      "text/plain": [
       "array([0, 0, 0, 0, 1, 1, 1, 0, 0, 1, 1, 0, 1, 1, 1, 0, 0, 1, 0, 1, 0, 1,\n",
       "       0, 0, 0, 0, 0, 0, 1, 0, 1, 0, 1, 0, 1, 0, 1, 1, 1, 0, 0, 0, 0, 0,\n",
       "       0, 1, 1, 0, 0, 0, 0, 1, 1, 0, 1, 0, 1, 0, 0, 1, 0, 1, 1, 1, 1, 1,\n",
       "       0, 1, 0, 0, 0, 0, 0, 0, 0, 1, 1, 0, 0, 0, 0, 1, 0, 1, 0, 1, 0, 1,\n",
       "       0, 0, 0, 1, 1, 0, 0, 1, 0, 1, 1, 0, 0, 1, 1, 1, 1, 0, 1, 0, 1, 0,\n",
       "       1, 0, 0, 1, 0, 0, 0, 1, 0, 1, 1, 1, 0, 0, 1, 1, 1, 1, 0, 1, 1, 1,\n",
       "       0, 1, 0, 0, 1, 1, 0, 0, 0, 0, 1, 1, 1, 0, 1, 1, 0, 0, 0, 0, 1, 1,\n",
       "       0, 1, 0, 0, 0, 1, 0, 1, 0, 1, 1, 1, 0, 1, 1, 0, 0, 0, 0, 1, 1, 0,\n",
       "       1, 1, 0, 0, 1, 1, 1, 1, 1, 1, 1, 0, 1, 0, 0, 0, 0, 1, 1, 0, 0, 0,\n",
       "       0, 0, 1, 0, 0, 1, 0, 1, 1, 1, 0, 1, 0, 0, 0, 0, 1, 0, 0, 0, 1, 1,\n",
       "       0, 0, 1, 1, 0, 0, 0, 0, 1, 0, 0, 0, 1, 0, 1, 1, 1, 0, 1, 1, 1, 0,\n",
       "       0, 1, 0, 0, 0, 1, 0, 0, 0, 1, 0, 0, 0, 0, 1, 0, 0, 0, 0, 0, 0, 1,\n",
       "       1, 0, 1, 0, 0, 1, 0, 1, 1, 1, 1, 1, 1, 1, 1, 0, 0, 0, 1, 0, 0, 0,\n",
       "       1, 1, 0, 0, 0, 1, 0, 1, 1, 1, 0, 1, 0, 0, 1, 0, 1, 0, 1, 0, 1, 0,\n",
       "       0, 1, 0, 0, 0, 0, 1, 1, 0, 0, 0, 0, 0, 1, 0, 1, 0, 1, 1, 1, 1, 1,\n",
       "       0, 0, 0, 1, 1, 1, 0, 1, 1, 0, 1, 1, 0, 1, 1, 0, 0, 1, 0, 0, 1, 1,\n",
       "       0, 0, 1, 0, 0, 1, 1, 0, 1, 0, 0, 1, 1, 0, 1, 0, 0, 0, 1, 1, 1, 0,\n",
       "       1, 0, 1, 1, 0, 1, 0, 1, 0, 1, 0, 0, 0, 1, 0, 1, 1, 1, 1, 1, 0, 0,\n",
       "       0, 0, 1, 1, 0, 0, 0, 1, 0, 1, 0, 1, 1, 1, 0, 0, 1, 1, 1, 0, 1, 0,\n",
       "       1, 1, 0, 0, 0, 0, 0, 0, 0, 0, 1, 1, 0, 1, 0, 1, 0, 1, 0, 1, 0, 0,\n",
       "       1, 1, 0, 1, 0, 1, 0, 1, 1, 0, 1, 1, 0, 1, 1, 0, 0, 1, 0, 0, 0, 0,\n",
       "       0, 0, 1, 1, 0, 0, 1, 0, 1, 0, 1, 1, 0, 0, 1, 0, 0, 1, 0, 0, 0, 1,\n",
       "       1, 1, 0, 0, 0, 0, 0, 0, 0, 0, 1, 1, 0, 0, 1, 0, 1, 1, 1, 0, 0, 1,\n",
       "       1, 0, 1, 1, 1, 0, 1, 0, 0, 0, 1, 0, 0, 0, 1, 0, 1, 0, 1, 0, 1, 1,\n",
       "       0, 0, 0, 1, 0, 1, 0, 0, 0, 1, 0, 0, 1, 0, 1, 0, 0, 1, 0, 0, 0, 0,\n",
       "       0, 1, 1, 1, 1, 0, 1], dtype=int64)"
      ]
     },
     "execution_count": 160,
     "metadata": {},
     "output_type": "execute_result"
    }
   ],
   "source": [
    "py_pred = dt.predict(x_test)\n",
    "py_pred"
   ]
  },
  {
   "cell_type": "code",
   "execution_count": 161,
   "metadata": {},
   "outputs": [
    {
     "data": {
      "text/plain": [
       "0.9245960502692998"
      ]
     },
     "execution_count": 161,
     "metadata": {},
     "output_type": "execute_result"
    }
   ],
   "source": [
    "dt.score(x_test,y_test)"
   ]
  },
  {
   "cell_type": "markdown",
   "metadata": {},
   "source": [
    "## Hyperparameter tuning(step 3)"
   ]
  },
  {
   "cell_type": "code",
   "execution_count": 162,
   "metadata": {},
   "outputs": [],
   "source": [
    "# we are tuning three hyperparameters right now, we are passing the different values for both parameters\n",
    "grid_param = {\n",
    "    'criterion': ['gini', 'entropy'],\n",
    "    'max_depth' : range(2,32,1),\n",
    "    'min_samples_leaf' : range(1,10,1),\n",
    "    'min_samples_split': range(2,10,1),\n",
    "    'splitter' : ['best', 'random']\n",
    "    \n",
    "}"
   ]
  },
  {
   "cell_type": "code",
   "execution_count": 164,
   "metadata": {},
   "outputs": [],
   "source": [
    "grid_search = GridSearchCV(estimator=dt,\n",
    "                     param_grid=grid_param,\n",
    "                     cv=5,\n",
    "                    n_jobs =-1)"
   ]
  },
  {
   "cell_type": "code",
   "execution_count": 165,
   "metadata": {},
   "outputs": [
    {
     "data": {
      "text/plain": [
       "GridSearchCV(cv=5, error_score=nan,\n",
       "             estimator=DecisionTreeClassifier(ccp_alpha=0.0, class_weight=None,\n",
       "                                              criterion='gini', max_depth=None,\n",
       "                                              max_features=None,\n",
       "                                              max_leaf_nodes=None,\n",
       "                                              min_impurity_decrease=0.0,\n",
       "                                              min_impurity_split=None,\n",
       "                                              min_samples_leaf=1,\n",
       "                                              min_samples_split=2,\n",
       "                                              min_weight_fraction_leaf=0.0,\n",
       "                                              presort='deprecated',\n",
       "                                              random_state=None,\n",
       "                                              splitter='best'),\n",
       "             iid='deprecated', n_jobs=-1,\n",
       "             param_grid={'criterion': ['gini', 'entropy'],\n",
       "                         'max_depth': range(2, 32),\n",
       "                         'min_samples_leaf': range(1, 10),\n",
       "                         'min_samples_split': range(2, 10),\n",
       "                         'splitter': ['best', 'random']},\n",
       "             pre_dispatch='2*n_jobs', refit=True, return_train_score=False,\n",
       "             scoring=None, verbose=0)"
      ]
     },
     "execution_count": 165,
     "metadata": {},
     "output_type": "execute_result"
    }
   ],
   "source": [
    "grid_search.fit(x_train,y_train)"
   ]
  },
  {
   "cell_type": "code",
   "execution_count": 166,
   "metadata": {},
   "outputs": [
    {
     "name": "stdout",
     "output_type": "stream",
     "text": [
      "{'criterion': 'gini', 'max_depth': 25, 'min_samples_leaf': 1, 'min_samples_split': 7, 'splitter': 'random'}\n"
     ]
    }
   ],
   "source": [
    "best_parameters = grid_search.best_params_\n",
    "print(best_parameters)"
   ]
  },
  {
   "cell_type": "code",
   "execution_count": 167,
   "metadata": {},
   "outputs": [
    {
     "data": {
      "text/plain": [
       "0.9526946107784431"
      ]
     },
     "execution_count": 167,
     "metadata": {},
     "output_type": "execute_result"
    }
   ],
   "source": [
    "grid_search.best_score_"
   ]
  },
  {
   "cell_type": "code",
   "execution_count": 168,
   "metadata": {},
   "outputs": [
    {
     "data": {
      "text/plain": [
       "DecisionTreeClassifier(ccp_alpha=0.0, class_weight=None, criterion='entropy',\n",
       "                       max_depth=24, max_features=None, max_leaf_nodes=None,\n",
       "                       min_impurity_decrease=0.0, min_impurity_split=None,\n",
       "                       min_samples_leaf=1, min_samples_split=2,\n",
       "                       min_weight_fraction_leaf=0.0, presort='deprecated',\n",
       "                       random_state=None, splitter='random')"
      ]
     },
     "execution_count": 168,
     "metadata": {},
     "output_type": "execute_result"
    }
   ],
   "source": [
    "clf = DecisionTreeClassifier(criterion = 'entropy', max_depth =24, min_samples_leaf= 1, min_samples_split= 2, splitter ='random')\n",
    "clf.fit(x_train,y_train)"
   ]
  },
  {
   "cell_type": "code",
   "execution_count": 169,
   "metadata": {},
   "outputs": [
    {
     "data": {
      "text/plain": [
       "0.940754039497307"
      ]
     },
     "execution_count": 169,
     "metadata": {},
     "output_type": "execute_result"
    }
   ],
   "source": [
    "clf.score(x_test,y_test)"
   ]
  },
  {
   "cell_type": "markdown",
   "metadata": {},
   "source": [
    "## K-Nearest Neighbours"
   ]
  },
  {
   "cell_type": "code",
   "execution_count": 143,
   "metadata": {},
   "outputs": [],
   "source": [
    "from sklearn.neighbors import KNeighborsClassifier\n",
    "from sklearn.model_selection import train_test_split, GridSearchCV\n",
    "from sklearn.model_selection import KFold"
   ]
  },
  {
   "cell_type": "code",
   "execution_count": 144,
   "metadata": {},
   "outputs": [
    {
     "data": {
      "text/plain": [
       "KNeighborsClassifier(algorithm='auto', leaf_size=30, metric='minkowski',\n",
       "                     metric_params=None, n_jobs=None, n_neighbors=5, p=2,\n",
       "                     weights='uniform')"
      ]
     },
     "execution_count": 144,
     "metadata": {},
     "output_type": "execute_result"
    }
   ],
   "source": [
    "knn = KNeighborsClassifier()\n",
    "knn.fit(x_train,y_train)"
   ]
  },
  {
   "cell_type": "code",
   "execution_count": 145,
   "metadata": {},
   "outputs": [],
   "source": [
    "y_pred = knn.predict(x_test)"
   ]
  },
  {
   "cell_type": "code",
   "execution_count": 146,
   "metadata": {},
   "outputs": [
    {
     "data": {
      "text/plain": [
       "0.7245508982035929"
      ]
     },
     "execution_count": 146,
     "metadata": {},
     "output_type": "execute_result"
    }
   ],
   "source": [
    "knn.score(x_train,y_train)"
   ]
  },
  {
   "cell_type": "code",
   "execution_count": 147,
   "metadata": {},
   "outputs": [
    {
     "data": {
      "text/plain": [
       "0.49371633752244165"
      ]
     },
     "execution_count": 147,
     "metadata": {},
     "output_type": "execute_result"
    }
   ],
   "source": [
    "knn.score(x_test,y_test)"
   ]
  },
  {
   "cell_type": "markdown",
   "metadata": {},
   "source": [
    "## Hyperparameter tuning"
   ]
  },
  {
   "cell_type": "code",
   "execution_count": 148,
   "metadata": {},
   "outputs": [],
   "source": [
    "#Let's try to increase the accuracy by using hyperparameter tuning.\n",
    "param_grid = { 'algorithm' : ['ball_tree', 'kd_tree', 'brute'],\n",
    "               'leaf_size' : [18,20,25,27,30,32,34],\n",
    "               'n_neighbors' : [3,5,7,9,10,11,12,13]\n",
    "              }"
   ]
  },
  {
   "cell_type": "code",
   "execution_count": 149,
   "metadata": {},
   "outputs": [],
   "source": [
    "gridsearch = GridSearchCV(knn, param_grid,verbose=3)"
   ]
  },
  {
   "cell_type": "code",
   "execution_count": 151,
   "metadata": {},
   "outputs": [
    {
     "name": "stdout",
     "output_type": "stream",
     "text": [
      "Fitting 5 folds for each of 168 candidates, totalling 840 fits\n",
      "[CV] algorithm=ball_tree, leaf_size=18, n_neighbors=3 ................\n"
     ]
    },
    {
     "name": "stderr",
     "output_type": "stream",
     "text": [
      "[Parallel(n_jobs=1)]: Using backend SequentialBackend with 1 concurrent workers.\n",
      "[Parallel(n_jobs=1)]: Done   1 out of   1 | elapsed:    0.1s remaining:    0.0s\n"
     ]
    },
    {
     "name": "stdout",
     "output_type": "stream",
     "text": [
      "[CV]  algorithm=ball_tree, leaf_size=18, n_neighbors=3, score=0.566, total=   0.1s\n",
      "[CV] algorithm=ball_tree, leaf_size=18, n_neighbors=3 ................\n",
      "[CV]  algorithm=ball_tree, leaf_size=18, n_neighbors=3, score=0.566, total=   0.0s\n",
      "[CV] algorithm=ball_tree, leaf_size=18, n_neighbors=3 ................\n",
      "[CV]  algorithm=ball_tree, leaf_size=18, n_neighbors=3, score=0.584, total=   0.0s\n",
      "[CV] algorithm=ball_tree, leaf_size=18, n_neighbors=3 ................\n",
      "[CV]  algorithm=ball_tree, leaf_size=18, n_neighbors=3, score=0.521, total=   0.0s\n",
      "[CV] algorithm=ball_tree, leaf_size=18, n_neighbors=3 ................\n",
      "[CV]  algorithm=ball_tree, leaf_size=18, n_neighbors=3, score=0.548, total=   0.0s\n",
      "[CV] algorithm=ball_tree, leaf_size=18, n_neighbors=5 ................\n",
      "[CV]  algorithm=ball_tree, leaf_size=18, n_neighbors=5, score=0.584, total=   0.0s\n",
      "[CV] algorithm=ball_tree, leaf_size=18, n_neighbors=5 ................\n",
      "[CV]  algorithm=ball_tree, leaf_size=18, n_neighbors=5, score=0.578, total=   0.0s"
     ]
    },
    {
     "name": "stderr",
     "output_type": "stream",
     "text": [
      "[Parallel(n_jobs=1)]: Done   2 out of   2 | elapsed:    0.1s remaining:    0.0s\n"
     ]
    },
    {
     "name": "stdout",
     "output_type": "stream",
     "text": [
      "\n",
      "[CV] algorithm=ball_tree, leaf_size=18, n_neighbors=5 ................\n",
      "[CV]  algorithm=ball_tree, leaf_size=18, n_neighbors=5, score=0.602, total=   0.0s\n",
      "[CV] algorithm=ball_tree, leaf_size=18, n_neighbors=5 ................\n",
      "[CV]  algorithm=ball_tree, leaf_size=18, n_neighbors=5, score=0.617, total=   0.0s\n",
      "[CV] algorithm=ball_tree, leaf_size=18, n_neighbors=5 ................\n",
      "[CV]  algorithm=ball_tree, leaf_size=18, n_neighbors=5, score=0.572, total=   0.0s\n",
      "[CV] algorithm=ball_tree, leaf_size=18, n_neighbors=7 ................\n",
      "[CV]  algorithm=ball_tree, leaf_size=18, n_neighbors=7, score=0.584, total=   0.0s\n",
      "[CV] algorithm=ball_tree, leaf_size=18, n_neighbors=7 ................\n",
      "[CV]  algorithm=ball_tree, leaf_size=18, n_neighbors=7, score=0.563, total=   0.0s\n",
      "[CV] algorithm=ball_tree, leaf_size=18, n_neighbors=7 ................\n",
      "[CV]  algorithm=ball_tree, leaf_size=18, n_neighbors=7, score=0.581, total=   0.0s\n",
      "[CV] algorithm=ball_tree, leaf_size=18, n_neighbors=7 ................\n",
      "[CV]  algorithm=ball_tree, leaf_size=18, n_neighbors=7, score=0.611, total=   0.0s\n",
      "[CV] algorithm=ball_tree, leaf_size=18, n_neighbors=7 ................\n",
      "[CV]  algorithm=ball_tree, leaf_size=18, n_neighbors=7, score=0.575, total=   0.0s\n",
      "[CV] algorithm=ball_tree, leaf_size=18, n_neighbors=9 ................\n",
      "[CV]  algorithm=ball_tree, leaf_size=18, n_neighbors=9, score=0.575, total=   0.0s\n",
      "[CV] algorithm=ball_tree, leaf_size=18, n_neighbors=9 ................\n",
      "[CV]  algorithm=ball_tree, leaf_size=18, n_neighbors=9, score=0.578, total=   0.0s\n",
      "[CV] algorithm=ball_tree, leaf_size=18, n_neighbors=9 ................\n",
      "[CV]  algorithm=ball_tree, leaf_size=18, n_neighbors=9, score=0.620, total=   0.0s\n",
      "[CV] algorithm=ball_tree, leaf_size=18, n_neighbors=9 ................\n",
      "[CV]  algorithm=ball_tree, leaf_size=18, n_neighbors=9, score=0.590, total=   0.0s\n",
      "[CV] algorithm=ball_tree, leaf_size=18, n_neighbors=9 ................\n",
      "[CV]  algorithm=ball_tree, leaf_size=18, n_neighbors=9, score=0.602, total=   0.0s\n",
      "[CV] algorithm=ball_tree, leaf_size=18, n_neighbors=10 ...............\n",
      "[CV]  algorithm=ball_tree, leaf_size=18, n_neighbors=10, score=0.593, total=   0.0s\n",
      "[CV] algorithm=ball_tree, leaf_size=18, n_neighbors=10 ...............\n",
      "[CV]  algorithm=ball_tree, leaf_size=18, n_neighbors=10, score=0.569, total=   0.0s\n",
      "[CV] algorithm=ball_tree, leaf_size=18, n_neighbors=10 ...............\n",
      "[CV]  algorithm=ball_tree, leaf_size=18, n_neighbors=10, score=0.599, total=   0.0s\n",
      "[CV] algorithm=ball_tree, leaf_size=18, n_neighbors=10 ...............\n",
      "[CV]  algorithm=ball_tree, leaf_size=18, n_neighbors=10, score=0.614, total=   0.0s\n",
      "[CV] algorithm=ball_tree, leaf_size=18, n_neighbors=10 ...............\n",
      "[CV]  algorithm=ball_tree, leaf_size=18, n_neighbors=10, score=0.581, total=   0.0s\n",
      "[CV] algorithm=ball_tree, leaf_size=18, n_neighbors=11 ...............\n",
      "[CV]  algorithm=ball_tree, leaf_size=18, n_neighbors=11, score=0.596, total=   0.0s\n",
      "[CV] algorithm=ball_tree, leaf_size=18, n_neighbors=11 ...............\n",
      "[CV]  algorithm=ball_tree, leaf_size=18, n_neighbors=11, score=0.548, total=   0.0s\n",
      "[CV] algorithm=ball_tree, leaf_size=18, n_neighbors=11 ...............\n",
      "[CV]  algorithm=ball_tree, leaf_size=18, n_neighbors=11, score=0.587, total=   0.1s\n",
      "[CV] algorithm=ball_tree, leaf_size=18, n_neighbors=11 ...............\n",
      "[CV]  algorithm=ball_tree, leaf_size=18, n_neighbors=11, score=0.635, total=   0.2s\n",
      "[CV] algorithm=ball_tree, leaf_size=18, n_neighbors=11 ...............\n",
      "[CV]  algorithm=ball_tree, leaf_size=18, n_neighbors=11, score=0.572, total=   0.1s\n",
      "[CV] algorithm=ball_tree, leaf_size=18, n_neighbors=12 ...............\n",
      "[CV]  algorithm=ball_tree, leaf_size=18, n_neighbors=12, score=0.602, total=   0.1s\n",
      "[CV] algorithm=ball_tree, leaf_size=18, n_neighbors=12 ...............\n",
      "[CV]  algorithm=ball_tree, leaf_size=18, n_neighbors=12, score=0.560, total=   0.0s\n",
      "[CV] algorithm=ball_tree, leaf_size=18, n_neighbors=12 ...............\n",
      "[CV]  algorithm=ball_tree, leaf_size=18, n_neighbors=12, score=0.608, total=   0.0s\n",
      "[CV] algorithm=ball_tree, leaf_size=18, n_neighbors=12 ...............\n",
      "[CV]  algorithm=ball_tree, leaf_size=18, n_neighbors=12, score=0.611, total=   0.0s\n",
      "[CV] algorithm=ball_tree, leaf_size=18, n_neighbors=12 ...............\n",
      "[CV]  algorithm=ball_tree, leaf_size=18, n_neighbors=12, score=0.578, total=   0.1s\n",
      "[CV] algorithm=ball_tree, leaf_size=18, n_neighbors=13 ...............\n",
      "[CV]  algorithm=ball_tree, leaf_size=18, n_neighbors=13, score=0.581, total=   0.1s\n",
      "[CV] algorithm=ball_tree, leaf_size=18, n_neighbors=13 ...............\n",
      "[CV]  algorithm=ball_tree, leaf_size=18, n_neighbors=13, score=0.572, total=   0.1s\n",
      "[CV] algorithm=ball_tree, leaf_size=18, n_neighbors=13 ...............\n",
      "[CV]  algorithm=ball_tree, leaf_size=18, n_neighbors=13, score=0.575, total=   0.1s\n",
      "[CV] algorithm=ball_tree, leaf_size=18, n_neighbors=13 ...............\n",
      "[CV]  algorithm=ball_tree, leaf_size=18, n_neighbors=13, score=0.605, total=   0.0s\n",
      "[CV] algorithm=ball_tree, leaf_size=18, n_neighbors=13 ...............\n",
      "[CV]  algorithm=ball_tree, leaf_size=18, n_neighbors=13, score=0.566, total=   0.0s\n",
      "[CV] algorithm=ball_tree, leaf_size=20, n_neighbors=3 ................\n",
      "[CV]  algorithm=ball_tree, leaf_size=20, n_neighbors=3, score=0.566, total=   0.0s\n",
      "[CV] algorithm=ball_tree, leaf_size=20, n_neighbors=3 ................\n",
      "[CV]  algorithm=ball_tree, leaf_size=20, n_neighbors=3, score=0.566, total=   0.0s\n",
      "[CV] algorithm=ball_tree, leaf_size=20, n_neighbors=3 ................\n",
      "[CV]  algorithm=ball_tree, leaf_size=20, n_neighbors=3, score=0.584, total=   0.1s\n",
      "[CV] algorithm=ball_tree, leaf_size=20, n_neighbors=3 ................\n",
      "[CV]  algorithm=ball_tree, leaf_size=20, n_neighbors=3, score=0.521, total=   0.1s\n",
      "[CV] algorithm=ball_tree, leaf_size=20, n_neighbors=3 ................\n",
      "[CV]  algorithm=ball_tree, leaf_size=20, n_neighbors=3, score=0.548, total=   0.1s\n",
      "[CV] algorithm=ball_tree, leaf_size=20, n_neighbors=5 ................\n",
      "[CV]  algorithm=ball_tree, leaf_size=20, n_neighbors=5, score=0.584, total=   0.1s\n",
      "[CV] algorithm=ball_tree, leaf_size=20, n_neighbors=5 ................\n",
      "[CV]  algorithm=ball_tree, leaf_size=20, n_neighbors=5, score=0.578, total=   0.0s\n",
      "[CV] algorithm=ball_tree, leaf_size=20, n_neighbors=5 ................\n",
      "[CV]  algorithm=ball_tree, leaf_size=20, n_neighbors=5, score=0.602, total=   0.1s\n",
      "[CV] algorithm=ball_tree, leaf_size=20, n_neighbors=5 ................\n",
      "[CV]  algorithm=ball_tree, leaf_size=20, n_neighbors=5, score=0.617, total=   0.0s\n",
      "[CV] algorithm=ball_tree, leaf_size=20, n_neighbors=5 ................\n",
      "[CV]  algorithm=ball_tree, leaf_size=20, n_neighbors=5, score=0.572, total=   0.0s\n",
      "[CV] algorithm=ball_tree, leaf_size=20, n_neighbors=7 ................\n",
      "[CV]  algorithm=ball_tree, leaf_size=20, n_neighbors=7, score=0.584, total=   0.0s\n",
      "[CV] algorithm=ball_tree, leaf_size=20, n_neighbors=7 ................\n",
      "[CV]  algorithm=ball_tree, leaf_size=20, n_neighbors=7, score=0.563, total=   0.0s\n",
      "[CV] algorithm=ball_tree, leaf_size=20, n_neighbors=7 ................\n",
      "[CV]  algorithm=ball_tree, leaf_size=20, n_neighbors=7, score=0.581, total=   0.0s\n",
      "[CV] algorithm=ball_tree, leaf_size=20, n_neighbors=7 ................\n",
      "[CV]  algorithm=ball_tree, leaf_size=20, n_neighbors=7, score=0.611, total=   0.0s\n",
      "[CV] algorithm=ball_tree, leaf_size=20, n_neighbors=7 ................\n",
      "[CV]  algorithm=ball_tree, leaf_size=20, n_neighbors=7, score=0.575, total=   0.0s\n",
      "[CV] algorithm=ball_tree, leaf_size=20, n_neighbors=9 ................\n",
      "[CV]  algorithm=ball_tree, leaf_size=20, n_neighbors=9, score=0.575, total=   0.0s\n",
      "[CV] algorithm=ball_tree, leaf_size=20, n_neighbors=9 ................\n",
      "[CV]  algorithm=ball_tree, leaf_size=20, n_neighbors=9, score=0.578, total=   0.0s\n",
      "[CV] algorithm=ball_tree, leaf_size=20, n_neighbors=9 ................\n",
      "[CV]  algorithm=ball_tree, leaf_size=20, n_neighbors=9, score=0.620, total=   0.0s\n",
      "[CV] algorithm=ball_tree, leaf_size=20, n_neighbors=9 ................\n",
      "[CV]  algorithm=ball_tree, leaf_size=20, n_neighbors=9, score=0.590, total=   0.1s\n",
      "[CV] algorithm=ball_tree, leaf_size=20, n_neighbors=9 ................\n",
      "[CV]  algorithm=ball_tree, leaf_size=20, n_neighbors=9, score=0.602, total=   0.0s\n",
      "[CV] algorithm=ball_tree, leaf_size=20, n_neighbors=10 ...............\n",
      "[CV]  algorithm=ball_tree, leaf_size=20, n_neighbors=10, score=0.593, total=   0.0s\n",
      "[CV] algorithm=ball_tree, leaf_size=20, n_neighbors=10 ...............\n",
      "[CV]  algorithm=ball_tree, leaf_size=20, n_neighbors=10, score=0.569, total=   0.1s\n",
      "[CV] algorithm=ball_tree, leaf_size=20, n_neighbors=10 ...............\n",
      "[CV]  algorithm=ball_tree, leaf_size=20, n_neighbors=10, score=0.599, total=   0.0s\n",
      "[CV] algorithm=ball_tree, leaf_size=20, n_neighbors=10 ...............\n",
      "[CV]  algorithm=ball_tree, leaf_size=20, n_neighbors=10, score=0.614, total=   0.0s\n",
      "[CV] algorithm=ball_tree, leaf_size=20, n_neighbors=10 ...............\n",
      "[CV]  algorithm=ball_tree, leaf_size=20, n_neighbors=10, score=0.581, total=   0.0s\n",
      "[CV] algorithm=ball_tree, leaf_size=20, n_neighbors=11 ...............\n",
      "[CV]  algorithm=ball_tree, leaf_size=20, n_neighbors=11, score=0.596, total=   0.0s\n",
      "[CV] algorithm=ball_tree, leaf_size=20, n_neighbors=11 ...............\n",
      "[CV]  algorithm=ball_tree, leaf_size=20, n_neighbors=11, score=0.548, total=   0.0s\n",
      "[CV] algorithm=ball_tree, leaf_size=20, n_neighbors=11 ...............\n",
      "[CV]  algorithm=ball_tree, leaf_size=20, n_neighbors=11, score=0.587, total=   0.0s\n",
      "[CV] algorithm=ball_tree, leaf_size=20, n_neighbors=11 ...............\n",
      "[CV]  algorithm=ball_tree, leaf_size=20, n_neighbors=11, score=0.635, total=   0.0s\n",
      "[CV] algorithm=ball_tree, leaf_size=20, n_neighbors=11 ...............\n",
      "[CV]  algorithm=ball_tree, leaf_size=20, n_neighbors=11, score=0.572, total=   0.0s\n",
      "[CV] algorithm=ball_tree, leaf_size=20, n_neighbors=12 ...............\n",
      "[CV]  algorithm=ball_tree, leaf_size=20, n_neighbors=12, score=0.602, total=   0.0s\n",
      "[CV] algorithm=ball_tree, leaf_size=20, n_neighbors=12 ...............\n",
      "[CV]  algorithm=ball_tree, leaf_size=20, n_neighbors=12, score=0.560, total=   0.0s\n",
      "[CV] algorithm=ball_tree, leaf_size=20, n_neighbors=12 ...............\n",
      "[CV]  algorithm=ball_tree, leaf_size=20, n_neighbors=12, score=0.608, total=   0.1s\n",
      "[CV] algorithm=ball_tree, leaf_size=20, n_neighbors=12 ...............\n",
      "[CV]  algorithm=ball_tree, leaf_size=20, n_neighbors=12, score=0.611, total=   0.2s\n",
      "[CV] algorithm=ball_tree, leaf_size=20, n_neighbors=12 ...............\n",
      "[CV]  algorithm=ball_tree, leaf_size=20, n_neighbors=12, score=0.578, total=   0.1s\n",
      "[CV] algorithm=ball_tree, leaf_size=20, n_neighbors=13 ...............\n",
      "[CV]  algorithm=ball_tree, leaf_size=20, n_neighbors=13, score=0.581, total=   0.1s\n",
      "[CV] algorithm=ball_tree, leaf_size=20, n_neighbors=13 ...............\n",
      "[CV]  algorithm=ball_tree, leaf_size=20, n_neighbors=13, score=0.572, total=   0.1s\n",
      "[CV] algorithm=ball_tree, leaf_size=20, n_neighbors=13 ...............\n",
      "[CV]  algorithm=ball_tree, leaf_size=20, n_neighbors=13, score=0.575, total=   0.2s\n",
      "[CV] algorithm=ball_tree, leaf_size=20, n_neighbors=13 ...............\n",
      "[CV]  algorithm=ball_tree, leaf_size=20, n_neighbors=13, score=0.605, total=   0.1s\n",
      "[CV] algorithm=ball_tree, leaf_size=20, n_neighbors=13 ...............\n",
      "[CV]  algorithm=ball_tree, leaf_size=20, n_neighbors=13, score=0.566, total=   0.1s\n",
      "[CV] algorithm=ball_tree, leaf_size=25, n_neighbors=3 ................\n",
      "[CV]  algorithm=ball_tree, leaf_size=25, n_neighbors=3, score=0.566, total=   0.0s\n",
      "[CV] algorithm=ball_tree, leaf_size=25, n_neighbors=3 ................\n",
      "[CV]  algorithm=ball_tree, leaf_size=25, n_neighbors=3, score=0.566, total=   0.0s\n",
      "[CV] algorithm=ball_tree, leaf_size=25, n_neighbors=3 ................\n",
      "[CV]  algorithm=ball_tree, leaf_size=25, n_neighbors=3, score=0.584, total=   0.0s\n",
      "[CV] algorithm=ball_tree, leaf_size=25, n_neighbors=3 ................\n",
      "[CV]  algorithm=ball_tree, leaf_size=25, n_neighbors=3, score=0.521, total=   0.1s\n",
      "[CV] algorithm=ball_tree, leaf_size=25, n_neighbors=3 ................\n",
      "[CV]  algorithm=ball_tree, leaf_size=25, n_neighbors=3, score=0.548, total=   0.0s\n",
      "[CV] algorithm=ball_tree, leaf_size=25, n_neighbors=5 ................\n",
      "[CV]  algorithm=ball_tree, leaf_size=25, n_neighbors=5, score=0.584, total=   0.0s\n",
      "[CV] algorithm=ball_tree, leaf_size=25, n_neighbors=5 ................\n",
      "[CV]  algorithm=ball_tree, leaf_size=25, n_neighbors=5, score=0.578, total=   0.0s\n",
      "[CV] algorithm=ball_tree, leaf_size=25, n_neighbors=5 ................\n",
      "[CV]  algorithm=ball_tree, leaf_size=25, n_neighbors=5, score=0.602, total=   0.0s\n",
      "[CV] algorithm=ball_tree, leaf_size=25, n_neighbors=5 ................\n",
      "[CV]  algorithm=ball_tree, leaf_size=25, n_neighbors=5, score=0.617, total=   0.0s\n",
      "[CV] algorithm=ball_tree, leaf_size=25, n_neighbors=5 ................\n",
      "[CV]  algorithm=ball_tree, leaf_size=25, n_neighbors=5, score=0.572, total=   0.1s\n",
      "[CV] algorithm=ball_tree, leaf_size=25, n_neighbors=7 ................\n",
      "[CV]  algorithm=ball_tree, leaf_size=25, n_neighbors=7, score=0.584, total=   0.1s\n",
      "[CV] algorithm=ball_tree, leaf_size=25, n_neighbors=7 ................\n",
      "[CV]  algorithm=ball_tree, leaf_size=25, n_neighbors=7, score=0.563, total=   0.1s\n",
      "[CV] algorithm=ball_tree, leaf_size=25, n_neighbors=7 ................\n",
      "[CV]  algorithm=ball_tree, leaf_size=25, n_neighbors=7, score=0.581, total=   0.1s\n",
      "[CV] algorithm=ball_tree, leaf_size=25, n_neighbors=7 ................\n",
      "[CV]  algorithm=ball_tree, leaf_size=25, n_neighbors=7, score=0.611, total=   0.0s\n",
      "[CV] algorithm=ball_tree, leaf_size=25, n_neighbors=7 ................\n",
      "[CV]  algorithm=ball_tree, leaf_size=25, n_neighbors=7, score=0.575, total=   0.0s\n",
      "[CV] algorithm=ball_tree, leaf_size=25, n_neighbors=9 ................\n",
      "[CV]  algorithm=ball_tree, leaf_size=25, n_neighbors=9, score=0.575, total=   0.0s\n",
      "[CV] algorithm=ball_tree, leaf_size=25, n_neighbors=9 ................\n",
      "[CV]  algorithm=ball_tree, leaf_size=25, n_neighbors=9, score=0.578, total=   0.0s\n",
      "[CV] algorithm=ball_tree, leaf_size=25, n_neighbors=9 ................\n",
      "[CV]  algorithm=ball_tree, leaf_size=25, n_neighbors=9, score=0.620, total=   0.0s\n",
      "[CV] algorithm=ball_tree, leaf_size=25, n_neighbors=9 ................\n",
      "[CV]  algorithm=ball_tree, leaf_size=25, n_neighbors=9, score=0.590, total=   0.0s\n",
      "[CV] algorithm=ball_tree, leaf_size=25, n_neighbors=9 ................\n",
      "[CV]  algorithm=ball_tree, leaf_size=25, n_neighbors=9, score=0.602, total=   0.0s\n",
      "[CV] algorithm=ball_tree, leaf_size=25, n_neighbors=10 ...............\n",
      "[CV]  algorithm=ball_tree, leaf_size=25, n_neighbors=10, score=0.593, total=   0.0s\n",
      "[CV] algorithm=ball_tree, leaf_size=25, n_neighbors=10 ...............\n",
      "[CV]  algorithm=ball_tree, leaf_size=25, n_neighbors=10, score=0.569, total=   0.0s\n",
      "[CV] algorithm=ball_tree, leaf_size=25, n_neighbors=10 ...............\n",
      "[CV]  algorithm=ball_tree, leaf_size=25, n_neighbors=10, score=0.599, total=   0.0s\n",
      "[CV] algorithm=ball_tree, leaf_size=25, n_neighbors=10 ...............\n",
      "[CV]  algorithm=ball_tree, leaf_size=25, n_neighbors=10, score=0.614, total=   0.0s\n",
      "[CV] algorithm=ball_tree, leaf_size=25, n_neighbors=10 ...............\n",
      "[CV]  algorithm=ball_tree, leaf_size=25, n_neighbors=10, score=0.581, total=   0.0s\n",
      "[CV] algorithm=ball_tree, leaf_size=25, n_neighbors=11 ...............\n",
      "[CV]  algorithm=ball_tree, leaf_size=25, n_neighbors=11, score=0.596, total=   0.0s\n",
      "[CV] algorithm=ball_tree, leaf_size=25, n_neighbors=11 ...............\n",
      "[CV]  algorithm=ball_tree, leaf_size=25, n_neighbors=11, score=0.548, total=   0.0s\n",
      "[CV] algorithm=ball_tree, leaf_size=25, n_neighbors=11 ...............\n",
      "[CV]  algorithm=ball_tree, leaf_size=25, n_neighbors=11, score=0.587, total=   0.0s\n",
      "[CV] algorithm=ball_tree, leaf_size=25, n_neighbors=11 ...............\n",
      "[CV]  algorithm=ball_tree, leaf_size=25, n_neighbors=11, score=0.635, total=   0.0s\n",
      "[CV] algorithm=ball_tree, leaf_size=25, n_neighbors=11 ...............\n",
      "[CV]  algorithm=ball_tree, leaf_size=25, n_neighbors=11, score=0.572, total=   0.0s\n",
      "[CV] algorithm=ball_tree, leaf_size=25, n_neighbors=12 ...............\n",
      "[CV]  algorithm=ball_tree, leaf_size=25, n_neighbors=12, score=0.602, total=   0.0s\n",
      "[CV] algorithm=ball_tree, leaf_size=25, n_neighbors=12 ...............\n",
      "[CV]  algorithm=ball_tree, leaf_size=25, n_neighbors=12, score=0.560, total=   0.0s\n",
      "[CV] algorithm=ball_tree, leaf_size=25, n_neighbors=12 ...............\n",
      "[CV]  algorithm=ball_tree, leaf_size=25, n_neighbors=12, score=0.608, total=   0.0s\n",
      "[CV] algorithm=ball_tree, leaf_size=25, n_neighbors=12 ...............\n",
      "[CV]  algorithm=ball_tree, leaf_size=25, n_neighbors=12, score=0.611, total=   0.0s\n",
      "[CV] algorithm=ball_tree, leaf_size=25, n_neighbors=12 ...............\n",
      "[CV]  algorithm=ball_tree, leaf_size=25, n_neighbors=12, score=0.578, total=   0.0s\n",
      "[CV] algorithm=ball_tree, leaf_size=25, n_neighbors=13 ...............\n",
      "[CV]  algorithm=ball_tree, leaf_size=25, n_neighbors=13, score=0.581, total=   0.0s\n",
      "[CV] algorithm=ball_tree, leaf_size=25, n_neighbors=13 ...............\n",
      "[CV]  algorithm=ball_tree, leaf_size=25, n_neighbors=13, score=0.572, total=   0.0s\n",
      "[CV] algorithm=ball_tree, leaf_size=25, n_neighbors=13 ...............\n",
      "[CV]  algorithm=ball_tree, leaf_size=25, n_neighbors=13, score=0.575, total=   0.0s\n",
      "[CV] algorithm=ball_tree, leaf_size=25, n_neighbors=13 ...............\n",
      "[CV]  algorithm=ball_tree, leaf_size=25, n_neighbors=13, score=0.605, total=   0.0s\n",
      "[CV] algorithm=ball_tree, leaf_size=25, n_neighbors=13 ...............\n",
      "[CV]  algorithm=ball_tree, leaf_size=25, n_neighbors=13, score=0.566, total=   0.0s\n",
      "[CV] algorithm=ball_tree, leaf_size=27, n_neighbors=3 ................\n",
      "[CV]  algorithm=ball_tree, leaf_size=27, n_neighbors=3, score=0.566, total=   0.0s\n",
      "[CV] algorithm=ball_tree, leaf_size=27, n_neighbors=3 ................\n",
      "[CV]  algorithm=ball_tree, leaf_size=27, n_neighbors=3, score=0.566, total=   0.0s\n",
      "[CV] algorithm=ball_tree, leaf_size=27, n_neighbors=3 ................\n",
      "[CV]  algorithm=ball_tree, leaf_size=27, n_neighbors=3, score=0.584, total=   0.0s\n",
      "[CV] algorithm=ball_tree, leaf_size=27, n_neighbors=3 ................\n",
      "[CV]  algorithm=ball_tree, leaf_size=27, n_neighbors=3, score=0.521, total=   0.0s\n",
      "[CV] algorithm=ball_tree, leaf_size=27, n_neighbors=3 ................\n",
      "[CV]  algorithm=ball_tree, leaf_size=27, n_neighbors=3, score=0.548, total=   0.0s\n",
      "[CV] algorithm=ball_tree, leaf_size=27, n_neighbors=5 ................\n",
      "[CV]  algorithm=ball_tree, leaf_size=27, n_neighbors=5, score=0.584, total=   0.0s\n",
      "[CV] algorithm=ball_tree, leaf_size=27, n_neighbors=5 ................\n",
      "[CV]  algorithm=ball_tree, leaf_size=27, n_neighbors=5, score=0.578, total=   0.0s\n",
      "[CV] algorithm=ball_tree, leaf_size=27, n_neighbors=5 ................\n",
      "[CV]  algorithm=ball_tree, leaf_size=27, n_neighbors=5, score=0.602, total=   0.0s\n",
      "[CV] algorithm=ball_tree, leaf_size=27, n_neighbors=5 ................\n",
      "[CV]  algorithm=ball_tree, leaf_size=27, n_neighbors=5, score=0.617, total=   0.0s\n",
      "[CV] algorithm=ball_tree, leaf_size=27, n_neighbors=5 ................\n",
      "[CV]  algorithm=ball_tree, leaf_size=27, n_neighbors=5, score=0.572, total=   0.0s\n",
      "[CV] algorithm=ball_tree, leaf_size=27, n_neighbors=7 ................\n",
      "[CV]  algorithm=ball_tree, leaf_size=27, n_neighbors=7, score=0.584, total=   0.1s\n",
      "[CV] algorithm=ball_tree, leaf_size=27, n_neighbors=7 ................\n",
      "[CV]  algorithm=ball_tree, leaf_size=27, n_neighbors=7, score=0.563, total=   0.1s\n",
      "[CV] algorithm=ball_tree, leaf_size=27, n_neighbors=7 ................\n",
      "[CV]  algorithm=ball_tree, leaf_size=27, n_neighbors=7, score=0.581, total=   0.0s\n",
      "[CV] algorithm=ball_tree, leaf_size=27, n_neighbors=7 ................\n",
      "[CV]  algorithm=ball_tree, leaf_size=27, n_neighbors=7, score=0.611, total=   0.0s\n",
      "[CV] algorithm=ball_tree, leaf_size=27, n_neighbors=7 ................\n",
      "[CV]  algorithm=ball_tree, leaf_size=27, n_neighbors=7, score=0.575, total=   0.0s\n",
      "[CV] algorithm=ball_tree, leaf_size=27, n_neighbors=9 ................\n",
      "[CV]  algorithm=ball_tree, leaf_size=27, n_neighbors=9, score=0.575, total=   0.0s\n",
      "[CV] algorithm=ball_tree, leaf_size=27, n_neighbors=9 ................\n",
      "[CV]  algorithm=ball_tree, leaf_size=27, n_neighbors=9, score=0.578, total=   0.0s\n",
      "[CV] algorithm=ball_tree, leaf_size=27, n_neighbors=9 ................\n",
      "[CV]  algorithm=ball_tree, leaf_size=27, n_neighbors=9, score=0.620, total=   0.0s\n",
      "[CV] algorithm=ball_tree, leaf_size=27, n_neighbors=9 ................\n",
      "[CV]  algorithm=ball_tree, leaf_size=27, n_neighbors=9, score=0.590, total=   0.0s\n",
      "[CV] algorithm=ball_tree, leaf_size=27, n_neighbors=9 ................\n",
      "[CV]  algorithm=ball_tree, leaf_size=27, n_neighbors=9, score=0.602, total=   0.0s\n",
      "[CV] algorithm=ball_tree, leaf_size=27, n_neighbors=10 ...............\n",
      "[CV]  algorithm=ball_tree, leaf_size=27, n_neighbors=10, score=0.593, total=   0.0s\n",
      "[CV] algorithm=ball_tree, leaf_size=27, n_neighbors=10 ...............\n",
      "[CV]  algorithm=ball_tree, leaf_size=27, n_neighbors=10, score=0.569, total=   0.0s\n",
      "[CV] algorithm=ball_tree, leaf_size=27, n_neighbors=10 ...............\n",
      "[CV]  algorithm=ball_tree, leaf_size=27, n_neighbors=10, score=0.599, total=   0.0s\n",
      "[CV] algorithm=ball_tree, leaf_size=27, n_neighbors=10 ...............\n",
      "[CV]  algorithm=ball_tree, leaf_size=27, n_neighbors=10, score=0.614, total=   0.0s\n",
      "[CV] algorithm=ball_tree, leaf_size=27, n_neighbors=10 ...............\n",
      "[CV]  algorithm=ball_tree, leaf_size=27, n_neighbors=10, score=0.581, total=   0.0s\n",
      "[CV] algorithm=ball_tree, leaf_size=27, n_neighbors=11 ...............\n",
      "[CV]  algorithm=ball_tree, leaf_size=27, n_neighbors=11, score=0.596, total=   0.0s\n",
      "[CV] algorithm=ball_tree, leaf_size=27, n_neighbors=11 ...............\n",
      "[CV]  algorithm=ball_tree, leaf_size=27, n_neighbors=11, score=0.548, total=   0.0s\n",
      "[CV] algorithm=ball_tree, leaf_size=27, n_neighbors=11 ...............\n",
      "[CV]  algorithm=ball_tree, leaf_size=27, n_neighbors=11, score=0.587, total=   0.0s\n",
      "[CV] algorithm=ball_tree, leaf_size=27, n_neighbors=11 ...............\n",
      "[CV]  algorithm=ball_tree, leaf_size=27, n_neighbors=11, score=0.635, total=   0.0s\n",
      "[CV] algorithm=ball_tree, leaf_size=27, n_neighbors=11 ...............\n",
      "[CV]  algorithm=ball_tree, leaf_size=27, n_neighbors=11, score=0.572, total=   0.0s\n",
      "[CV] algorithm=ball_tree, leaf_size=27, n_neighbors=12 ...............\n",
      "[CV]  algorithm=ball_tree, leaf_size=27, n_neighbors=12, score=0.602, total=   0.1s\n",
      "[CV] algorithm=ball_tree, leaf_size=27, n_neighbors=12 ...............\n",
      "[CV]  algorithm=ball_tree, leaf_size=27, n_neighbors=12, score=0.560, total=   0.0s\n",
      "[CV] algorithm=ball_tree, leaf_size=27, n_neighbors=12 ...............\n",
      "[CV]  algorithm=ball_tree, leaf_size=27, n_neighbors=12, score=0.608, total=   0.0s\n",
      "[CV] algorithm=ball_tree, leaf_size=27, n_neighbors=12 ...............\n",
      "[CV]  algorithm=ball_tree, leaf_size=27, n_neighbors=12, score=0.611, total=   0.0s\n",
      "[CV] algorithm=ball_tree, leaf_size=27, n_neighbors=12 ...............\n",
      "[CV]  algorithm=ball_tree, leaf_size=27, n_neighbors=12, score=0.578, total=   0.0s\n",
      "[CV] algorithm=ball_tree, leaf_size=27, n_neighbors=13 ...............\n",
      "[CV]  algorithm=ball_tree, leaf_size=27, n_neighbors=13, score=0.581, total=   0.0s\n",
      "[CV] algorithm=ball_tree, leaf_size=27, n_neighbors=13 ...............\n",
      "[CV]  algorithm=ball_tree, leaf_size=27, n_neighbors=13, score=0.572, total=   0.0s\n",
      "[CV] algorithm=ball_tree, leaf_size=27, n_neighbors=13 ...............\n",
      "[CV]  algorithm=ball_tree, leaf_size=27, n_neighbors=13, score=0.575, total=   0.0s\n",
      "[CV] algorithm=ball_tree, leaf_size=27, n_neighbors=13 ...............\n",
      "[CV]  algorithm=ball_tree, leaf_size=27, n_neighbors=13, score=0.605, total=   0.0s\n",
      "[CV] algorithm=ball_tree, leaf_size=27, n_neighbors=13 ...............\n",
      "[CV]  algorithm=ball_tree, leaf_size=27, n_neighbors=13, score=0.566, total=   0.0s\n",
      "[CV] algorithm=ball_tree, leaf_size=30, n_neighbors=3 ................\n",
      "[CV]  algorithm=ball_tree, leaf_size=30, n_neighbors=3, score=0.566, total=   0.0s\n",
      "[CV] algorithm=ball_tree, leaf_size=30, n_neighbors=3 ................\n",
      "[CV]  algorithm=ball_tree, leaf_size=30, n_neighbors=3, score=0.566, total=   0.0s\n",
      "[CV] algorithm=ball_tree, leaf_size=30, n_neighbors=3 ................\n",
      "[CV]  algorithm=ball_tree, leaf_size=30, n_neighbors=3, score=0.584, total=   0.0s\n",
      "[CV] algorithm=ball_tree, leaf_size=30, n_neighbors=3 ................\n",
      "[CV]  algorithm=ball_tree, leaf_size=30, n_neighbors=3, score=0.521, total=   0.0s\n",
      "[CV] algorithm=ball_tree, leaf_size=30, n_neighbors=3 ................\n",
      "[CV]  algorithm=ball_tree, leaf_size=30, n_neighbors=3, score=0.548, total=   0.0s\n",
      "[CV] algorithm=ball_tree, leaf_size=30, n_neighbors=5 ................\n",
      "[CV]  algorithm=ball_tree, leaf_size=30, n_neighbors=5, score=0.584, total=   0.0s\n",
      "[CV] algorithm=ball_tree, leaf_size=30, n_neighbors=5 ................\n",
      "[CV]  algorithm=ball_tree, leaf_size=30, n_neighbors=5, score=0.578, total=   0.1s\n",
      "[CV] algorithm=ball_tree, leaf_size=30, n_neighbors=5 ................\n",
      "[CV]  algorithm=ball_tree, leaf_size=30, n_neighbors=5, score=0.602, total=   0.1s\n",
      "[CV] algorithm=ball_tree, leaf_size=30, n_neighbors=5 ................\n",
      "[CV]  algorithm=ball_tree, leaf_size=30, n_neighbors=5, score=0.617, total=   0.0s\n",
      "[CV] algorithm=ball_tree, leaf_size=30, n_neighbors=5 ................\n",
      "[CV]  algorithm=ball_tree, leaf_size=30, n_neighbors=5, score=0.572, total=   0.0s\n",
      "[CV] algorithm=ball_tree, leaf_size=30, n_neighbors=7 ................\n",
      "[CV]  algorithm=ball_tree, leaf_size=30, n_neighbors=7, score=0.584, total=   0.0s\n",
      "[CV] algorithm=ball_tree, leaf_size=30, n_neighbors=7 ................\n",
      "[CV]  algorithm=ball_tree, leaf_size=30, n_neighbors=7, score=0.563, total=   0.0s\n",
      "[CV] algorithm=ball_tree, leaf_size=30, n_neighbors=7 ................\n",
      "[CV]  algorithm=ball_tree, leaf_size=30, n_neighbors=7, score=0.581, total=   0.0s\n",
      "[CV] algorithm=ball_tree, leaf_size=30, n_neighbors=7 ................\n",
      "[CV]  algorithm=ball_tree, leaf_size=30, n_neighbors=7, score=0.611, total=   0.0s\n",
      "[CV] algorithm=ball_tree, leaf_size=30, n_neighbors=7 ................\n",
      "[CV]  algorithm=ball_tree, leaf_size=30, n_neighbors=7, score=0.575, total=   0.0s\n",
      "[CV] algorithm=ball_tree, leaf_size=30, n_neighbors=9 ................\n",
      "[CV]  algorithm=ball_tree, leaf_size=30, n_neighbors=9, score=0.575, total=   0.0s\n",
      "[CV] algorithm=ball_tree, leaf_size=30, n_neighbors=9 ................\n",
      "[CV]  algorithm=ball_tree, leaf_size=30, n_neighbors=9, score=0.578, total=   0.1s\n",
      "[CV] algorithm=ball_tree, leaf_size=30, n_neighbors=9 ................\n",
      "[CV]  algorithm=ball_tree, leaf_size=30, n_neighbors=9, score=0.620, total=   0.1s\n",
      "[CV] algorithm=ball_tree, leaf_size=30, n_neighbors=9 ................\n",
      "[CV]  algorithm=ball_tree, leaf_size=30, n_neighbors=9, score=0.590, total=   0.0s\n",
      "[CV] algorithm=ball_tree, leaf_size=30, n_neighbors=9 ................\n",
      "[CV]  algorithm=ball_tree, leaf_size=30, n_neighbors=9, score=0.602, total=   0.0s\n",
      "[CV] algorithm=ball_tree, leaf_size=30, n_neighbors=10 ...............\n",
      "[CV]  algorithm=ball_tree, leaf_size=30, n_neighbors=10, score=0.593, total=   0.0s\n",
      "[CV] algorithm=ball_tree, leaf_size=30, n_neighbors=10 ...............\n",
      "[CV]  algorithm=ball_tree, leaf_size=30, n_neighbors=10, score=0.569, total=   0.0s\n",
      "[CV] algorithm=ball_tree, leaf_size=30, n_neighbors=10 ...............\n",
      "[CV]  algorithm=ball_tree, leaf_size=30, n_neighbors=10, score=0.599, total=   0.0s\n",
      "[CV] algorithm=ball_tree, leaf_size=30, n_neighbors=10 ...............\n",
      "[CV]  algorithm=ball_tree, leaf_size=30, n_neighbors=10, score=0.614, total=   0.0s\n",
      "[CV] algorithm=ball_tree, leaf_size=30, n_neighbors=10 ...............\n",
      "[CV]  algorithm=ball_tree, leaf_size=30, n_neighbors=10, score=0.581, total=   0.0s\n",
      "[CV] algorithm=ball_tree, leaf_size=30, n_neighbors=11 ...............\n",
      "[CV]  algorithm=ball_tree, leaf_size=30, n_neighbors=11, score=0.596, total=   0.1s\n",
      "[CV] algorithm=ball_tree, leaf_size=30, n_neighbors=11 ...............\n",
      "[CV]  algorithm=ball_tree, leaf_size=30, n_neighbors=11, score=0.548, total=   0.0s\n",
      "[CV] algorithm=ball_tree, leaf_size=30, n_neighbors=11 ...............\n",
      "[CV]  algorithm=ball_tree, leaf_size=30, n_neighbors=11, score=0.587, total=   0.0s\n",
      "[CV] algorithm=ball_tree, leaf_size=30, n_neighbors=11 ...............\n",
      "[CV]  algorithm=ball_tree, leaf_size=30, n_neighbors=11, score=0.635, total=   0.0s\n",
      "[CV] algorithm=ball_tree, leaf_size=30, n_neighbors=11 ...............\n",
      "[CV]  algorithm=ball_tree, leaf_size=30, n_neighbors=11, score=0.572, total=   0.0s\n",
      "[CV] algorithm=ball_tree, leaf_size=30, n_neighbors=12 ...............\n",
      "[CV]  algorithm=ball_tree, leaf_size=30, n_neighbors=12, score=0.602, total=   0.0s\n",
      "[CV] algorithm=ball_tree, leaf_size=30, n_neighbors=12 ...............\n",
      "[CV]  algorithm=ball_tree, leaf_size=30, n_neighbors=12, score=0.560, total=   0.0s\n",
      "[CV] algorithm=ball_tree, leaf_size=30, n_neighbors=12 ...............\n",
      "[CV]  algorithm=ball_tree, leaf_size=30, n_neighbors=12, score=0.608, total=   0.0s\n",
      "[CV] algorithm=ball_tree, leaf_size=30, n_neighbors=12 ...............\n",
      "[CV]  algorithm=ball_tree, leaf_size=30, n_neighbors=12, score=0.611, total=   0.0s\n",
      "[CV] algorithm=ball_tree, leaf_size=30, n_neighbors=12 ...............\n",
      "[CV]  algorithm=ball_tree, leaf_size=30, n_neighbors=12, score=0.578, total=   0.0s\n",
      "[CV] algorithm=ball_tree, leaf_size=30, n_neighbors=13 ...............\n",
      "[CV]  algorithm=ball_tree, leaf_size=30, n_neighbors=13, score=0.581, total=   0.1s\n",
      "[CV] algorithm=ball_tree, leaf_size=30, n_neighbors=13 ...............\n",
      "[CV]  algorithm=ball_tree, leaf_size=30, n_neighbors=13, score=0.572, total=   0.0s\n",
      "[CV] algorithm=ball_tree, leaf_size=30, n_neighbors=13 ...............\n",
      "[CV]  algorithm=ball_tree, leaf_size=30, n_neighbors=13, score=0.575, total=   0.0s\n",
      "[CV] algorithm=ball_tree, leaf_size=30, n_neighbors=13 ...............\n",
      "[CV]  algorithm=ball_tree, leaf_size=30, n_neighbors=13, score=0.605, total=   0.0s\n",
      "[CV] algorithm=ball_tree, leaf_size=30, n_neighbors=13 ...............\n",
      "[CV]  algorithm=ball_tree, leaf_size=30, n_neighbors=13, score=0.566, total=   0.0s\n",
      "[CV] algorithm=ball_tree, leaf_size=32, n_neighbors=3 ................\n",
      "[CV]  algorithm=ball_tree, leaf_size=32, n_neighbors=3, score=0.566, total=   0.0s\n",
      "[CV] algorithm=ball_tree, leaf_size=32, n_neighbors=3 ................\n",
      "[CV]  algorithm=ball_tree, leaf_size=32, n_neighbors=3, score=0.566, total=   0.0s\n",
      "[CV] algorithm=ball_tree, leaf_size=32, n_neighbors=3 ................\n",
      "[CV]  algorithm=ball_tree, leaf_size=32, n_neighbors=3, score=0.584, total=   0.0s\n",
      "[CV] algorithm=ball_tree, leaf_size=32, n_neighbors=3 ................\n",
      "[CV]  algorithm=ball_tree, leaf_size=32, n_neighbors=3, score=0.521, total=   0.0s\n",
      "[CV] algorithm=ball_tree, leaf_size=32, n_neighbors=3 ................\n",
      "[CV]  algorithm=ball_tree, leaf_size=32, n_neighbors=3, score=0.548, total=   0.0s\n",
      "[CV] algorithm=ball_tree, leaf_size=32, n_neighbors=5 ................\n",
      "[CV]  algorithm=ball_tree, leaf_size=32, n_neighbors=5, score=0.584, total=   0.0s\n",
      "[CV] algorithm=ball_tree, leaf_size=32, n_neighbors=5 ................\n",
      "[CV]  algorithm=ball_tree, leaf_size=32, n_neighbors=5, score=0.578, total=   0.0s\n",
      "[CV] algorithm=ball_tree, leaf_size=32, n_neighbors=5 ................\n",
      "[CV]  algorithm=ball_tree, leaf_size=32, n_neighbors=5, score=0.602, total=   0.0s\n",
      "[CV] algorithm=ball_tree, leaf_size=32, n_neighbors=5 ................\n",
      "[CV]  algorithm=ball_tree, leaf_size=32, n_neighbors=5, score=0.617, total=   0.0s\n",
      "[CV] algorithm=ball_tree, leaf_size=32, n_neighbors=5 ................\n",
      "[CV]  algorithm=ball_tree, leaf_size=32, n_neighbors=5, score=0.572, total=   0.0s\n",
      "[CV] algorithm=ball_tree, leaf_size=32, n_neighbors=7 ................\n",
      "[CV]  algorithm=ball_tree, leaf_size=32, n_neighbors=7, score=0.584, total=   0.0s\n",
      "[CV] algorithm=ball_tree, leaf_size=32, n_neighbors=7 ................\n",
      "[CV]  algorithm=ball_tree, leaf_size=32, n_neighbors=7, score=0.563, total=   0.0s\n",
      "[CV] algorithm=ball_tree, leaf_size=32, n_neighbors=7 ................\n",
      "[CV]  algorithm=ball_tree, leaf_size=32, n_neighbors=7, score=0.581, total=   0.0s\n",
      "[CV] algorithm=ball_tree, leaf_size=32, n_neighbors=7 ................\n",
      "[CV]  algorithm=ball_tree, leaf_size=32, n_neighbors=7, score=0.611, total=   0.0s\n",
      "[CV] algorithm=ball_tree, leaf_size=32, n_neighbors=7 ................\n",
      "[CV]  algorithm=ball_tree, leaf_size=32, n_neighbors=7, score=0.575, total=   0.0s\n",
      "[CV] algorithm=ball_tree, leaf_size=32, n_neighbors=9 ................\n",
      "[CV]  algorithm=ball_tree, leaf_size=32, n_neighbors=9, score=0.575, total=   0.0s\n",
      "[CV] algorithm=ball_tree, leaf_size=32, n_neighbors=9 ................\n",
      "[CV]  algorithm=ball_tree, leaf_size=32, n_neighbors=9, score=0.578, total=   0.0s\n",
      "[CV] algorithm=ball_tree, leaf_size=32, n_neighbors=9 ................\n",
      "[CV]  algorithm=ball_tree, leaf_size=32, n_neighbors=9, score=0.620, total=   0.0s\n",
      "[CV] algorithm=ball_tree, leaf_size=32, n_neighbors=9 ................\n",
      "[CV]  algorithm=ball_tree, leaf_size=32, n_neighbors=9, score=0.590, total=   0.0s\n",
      "[CV] algorithm=ball_tree, leaf_size=32, n_neighbors=9 ................\n",
      "[CV]  algorithm=ball_tree, leaf_size=32, n_neighbors=9, score=0.602, total=   0.0s\n",
      "[CV] algorithm=ball_tree, leaf_size=32, n_neighbors=10 ...............\n",
      "[CV]  algorithm=ball_tree, leaf_size=32, n_neighbors=10, score=0.593, total=   0.0s\n",
      "[CV] algorithm=ball_tree, leaf_size=32, n_neighbors=10 ...............\n",
      "[CV]  algorithm=ball_tree, leaf_size=32, n_neighbors=10, score=0.569, total=   0.0s\n",
      "[CV] algorithm=ball_tree, leaf_size=32, n_neighbors=10 ...............\n",
      "[CV]  algorithm=ball_tree, leaf_size=32, n_neighbors=10, score=0.599, total=   0.0s\n",
      "[CV] algorithm=ball_tree, leaf_size=32, n_neighbors=10 ...............\n",
      "[CV]  algorithm=ball_tree, leaf_size=32, n_neighbors=10, score=0.614, total=   0.0s\n",
      "[CV] algorithm=ball_tree, leaf_size=32, n_neighbors=10 ...............\n",
      "[CV]  algorithm=ball_tree, leaf_size=32, n_neighbors=10, score=0.581, total=   0.0s\n",
      "[CV] algorithm=ball_tree, leaf_size=32, n_neighbors=11 ...............\n",
      "[CV]  algorithm=ball_tree, leaf_size=32, n_neighbors=11, score=0.596, total=   0.0s\n",
      "[CV] algorithm=ball_tree, leaf_size=32, n_neighbors=11 ...............\n",
      "[CV]  algorithm=ball_tree, leaf_size=32, n_neighbors=11, score=0.548, total=   0.0s\n",
      "[CV] algorithm=ball_tree, leaf_size=32, n_neighbors=11 ...............\n",
      "[CV]  algorithm=ball_tree, leaf_size=32, n_neighbors=11, score=0.587, total=   0.0s\n",
      "[CV] algorithm=ball_tree, leaf_size=32, n_neighbors=11 ...............\n",
      "[CV]  algorithm=ball_tree, leaf_size=32, n_neighbors=11, score=0.635, total=   0.0s\n",
      "[CV] algorithm=ball_tree, leaf_size=32, n_neighbors=11 ...............\n",
      "[CV]  algorithm=ball_tree, leaf_size=32, n_neighbors=11, score=0.572, total=   0.0s\n",
      "[CV] algorithm=ball_tree, leaf_size=32, n_neighbors=12 ...............\n",
      "[CV]  algorithm=ball_tree, leaf_size=32, n_neighbors=12, score=0.602, total=   0.0s\n",
      "[CV] algorithm=ball_tree, leaf_size=32, n_neighbors=12 ...............\n",
      "[CV]  algorithm=ball_tree, leaf_size=32, n_neighbors=12, score=0.560, total=   0.0s\n",
      "[CV] algorithm=ball_tree, leaf_size=32, n_neighbors=12 ...............\n",
      "[CV]  algorithm=ball_tree, leaf_size=32, n_neighbors=12, score=0.608, total=   0.0s\n",
      "[CV] algorithm=ball_tree, leaf_size=32, n_neighbors=12 ...............\n",
      "[CV]  algorithm=ball_tree, leaf_size=32, n_neighbors=12, score=0.611, total=   0.0s\n",
      "[CV] algorithm=ball_tree, leaf_size=32, n_neighbors=12 ...............\n",
      "[CV]  algorithm=ball_tree, leaf_size=32, n_neighbors=12, score=0.578, total=   0.0s\n",
      "[CV] algorithm=ball_tree, leaf_size=32, n_neighbors=13 ...............\n",
      "[CV]  algorithm=ball_tree, leaf_size=32, n_neighbors=13, score=0.581, total=   0.0s\n",
      "[CV] algorithm=ball_tree, leaf_size=32, n_neighbors=13 ...............\n",
      "[CV]  algorithm=ball_tree, leaf_size=32, n_neighbors=13, score=0.572, total=   0.0s\n",
      "[CV] algorithm=ball_tree, leaf_size=32, n_neighbors=13 ...............\n",
      "[CV]  algorithm=ball_tree, leaf_size=32, n_neighbors=13, score=0.575, total=   0.0s\n",
      "[CV] algorithm=ball_tree, leaf_size=32, n_neighbors=13 ...............\n",
      "[CV]  algorithm=ball_tree, leaf_size=32, n_neighbors=13, score=0.605, total=   0.0s\n",
      "[CV] algorithm=ball_tree, leaf_size=32, n_neighbors=13 ...............\n",
      "[CV]  algorithm=ball_tree, leaf_size=32, n_neighbors=13, score=0.566, total=   0.0s\n",
      "[CV] algorithm=ball_tree, leaf_size=34, n_neighbors=3 ................\n",
      "[CV]  algorithm=ball_tree, leaf_size=34, n_neighbors=3, score=0.566, total=   0.0s\n",
      "[CV] algorithm=ball_tree, leaf_size=34, n_neighbors=3 ................\n",
      "[CV]  algorithm=ball_tree, leaf_size=34, n_neighbors=3, score=0.566, total=   0.0s\n",
      "[CV] algorithm=ball_tree, leaf_size=34, n_neighbors=3 ................\n",
      "[CV]  algorithm=ball_tree, leaf_size=34, n_neighbors=3, score=0.584, total=   0.0s\n",
      "[CV] algorithm=ball_tree, leaf_size=34, n_neighbors=3 ................\n",
      "[CV]  algorithm=ball_tree, leaf_size=34, n_neighbors=3, score=0.521, total=   0.0s\n",
      "[CV] algorithm=ball_tree, leaf_size=34, n_neighbors=3 ................\n",
      "[CV]  algorithm=ball_tree, leaf_size=34, n_neighbors=3, score=0.548, total=   0.0s\n",
      "[CV] algorithm=ball_tree, leaf_size=34, n_neighbors=5 ................\n",
      "[CV]  algorithm=ball_tree, leaf_size=34, n_neighbors=5, score=0.584, total=   0.0s\n",
      "[CV] algorithm=ball_tree, leaf_size=34, n_neighbors=5 ................\n",
      "[CV]  algorithm=ball_tree, leaf_size=34, n_neighbors=5, score=0.578, total=   0.0s\n",
      "[CV] algorithm=ball_tree, leaf_size=34, n_neighbors=5 ................\n",
      "[CV]  algorithm=ball_tree, leaf_size=34, n_neighbors=5, score=0.602, total=   0.0s\n",
      "[CV] algorithm=ball_tree, leaf_size=34, n_neighbors=5 ................\n",
      "[CV]  algorithm=ball_tree, leaf_size=34, n_neighbors=5, score=0.617, total=   0.0s\n",
      "[CV] algorithm=ball_tree, leaf_size=34, n_neighbors=5 ................\n",
      "[CV]  algorithm=ball_tree, leaf_size=34, n_neighbors=5, score=0.572, total=   0.1s\n",
      "[CV] algorithm=ball_tree, leaf_size=34, n_neighbors=7 ................\n",
      "[CV]  algorithm=ball_tree, leaf_size=34, n_neighbors=7, score=0.584, total=   0.1s\n",
      "[CV] algorithm=ball_tree, leaf_size=34, n_neighbors=7 ................\n",
      "[CV]  algorithm=ball_tree, leaf_size=34, n_neighbors=7, score=0.563, total=   0.1s\n",
      "[CV] algorithm=ball_tree, leaf_size=34, n_neighbors=7 ................\n",
      "[CV]  algorithm=ball_tree, leaf_size=34, n_neighbors=7, score=0.581, total=   0.0s\n",
      "[CV] algorithm=ball_tree, leaf_size=34, n_neighbors=7 ................\n",
      "[CV]  algorithm=ball_tree, leaf_size=34, n_neighbors=7, score=0.611, total=   0.0s\n",
      "[CV] algorithm=ball_tree, leaf_size=34, n_neighbors=7 ................\n",
      "[CV]  algorithm=ball_tree, leaf_size=34, n_neighbors=7, score=0.575, total=   0.0s\n",
      "[CV] algorithm=ball_tree, leaf_size=34, n_neighbors=9 ................\n",
      "[CV]  algorithm=ball_tree, leaf_size=34, n_neighbors=9, score=0.575, total=   0.0s\n",
      "[CV] algorithm=ball_tree, leaf_size=34, n_neighbors=9 ................\n",
      "[CV]  algorithm=ball_tree, leaf_size=34, n_neighbors=9, score=0.578, total=   0.0s\n",
      "[CV] algorithm=ball_tree, leaf_size=34, n_neighbors=9 ................\n",
      "[CV]  algorithm=ball_tree, leaf_size=34, n_neighbors=9, score=0.620, total=   0.0s\n",
      "[CV] algorithm=ball_tree, leaf_size=34, n_neighbors=9 ................\n",
      "[CV]  algorithm=ball_tree, leaf_size=34, n_neighbors=9, score=0.590, total=   0.0s\n",
      "[CV] algorithm=ball_tree, leaf_size=34, n_neighbors=9 ................\n",
      "[CV]  algorithm=ball_tree, leaf_size=34, n_neighbors=9, score=0.602, total=   0.0s\n",
      "[CV] algorithm=ball_tree, leaf_size=34, n_neighbors=10 ...............\n",
      "[CV]  algorithm=ball_tree, leaf_size=34, n_neighbors=10, score=0.593, total=   0.0s\n",
      "[CV] algorithm=ball_tree, leaf_size=34, n_neighbors=10 ...............\n",
      "[CV]  algorithm=ball_tree, leaf_size=34, n_neighbors=10, score=0.569, total=   0.0s\n",
      "[CV] algorithm=ball_tree, leaf_size=34, n_neighbors=10 ...............\n",
      "[CV]  algorithm=ball_tree, leaf_size=34, n_neighbors=10, score=0.599, total=   0.0s\n",
      "[CV] algorithm=ball_tree, leaf_size=34, n_neighbors=10 ...............\n",
      "[CV]  algorithm=ball_tree, leaf_size=34, n_neighbors=10, score=0.614, total=   0.0s\n",
      "[CV] algorithm=ball_tree, leaf_size=34, n_neighbors=10 ...............\n",
      "[CV]  algorithm=ball_tree, leaf_size=34, n_neighbors=10, score=0.581, total=   0.0s\n",
      "[CV] algorithm=ball_tree, leaf_size=34, n_neighbors=11 ...............\n",
      "[CV]  algorithm=ball_tree, leaf_size=34, n_neighbors=11, score=0.596, total=   0.0s\n",
      "[CV] algorithm=ball_tree, leaf_size=34, n_neighbors=11 ...............\n",
      "[CV]  algorithm=ball_tree, leaf_size=34, n_neighbors=11, score=0.548, total=   0.0s\n",
      "[CV] algorithm=ball_tree, leaf_size=34, n_neighbors=11 ...............\n",
      "[CV]  algorithm=ball_tree, leaf_size=34, n_neighbors=11, score=0.587, total=   0.0s\n",
      "[CV] algorithm=ball_tree, leaf_size=34, n_neighbors=11 ...............\n",
      "[CV]  algorithm=ball_tree, leaf_size=34, n_neighbors=11, score=0.635, total=   0.0s\n",
      "[CV] algorithm=ball_tree, leaf_size=34, n_neighbors=11 ...............\n",
      "[CV]  algorithm=ball_tree, leaf_size=34, n_neighbors=11, score=0.572, total=   0.0s\n",
      "[CV] algorithm=ball_tree, leaf_size=34, n_neighbors=12 ...............\n",
      "[CV]  algorithm=ball_tree, leaf_size=34, n_neighbors=12, score=0.602, total=   0.0s\n",
      "[CV] algorithm=ball_tree, leaf_size=34, n_neighbors=12 ...............\n",
      "[CV]  algorithm=ball_tree, leaf_size=34, n_neighbors=12, score=0.560, total=   0.1s\n",
      "[CV] algorithm=ball_tree, leaf_size=34, n_neighbors=12 ...............\n",
      "[CV]  algorithm=ball_tree, leaf_size=34, n_neighbors=12, score=0.608, total=   0.0s\n",
      "[CV] algorithm=ball_tree, leaf_size=34, n_neighbors=12 ...............\n",
      "[CV]  algorithm=ball_tree, leaf_size=34, n_neighbors=12, score=0.611, total=   0.0s\n",
      "[CV] algorithm=ball_tree, leaf_size=34, n_neighbors=12 ...............\n",
      "[CV]  algorithm=ball_tree, leaf_size=34, n_neighbors=12, score=0.578, total=   0.0s\n",
      "[CV] algorithm=ball_tree, leaf_size=34, n_neighbors=13 ...............\n",
      "[CV]  algorithm=ball_tree, leaf_size=34, n_neighbors=13, score=0.581, total=   0.0s\n",
      "[CV] algorithm=ball_tree, leaf_size=34, n_neighbors=13 ...............\n",
      "[CV]  algorithm=ball_tree, leaf_size=34, n_neighbors=13, score=0.572, total=   0.0s\n",
      "[CV] algorithm=ball_tree, leaf_size=34, n_neighbors=13 ...............\n",
      "[CV]  algorithm=ball_tree, leaf_size=34, n_neighbors=13, score=0.575, total=   0.0s\n",
      "[CV] algorithm=ball_tree, leaf_size=34, n_neighbors=13 ...............\n",
      "[CV]  algorithm=ball_tree, leaf_size=34, n_neighbors=13, score=0.605, total=   0.0s\n",
      "[CV] algorithm=ball_tree, leaf_size=34, n_neighbors=13 ...............\n",
      "[CV]  algorithm=ball_tree, leaf_size=34, n_neighbors=13, score=0.566, total=   0.0s\n",
      "[CV] algorithm=kd_tree, leaf_size=18, n_neighbors=3 ..................\n",
      "[CV]  algorithm=kd_tree, leaf_size=18, n_neighbors=3, score=0.566, total=   0.0s\n",
      "[CV] algorithm=kd_tree, leaf_size=18, n_neighbors=3 ..................\n",
      "[CV]  algorithm=kd_tree, leaf_size=18, n_neighbors=3, score=0.566, total=   0.0s\n",
      "[CV] algorithm=kd_tree, leaf_size=18, n_neighbors=3 ..................\n",
      "[CV]  algorithm=kd_tree, leaf_size=18, n_neighbors=3, score=0.584, total=   0.1s\n",
      "[CV] algorithm=kd_tree, leaf_size=18, n_neighbors=3 ..................\n",
      "[CV]  algorithm=kd_tree, leaf_size=18, n_neighbors=3, score=0.521, total=   0.0s\n",
      "[CV] algorithm=kd_tree, leaf_size=18, n_neighbors=3 ..................\n",
      "[CV]  algorithm=kd_tree, leaf_size=18, n_neighbors=3, score=0.548, total=   0.0s\n",
      "[CV] algorithm=kd_tree, leaf_size=18, n_neighbors=5 ..................\n",
      "[CV]  algorithm=kd_tree, leaf_size=18, n_neighbors=5, score=0.584, total=   0.0s\n",
      "[CV] algorithm=kd_tree, leaf_size=18, n_neighbors=5 ..................\n",
      "[CV]  algorithm=kd_tree, leaf_size=18, n_neighbors=5, score=0.578, total=   0.0s\n",
      "[CV] algorithm=kd_tree, leaf_size=18, n_neighbors=5 ..................\n",
      "[CV]  algorithm=kd_tree, leaf_size=18, n_neighbors=5, score=0.602, total=   0.0s\n",
      "[CV] algorithm=kd_tree, leaf_size=18, n_neighbors=5 ..................\n",
      "[CV]  algorithm=kd_tree, leaf_size=18, n_neighbors=5, score=0.617, total=   0.0s\n",
      "[CV] algorithm=kd_tree, leaf_size=18, n_neighbors=5 ..................\n",
      "[CV]  algorithm=kd_tree, leaf_size=18, n_neighbors=5, score=0.572, total=   0.0s\n",
      "[CV] algorithm=kd_tree, leaf_size=18, n_neighbors=7 ..................\n",
      "[CV]  algorithm=kd_tree, leaf_size=18, n_neighbors=7, score=0.584, total=   0.0s\n",
      "[CV] algorithm=kd_tree, leaf_size=18, n_neighbors=7 ..................\n",
      "[CV]  algorithm=kd_tree, leaf_size=18, n_neighbors=7, score=0.563, total=   0.0s\n",
      "[CV] algorithm=kd_tree, leaf_size=18, n_neighbors=7 ..................\n",
      "[CV]  algorithm=kd_tree, leaf_size=18, n_neighbors=7, score=0.581, total=   0.0s\n",
      "[CV] algorithm=kd_tree, leaf_size=18, n_neighbors=7 ..................\n",
      "[CV]  algorithm=kd_tree, leaf_size=18, n_neighbors=7, score=0.611, total=   0.0s\n",
      "[CV] algorithm=kd_tree, leaf_size=18, n_neighbors=7 ..................\n",
      "[CV]  algorithm=kd_tree, leaf_size=18, n_neighbors=7, score=0.575, total=   0.0s\n",
      "[CV] algorithm=kd_tree, leaf_size=18, n_neighbors=9 ..................\n",
      "[CV]  algorithm=kd_tree, leaf_size=18, n_neighbors=9, score=0.575, total=   0.1s\n",
      "[CV] algorithm=kd_tree, leaf_size=18, n_neighbors=9 ..................\n",
      "[CV]  algorithm=kd_tree, leaf_size=18, n_neighbors=9, score=0.578, total=   0.0s\n",
      "[CV] algorithm=kd_tree, leaf_size=18, n_neighbors=9 ..................\n",
      "[CV]  algorithm=kd_tree, leaf_size=18, n_neighbors=9, score=0.620, total=   0.0s\n",
      "[CV] algorithm=kd_tree, leaf_size=18, n_neighbors=9 ..................\n",
      "[CV]  algorithm=kd_tree, leaf_size=18, n_neighbors=9, score=0.590, total=   0.0s\n",
      "[CV] algorithm=kd_tree, leaf_size=18, n_neighbors=9 ..................\n",
      "[CV]  algorithm=kd_tree, leaf_size=18, n_neighbors=9, score=0.602, total=   0.1s\n",
      "[CV] algorithm=kd_tree, leaf_size=18, n_neighbors=10 .................\n",
      "[CV]  algorithm=kd_tree, leaf_size=18, n_neighbors=10, score=0.593, total=   0.1s\n",
      "[CV] algorithm=kd_tree, leaf_size=18, n_neighbors=10 .................\n",
      "[CV]  algorithm=kd_tree, leaf_size=18, n_neighbors=10, score=0.569, total=   0.0s\n",
      "[CV] algorithm=kd_tree, leaf_size=18, n_neighbors=10 .................\n",
      "[CV]  algorithm=kd_tree, leaf_size=18, n_neighbors=10, score=0.599, total=   0.0s\n",
      "[CV] algorithm=kd_tree, leaf_size=18, n_neighbors=10 .................\n",
      "[CV]  algorithm=kd_tree, leaf_size=18, n_neighbors=10, score=0.614, total=   0.0s\n",
      "[CV] algorithm=kd_tree, leaf_size=18, n_neighbors=10 .................\n",
      "[CV]  algorithm=kd_tree, leaf_size=18, n_neighbors=10, score=0.581, total=   0.0s\n",
      "[CV] algorithm=kd_tree, leaf_size=18, n_neighbors=11 .................\n",
      "[CV]  algorithm=kd_tree, leaf_size=18, n_neighbors=11, score=0.596, total=   0.0s\n",
      "[CV] algorithm=kd_tree, leaf_size=18, n_neighbors=11 .................\n",
      "[CV]  algorithm=kd_tree, leaf_size=18, n_neighbors=11, score=0.548, total=   0.0s\n",
      "[CV] algorithm=kd_tree, leaf_size=18, n_neighbors=11 .................\n",
      "[CV]  algorithm=kd_tree, leaf_size=18, n_neighbors=11, score=0.587, total=   0.0s\n",
      "[CV] algorithm=kd_tree, leaf_size=18, n_neighbors=11 .................\n",
      "[CV]  algorithm=kd_tree, leaf_size=18, n_neighbors=11, score=0.635, total=   0.0s\n",
      "[CV] algorithm=kd_tree, leaf_size=18, n_neighbors=11 .................\n",
      "[CV]  algorithm=kd_tree, leaf_size=18, n_neighbors=11, score=0.572, total=   0.0s\n",
      "[CV] algorithm=kd_tree, leaf_size=18, n_neighbors=12 .................\n",
      "[CV]  algorithm=kd_tree, leaf_size=18, n_neighbors=12, score=0.602, total=   0.0s\n",
      "[CV] algorithm=kd_tree, leaf_size=18, n_neighbors=12 .................\n",
      "[CV]  algorithm=kd_tree, leaf_size=18, n_neighbors=12, score=0.560, total=   0.1s\n",
      "[CV] algorithm=kd_tree, leaf_size=18, n_neighbors=12 .................\n",
      "[CV]  algorithm=kd_tree, leaf_size=18, n_neighbors=12, score=0.608, total=   0.0s\n",
      "[CV] algorithm=kd_tree, leaf_size=18, n_neighbors=12 .................\n",
      "[CV]  algorithm=kd_tree, leaf_size=18, n_neighbors=12, score=0.611, total=   0.0s\n",
      "[CV] algorithm=kd_tree, leaf_size=18, n_neighbors=12 .................\n",
      "[CV]  algorithm=kd_tree, leaf_size=18, n_neighbors=12, score=0.578, total=   0.0s\n",
      "[CV] algorithm=kd_tree, leaf_size=18, n_neighbors=13 .................\n",
      "[CV]  algorithm=kd_tree, leaf_size=18, n_neighbors=13, score=0.581, total=   0.0s\n",
      "[CV] algorithm=kd_tree, leaf_size=18, n_neighbors=13 .................\n",
      "[CV]  algorithm=kd_tree, leaf_size=18, n_neighbors=13, score=0.572, total=   0.0s\n",
      "[CV] algorithm=kd_tree, leaf_size=18, n_neighbors=13 .................\n",
      "[CV]  algorithm=kd_tree, leaf_size=18, n_neighbors=13, score=0.575, total=   0.0s\n",
      "[CV] algorithm=kd_tree, leaf_size=18, n_neighbors=13 .................\n",
      "[CV]  algorithm=kd_tree, leaf_size=18, n_neighbors=13, score=0.605, total=   0.0s\n",
      "[CV] algorithm=kd_tree, leaf_size=18, n_neighbors=13 .................\n",
      "[CV]  algorithm=kd_tree, leaf_size=18, n_neighbors=13, score=0.566, total=   0.0s\n",
      "[CV] algorithm=kd_tree, leaf_size=20, n_neighbors=3 ..................\n",
      "[CV]  algorithm=kd_tree, leaf_size=20, n_neighbors=3, score=0.566, total=   0.0s\n",
      "[CV] algorithm=kd_tree, leaf_size=20, n_neighbors=3 ..................\n",
      "[CV]  algorithm=kd_tree, leaf_size=20, n_neighbors=3, score=0.566, total=   0.0s\n",
      "[CV] algorithm=kd_tree, leaf_size=20, n_neighbors=3 ..................\n",
      "[CV]  algorithm=kd_tree, leaf_size=20, n_neighbors=3, score=0.584, total=   0.0s\n",
      "[CV] algorithm=kd_tree, leaf_size=20, n_neighbors=3 ..................\n",
      "[CV]  algorithm=kd_tree, leaf_size=20, n_neighbors=3, score=0.521, total=   0.0s\n",
      "[CV] algorithm=kd_tree, leaf_size=20, n_neighbors=3 ..................\n",
      "[CV]  algorithm=kd_tree, leaf_size=20, n_neighbors=3, score=0.548, total=   0.0s\n",
      "[CV] algorithm=kd_tree, leaf_size=20, n_neighbors=5 ..................\n",
      "[CV]  algorithm=kd_tree, leaf_size=20, n_neighbors=5, score=0.584, total=   0.0s\n",
      "[CV] algorithm=kd_tree, leaf_size=20, n_neighbors=5 ..................\n",
      "[CV]  algorithm=kd_tree, leaf_size=20, n_neighbors=5, score=0.578, total=   0.0s\n",
      "[CV] algorithm=kd_tree, leaf_size=20, n_neighbors=5 ..................\n",
      "[CV]  algorithm=kd_tree, leaf_size=20, n_neighbors=5, score=0.602, total=   0.0s\n",
      "[CV] algorithm=kd_tree, leaf_size=20, n_neighbors=5 ..................\n",
      "[CV]  algorithm=kd_tree, leaf_size=20, n_neighbors=5, score=0.617, total=   0.0s\n",
      "[CV] algorithm=kd_tree, leaf_size=20, n_neighbors=5 ..................\n",
      "[CV]  algorithm=kd_tree, leaf_size=20, n_neighbors=5, score=0.572, total=   0.0s\n",
      "[CV] algorithm=kd_tree, leaf_size=20, n_neighbors=7 ..................\n",
      "[CV]  algorithm=kd_tree, leaf_size=20, n_neighbors=7, score=0.584, total=   0.0s\n",
      "[CV] algorithm=kd_tree, leaf_size=20, n_neighbors=7 ..................\n",
      "[CV]  algorithm=kd_tree, leaf_size=20, n_neighbors=7, score=0.563, total=   0.0s\n",
      "[CV] algorithm=kd_tree, leaf_size=20, n_neighbors=7 ..................\n",
      "[CV]  algorithm=kd_tree, leaf_size=20, n_neighbors=7, score=0.581, total=   0.0s\n",
      "[CV] algorithm=kd_tree, leaf_size=20, n_neighbors=7 ..................\n",
      "[CV]  algorithm=kd_tree, leaf_size=20, n_neighbors=7, score=0.611, total=   0.0s\n",
      "[CV] algorithm=kd_tree, leaf_size=20, n_neighbors=7 ..................\n",
      "[CV]  algorithm=kd_tree, leaf_size=20, n_neighbors=7, score=0.575, total=   0.0s\n",
      "[CV] algorithm=kd_tree, leaf_size=20, n_neighbors=9 ..................\n",
      "[CV]  algorithm=kd_tree, leaf_size=20, n_neighbors=9, score=0.575, total=   0.0s\n",
      "[CV] algorithm=kd_tree, leaf_size=20, n_neighbors=9 ..................\n",
      "[CV]  algorithm=kd_tree, leaf_size=20, n_neighbors=9, score=0.578, total=   0.0s\n",
      "[CV] algorithm=kd_tree, leaf_size=20, n_neighbors=9 ..................\n",
      "[CV]  algorithm=kd_tree, leaf_size=20, n_neighbors=9, score=0.620, total=   0.0s\n",
      "[CV] algorithm=kd_tree, leaf_size=20, n_neighbors=9 ..................\n",
      "[CV]  algorithm=kd_tree, leaf_size=20, n_neighbors=9, score=0.590, total=   0.0s\n",
      "[CV] algorithm=kd_tree, leaf_size=20, n_neighbors=9 ..................\n",
      "[CV]  algorithm=kd_tree, leaf_size=20, n_neighbors=9, score=0.602, total=   0.0s\n",
      "[CV] algorithm=kd_tree, leaf_size=20, n_neighbors=10 .................\n",
      "[CV]  algorithm=kd_tree, leaf_size=20, n_neighbors=10, score=0.593, total=   0.0s\n",
      "[CV] algorithm=kd_tree, leaf_size=20, n_neighbors=10 .................\n",
      "[CV]  algorithm=kd_tree, leaf_size=20, n_neighbors=10, score=0.569, total=   0.0s\n",
      "[CV] algorithm=kd_tree, leaf_size=20, n_neighbors=10 .................\n",
      "[CV]  algorithm=kd_tree, leaf_size=20, n_neighbors=10, score=0.599, total=   0.0s\n",
      "[CV] algorithm=kd_tree, leaf_size=20, n_neighbors=10 .................\n",
      "[CV]  algorithm=kd_tree, leaf_size=20, n_neighbors=10, score=0.614, total=   0.0s\n",
      "[CV] algorithm=kd_tree, leaf_size=20, n_neighbors=10 .................\n",
      "[CV]  algorithm=kd_tree, leaf_size=20, n_neighbors=10, score=0.581, total=   0.0s\n",
      "[CV] algorithm=kd_tree, leaf_size=20, n_neighbors=11 .................\n",
      "[CV]  algorithm=kd_tree, leaf_size=20, n_neighbors=11, score=0.596, total=   0.0s\n",
      "[CV] algorithm=kd_tree, leaf_size=20, n_neighbors=11 .................\n",
      "[CV]  algorithm=kd_tree, leaf_size=20, n_neighbors=11, score=0.548, total=   0.0s\n",
      "[CV] algorithm=kd_tree, leaf_size=20, n_neighbors=11 .................\n",
      "[CV]  algorithm=kd_tree, leaf_size=20, n_neighbors=11, score=0.587, total=   0.0s\n",
      "[CV] algorithm=kd_tree, leaf_size=20, n_neighbors=11 .................\n",
      "[CV]  algorithm=kd_tree, leaf_size=20, n_neighbors=11, score=0.635, total=   0.0s\n",
      "[CV] algorithm=kd_tree, leaf_size=20, n_neighbors=11 .................\n",
      "[CV]  algorithm=kd_tree, leaf_size=20, n_neighbors=11, score=0.572, total=   0.0s\n",
      "[CV] algorithm=kd_tree, leaf_size=20, n_neighbors=12 .................\n",
      "[CV]  algorithm=kd_tree, leaf_size=20, n_neighbors=12, score=0.602, total=   0.0s\n",
      "[CV] algorithm=kd_tree, leaf_size=20, n_neighbors=12 .................\n",
      "[CV]  algorithm=kd_tree, leaf_size=20, n_neighbors=12, score=0.560, total=   0.0s\n",
      "[CV] algorithm=kd_tree, leaf_size=20, n_neighbors=12 .................\n",
      "[CV]  algorithm=kd_tree, leaf_size=20, n_neighbors=12, score=0.608, total=   0.0s\n",
      "[CV] algorithm=kd_tree, leaf_size=20, n_neighbors=12 .................\n",
      "[CV]  algorithm=kd_tree, leaf_size=20, n_neighbors=12, score=0.611, total=   0.0s\n",
      "[CV] algorithm=kd_tree, leaf_size=20, n_neighbors=12 .................\n",
      "[CV]  algorithm=kd_tree, leaf_size=20, n_neighbors=12, score=0.578, total=   0.0s\n",
      "[CV] algorithm=kd_tree, leaf_size=20, n_neighbors=13 .................\n",
      "[CV]  algorithm=kd_tree, leaf_size=20, n_neighbors=13, score=0.581, total=   0.0s\n",
      "[CV] algorithm=kd_tree, leaf_size=20, n_neighbors=13 .................\n",
      "[CV]  algorithm=kd_tree, leaf_size=20, n_neighbors=13, score=0.572, total=   0.0s\n",
      "[CV] algorithm=kd_tree, leaf_size=20, n_neighbors=13 .................\n",
      "[CV]  algorithm=kd_tree, leaf_size=20, n_neighbors=13, score=0.575, total=   0.0s\n",
      "[CV] algorithm=kd_tree, leaf_size=20, n_neighbors=13 .................\n",
      "[CV]  algorithm=kd_tree, leaf_size=20, n_neighbors=13, score=0.605, total=   0.0s\n",
      "[CV] algorithm=kd_tree, leaf_size=20, n_neighbors=13 .................\n",
      "[CV]  algorithm=kd_tree, leaf_size=20, n_neighbors=13, score=0.566, total=   0.0s\n",
      "[CV] algorithm=kd_tree, leaf_size=25, n_neighbors=3 ..................\n",
      "[CV]  algorithm=kd_tree, leaf_size=25, n_neighbors=3, score=0.566, total=   0.0s\n",
      "[CV] algorithm=kd_tree, leaf_size=25, n_neighbors=3 ..................\n",
      "[CV]  algorithm=kd_tree, leaf_size=25, n_neighbors=3, score=0.566, total=   0.0s\n",
      "[CV] algorithm=kd_tree, leaf_size=25, n_neighbors=3 ..................\n",
      "[CV]  algorithm=kd_tree, leaf_size=25, n_neighbors=3, score=0.584, total=   0.0s\n",
      "[CV] algorithm=kd_tree, leaf_size=25, n_neighbors=3 ..................\n",
      "[CV]  algorithm=kd_tree, leaf_size=25, n_neighbors=3, score=0.521, total=   0.0s\n",
      "[CV] algorithm=kd_tree, leaf_size=25, n_neighbors=3 ..................\n",
      "[CV]  algorithm=kd_tree, leaf_size=25, n_neighbors=3, score=0.548, total=   0.0s\n",
      "[CV] algorithm=kd_tree, leaf_size=25, n_neighbors=5 ..................\n",
      "[CV]  algorithm=kd_tree, leaf_size=25, n_neighbors=5, score=0.584, total=   0.0s\n",
      "[CV] algorithm=kd_tree, leaf_size=25, n_neighbors=5 ..................\n",
      "[CV]  algorithm=kd_tree, leaf_size=25, n_neighbors=5, score=0.578, total=   0.0s\n",
      "[CV] algorithm=kd_tree, leaf_size=25, n_neighbors=5 ..................\n",
      "[CV]  algorithm=kd_tree, leaf_size=25, n_neighbors=5, score=0.602, total=   0.0s\n",
      "[CV] algorithm=kd_tree, leaf_size=25, n_neighbors=5 ..................\n",
      "[CV]  algorithm=kd_tree, leaf_size=25, n_neighbors=5, score=0.617, total=   0.0s\n",
      "[CV] algorithm=kd_tree, leaf_size=25, n_neighbors=5 ..................\n",
      "[CV]  algorithm=kd_tree, leaf_size=25, n_neighbors=5, score=0.572, total=   0.0s\n",
      "[CV] algorithm=kd_tree, leaf_size=25, n_neighbors=7 ..................\n",
      "[CV]  algorithm=kd_tree, leaf_size=25, n_neighbors=7, score=0.584, total=   0.0s\n",
      "[CV] algorithm=kd_tree, leaf_size=25, n_neighbors=7 ..................\n",
      "[CV]  algorithm=kd_tree, leaf_size=25, n_neighbors=7, score=0.563, total=   0.0s\n",
      "[CV] algorithm=kd_tree, leaf_size=25, n_neighbors=7 ..................\n",
      "[CV]  algorithm=kd_tree, leaf_size=25, n_neighbors=7, score=0.581, total=   0.0s\n",
      "[CV] algorithm=kd_tree, leaf_size=25, n_neighbors=7 ..................\n",
      "[CV]  algorithm=kd_tree, leaf_size=25, n_neighbors=7, score=0.611, total=   0.0s\n",
      "[CV] algorithm=kd_tree, leaf_size=25, n_neighbors=7 ..................\n",
      "[CV]  algorithm=kd_tree, leaf_size=25, n_neighbors=7, score=0.575, total=   0.0s\n",
      "[CV] algorithm=kd_tree, leaf_size=25, n_neighbors=9 ..................\n",
      "[CV]  algorithm=kd_tree, leaf_size=25, n_neighbors=9, score=0.575, total=   0.0s\n",
      "[CV] algorithm=kd_tree, leaf_size=25, n_neighbors=9 ..................\n",
      "[CV]  algorithm=kd_tree, leaf_size=25, n_neighbors=9, score=0.578, total=   0.0s\n",
      "[CV] algorithm=kd_tree, leaf_size=25, n_neighbors=9 ..................\n",
      "[CV]  algorithm=kd_tree, leaf_size=25, n_neighbors=9, score=0.620, total=   0.0s\n",
      "[CV] algorithm=kd_tree, leaf_size=25, n_neighbors=9 ..................\n",
      "[CV]  algorithm=kd_tree, leaf_size=25, n_neighbors=9, score=0.590, total=   0.0s\n",
      "[CV] algorithm=kd_tree, leaf_size=25, n_neighbors=9 ..................\n",
      "[CV]  algorithm=kd_tree, leaf_size=25, n_neighbors=9, score=0.602, total=   0.0s\n",
      "[CV] algorithm=kd_tree, leaf_size=25, n_neighbors=10 .................\n",
      "[CV]  algorithm=kd_tree, leaf_size=25, n_neighbors=10, score=0.593, total=   0.0s\n",
      "[CV] algorithm=kd_tree, leaf_size=25, n_neighbors=10 .................\n",
      "[CV]  algorithm=kd_tree, leaf_size=25, n_neighbors=10, score=0.569, total=   0.0s\n",
      "[CV] algorithm=kd_tree, leaf_size=25, n_neighbors=10 .................\n",
      "[CV]  algorithm=kd_tree, leaf_size=25, n_neighbors=10, score=0.599, total=   0.0s\n",
      "[CV] algorithm=kd_tree, leaf_size=25, n_neighbors=10 .................\n",
      "[CV]  algorithm=kd_tree, leaf_size=25, n_neighbors=10, score=0.614, total=   0.0s\n",
      "[CV] algorithm=kd_tree, leaf_size=25, n_neighbors=10 .................\n",
      "[CV]  algorithm=kd_tree, leaf_size=25, n_neighbors=10, score=0.581, total=   0.0s\n",
      "[CV] algorithm=kd_tree, leaf_size=25, n_neighbors=11 .................\n",
      "[CV]  algorithm=kd_tree, leaf_size=25, n_neighbors=11, score=0.596, total=   0.0s\n",
      "[CV] algorithm=kd_tree, leaf_size=25, n_neighbors=11 .................\n",
      "[CV]  algorithm=kd_tree, leaf_size=25, n_neighbors=11, score=0.548, total=   0.0s\n",
      "[CV] algorithm=kd_tree, leaf_size=25, n_neighbors=11 .................\n",
      "[CV]  algorithm=kd_tree, leaf_size=25, n_neighbors=11, score=0.587, total=   0.0s\n",
      "[CV] algorithm=kd_tree, leaf_size=25, n_neighbors=11 .................\n",
      "[CV]  algorithm=kd_tree, leaf_size=25, n_neighbors=11, score=0.635, total=   0.0s\n",
      "[CV] algorithm=kd_tree, leaf_size=25, n_neighbors=11 .................\n",
      "[CV]  algorithm=kd_tree, leaf_size=25, n_neighbors=11, score=0.572, total=   0.0s\n",
      "[CV] algorithm=kd_tree, leaf_size=25, n_neighbors=12 .................\n",
      "[CV]  algorithm=kd_tree, leaf_size=25, n_neighbors=12, score=0.602, total=   0.0s\n",
      "[CV] algorithm=kd_tree, leaf_size=25, n_neighbors=12 .................\n",
      "[CV]  algorithm=kd_tree, leaf_size=25, n_neighbors=12, score=0.560, total=   0.0s\n",
      "[CV] algorithm=kd_tree, leaf_size=25, n_neighbors=12 .................\n",
      "[CV]  algorithm=kd_tree, leaf_size=25, n_neighbors=12, score=0.608, total=   0.0s\n",
      "[CV] algorithm=kd_tree, leaf_size=25, n_neighbors=12 .................\n",
      "[CV]  algorithm=kd_tree, leaf_size=25, n_neighbors=12, score=0.611, total=   0.0s\n",
      "[CV] algorithm=kd_tree, leaf_size=25, n_neighbors=12 .................\n",
      "[CV]  algorithm=kd_tree, leaf_size=25, n_neighbors=12, score=0.578, total=   0.0s\n",
      "[CV] algorithm=kd_tree, leaf_size=25, n_neighbors=13 .................\n",
      "[CV]  algorithm=kd_tree, leaf_size=25, n_neighbors=13, score=0.581, total=   0.0s\n",
      "[CV] algorithm=kd_tree, leaf_size=25, n_neighbors=13 .................\n",
      "[CV]  algorithm=kd_tree, leaf_size=25, n_neighbors=13, score=0.572, total=   0.0s\n",
      "[CV] algorithm=kd_tree, leaf_size=25, n_neighbors=13 .................\n",
      "[CV]  algorithm=kd_tree, leaf_size=25, n_neighbors=13, score=0.575, total=   0.0s\n",
      "[CV] algorithm=kd_tree, leaf_size=25, n_neighbors=13 .................\n",
      "[CV]  algorithm=kd_tree, leaf_size=25, n_neighbors=13, score=0.605, total=   0.0s\n",
      "[CV] algorithm=kd_tree, leaf_size=25, n_neighbors=13 .................\n",
      "[CV]  algorithm=kd_tree, leaf_size=25, n_neighbors=13, score=0.566, total=   0.1s\n",
      "[CV] algorithm=kd_tree, leaf_size=27, n_neighbors=3 ..................\n",
      "[CV]  algorithm=kd_tree, leaf_size=27, n_neighbors=3, score=0.566, total=   0.0s\n",
      "[CV] algorithm=kd_tree, leaf_size=27, n_neighbors=3 ..................\n",
      "[CV]  algorithm=kd_tree, leaf_size=27, n_neighbors=3, score=0.566, total=   0.0s\n",
      "[CV] algorithm=kd_tree, leaf_size=27, n_neighbors=3 ..................\n",
      "[CV]  algorithm=kd_tree, leaf_size=27, n_neighbors=3, score=0.584, total=   0.1s\n",
      "[CV] algorithm=kd_tree, leaf_size=27, n_neighbors=3 ..................\n",
      "[CV]  algorithm=kd_tree, leaf_size=27, n_neighbors=3, score=0.521, total=   0.1s\n",
      "[CV] algorithm=kd_tree, leaf_size=27, n_neighbors=3 ..................\n",
      "[CV]  algorithm=kd_tree, leaf_size=27, n_neighbors=3, score=0.548, total=   0.1s\n",
      "[CV] algorithm=kd_tree, leaf_size=27, n_neighbors=5 ..................\n",
      "[CV]  algorithm=kd_tree, leaf_size=27, n_neighbors=5, score=0.584, total=   0.1s\n",
      "[CV] algorithm=kd_tree, leaf_size=27, n_neighbors=5 ..................\n",
      "[CV]  algorithm=kd_tree, leaf_size=27, n_neighbors=5, score=0.578, total=   0.0s\n",
      "[CV] algorithm=kd_tree, leaf_size=27, n_neighbors=5 ..................\n",
      "[CV]  algorithm=kd_tree, leaf_size=27, n_neighbors=5, score=0.602, total=   0.0s\n",
      "[CV] algorithm=kd_tree, leaf_size=27, n_neighbors=5 ..................\n",
      "[CV]  algorithm=kd_tree, leaf_size=27, n_neighbors=5, score=0.617, total=   0.1s\n",
      "[CV] algorithm=kd_tree, leaf_size=27, n_neighbors=5 ..................\n",
      "[CV]  algorithm=kd_tree, leaf_size=27, n_neighbors=5, score=0.572, total=   0.1s\n",
      "[CV] algorithm=kd_tree, leaf_size=27, n_neighbors=7 ..................\n",
      "[CV]  algorithm=kd_tree, leaf_size=27, n_neighbors=7, score=0.584, total=   0.1s\n",
      "[CV] algorithm=kd_tree, leaf_size=27, n_neighbors=7 ..................\n",
      "[CV]  algorithm=kd_tree, leaf_size=27, n_neighbors=7, score=0.563, total=   0.0s\n",
      "[CV] algorithm=kd_tree, leaf_size=27, n_neighbors=7 ..................\n",
      "[CV]  algorithm=kd_tree, leaf_size=27, n_neighbors=7, score=0.581, total=   0.0s\n",
      "[CV] algorithm=kd_tree, leaf_size=27, n_neighbors=7 ..................\n",
      "[CV]  algorithm=kd_tree, leaf_size=27, n_neighbors=7, score=0.611, total=   0.0s\n",
      "[CV] algorithm=kd_tree, leaf_size=27, n_neighbors=7 ..................\n",
      "[CV]  algorithm=kd_tree, leaf_size=27, n_neighbors=7, score=0.575, total=   0.0s\n",
      "[CV] algorithm=kd_tree, leaf_size=27, n_neighbors=9 ..................\n",
      "[CV]  algorithm=kd_tree, leaf_size=27, n_neighbors=9, score=0.575, total=   0.0s\n",
      "[CV] algorithm=kd_tree, leaf_size=27, n_neighbors=9 ..................\n",
      "[CV]  algorithm=kd_tree, leaf_size=27, n_neighbors=9, score=0.578, total=   0.0s\n",
      "[CV] algorithm=kd_tree, leaf_size=27, n_neighbors=9 ..................\n",
      "[CV]  algorithm=kd_tree, leaf_size=27, n_neighbors=9, score=0.620, total=   0.0s\n",
      "[CV] algorithm=kd_tree, leaf_size=27, n_neighbors=9 ..................\n",
      "[CV]  algorithm=kd_tree, leaf_size=27, n_neighbors=9, score=0.590, total=   0.0s\n",
      "[CV] algorithm=kd_tree, leaf_size=27, n_neighbors=9 ..................\n",
      "[CV]  algorithm=kd_tree, leaf_size=27, n_neighbors=9, score=0.602, total=   0.0s\n",
      "[CV] algorithm=kd_tree, leaf_size=27, n_neighbors=10 .................\n",
      "[CV]  algorithm=kd_tree, leaf_size=27, n_neighbors=10, score=0.593, total=   0.0s\n",
      "[CV] algorithm=kd_tree, leaf_size=27, n_neighbors=10 .................\n",
      "[CV]  algorithm=kd_tree, leaf_size=27, n_neighbors=10, score=0.569, total=   0.0s\n",
      "[CV] algorithm=kd_tree, leaf_size=27, n_neighbors=10 .................\n",
      "[CV]  algorithm=kd_tree, leaf_size=27, n_neighbors=10, score=0.599, total=   0.0s\n",
      "[CV] algorithm=kd_tree, leaf_size=27, n_neighbors=10 .................\n",
      "[CV]  algorithm=kd_tree, leaf_size=27, n_neighbors=10, score=0.614, total=   0.0s\n",
      "[CV] algorithm=kd_tree, leaf_size=27, n_neighbors=10 .................\n",
      "[CV]  algorithm=kd_tree, leaf_size=27, n_neighbors=10, score=0.581, total=   0.0s\n",
      "[CV] algorithm=kd_tree, leaf_size=27, n_neighbors=11 .................\n",
      "[CV]  algorithm=kd_tree, leaf_size=27, n_neighbors=11, score=0.596, total=   0.0s\n",
      "[CV] algorithm=kd_tree, leaf_size=27, n_neighbors=11 .................\n",
      "[CV]  algorithm=kd_tree, leaf_size=27, n_neighbors=11, score=0.548, total=   0.0s\n",
      "[CV] algorithm=kd_tree, leaf_size=27, n_neighbors=11 .................\n",
      "[CV]  algorithm=kd_tree, leaf_size=27, n_neighbors=11, score=0.587, total=   0.0s\n",
      "[CV] algorithm=kd_tree, leaf_size=27, n_neighbors=11 .................\n",
      "[CV]  algorithm=kd_tree, leaf_size=27, n_neighbors=11, score=0.635, total=   0.0s\n",
      "[CV] algorithm=kd_tree, leaf_size=27, n_neighbors=11 .................\n",
      "[CV]  algorithm=kd_tree, leaf_size=27, n_neighbors=11, score=0.572, total=   0.0s\n",
      "[CV] algorithm=kd_tree, leaf_size=27, n_neighbors=12 .................\n",
      "[CV]  algorithm=kd_tree, leaf_size=27, n_neighbors=12, score=0.602, total=   0.0s\n",
      "[CV] algorithm=kd_tree, leaf_size=27, n_neighbors=12 .................\n",
      "[CV]  algorithm=kd_tree, leaf_size=27, n_neighbors=12, score=0.560, total=   0.0s\n",
      "[CV] algorithm=kd_tree, leaf_size=27, n_neighbors=12 .................\n",
      "[CV]  algorithm=kd_tree, leaf_size=27, n_neighbors=12, score=0.608, total=   0.0s\n",
      "[CV] algorithm=kd_tree, leaf_size=27, n_neighbors=12 .................\n",
      "[CV]  algorithm=kd_tree, leaf_size=27, n_neighbors=12, score=0.611, total=   0.0s\n",
      "[CV] algorithm=kd_tree, leaf_size=27, n_neighbors=12 .................\n",
      "[CV]  algorithm=kd_tree, leaf_size=27, n_neighbors=12, score=0.578, total=   0.0s\n",
      "[CV] algorithm=kd_tree, leaf_size=27, n_neighbors=13 .................\n",
      "[CV]  algorithm=kd_tree, leaf_size=27, n_neighbors=13, score=0.581, total=   0.0s\n",
      "[CV] algorithm=kd_tree, leaf_size=27, n_neighbors=13 .................\n",
      "[CV]  algorithm=kd_tree, leaf_size=27, n_neighbors=13, score=0.572, total=   0.0s\n",
      "[CV] algorithm=kd_tree, leaf_size=27, n_neighbors=13 .................\n",
      "[CV]  algorithm=kd_tree, leaf_size=27, n_neighbors=13, score=0.575, total=   0.0s\n",
      "[CV] algorithm=kd_tree, leaf_size=27, n_neighbors=13 .................\n",
      "[CV]  algorithm=kd_tree, leaf_size=27, n_neighbors=13, score=0.605, total=   0.0s\n",
      "[CV] algorithm=kd_tree, leaf_size=27, n_neighbors=13 .................\n",
      "[CV]  algorithm=kd_tree, leaf_size=27, n_neighbors=13, score=0.566, total=   0.0s\n",
      "[CV] algorithm=kd_tree, leaf_size=30, n_neighbors=3 ..................\n",
      "[CV]  algorithm=kd_tree, leaf_size=30, n_neighbors=3, score=0.566, total=   0.0s\n",
      "[CV] algorithm=kd_tree, leaf_size=30, n_neighbors=3 ..................\n",
      "[CV]  algorithm=kd_tree, leaf_size=30, n_neighbors=3, score=0.566, total=   0.0s\n",
      "[CV] algorithm=kd_tree, leaf_size=30, n_neighbors=3 ..................\n",
      "[CV]  algorithm=kd_tree, leaf_size=30, n_neighbors=3, score=0.584, total=   0.0s\n",
      "[CV] algorithm=kd_tree, leaf_size=30, n_neighbors=3 ..................\n",
      "[CV]  algorithm=kd_tree, leaf_size=30, n_neighbors=3, score=0.521, total=   0.0s\n",
      "[CV] algorithm=kd_tree, leaf_size=30, n_neighbors=3 ..................\n",
      "[CV]  algorithm=kd_tree, leaf_size=30, n_neighbors=3, score=0.548, total=   0.0s\n",
      "[CV] algorithm=kd_tree, leaf_size=30, n_neighbors=5 ..................\n",
      "[CV]  algorithm=kd_tree, leaf_size=30, n_neighbors=5, score=0.584, total=   0.0s\n",
      "[CV] algorithm=kd_tree, leaf_size=30, n_neighbors=5 ..................\n",
      "[CV]  algorithm=kd_tree, leaf_size=30, n_neighbors=5, score=0.578, total=   0.0s\n",
      "[CV] algorithm=kd_tree, leaf_size=30, n_neighbors=5 ..................\n",
      "[CV]  algorithm=kd_tree, leaf_size=30, n_neighbors=5, score=0.602, total=   0.0s\n",
      "[CV] algorithm=kd_tree, leaf_size=30, n_neighbors=5 ..................\n",
      "[CV]  algorithm=kd_tree, leaf_size=30, n_neighbors=5, score=0.617, total=   0.0s\n",
      "[CV] algorithm=kd_tree, leaf_size=30, n_neighbors=5 ..................\n",
      "[CV]  algorithm=kd_tree, leaf_size=30, n_neighbors=5, score=0.572, total=   0.0s\n",
      "[CV] algorithm=kd_tree, leaf_size=30, n_neighbors=7 ..................\n",
      "[CV]  algorithm=kd_tree, leaf_size=30, n_neighbors=7, score=0.584, total=   0.0s\n",
      "[CV] algorithm=kd_tree, leaf_size=30, n_neighbors=7 ..................\n",
      "[CV]  algorithm=kd_tree, leaf_size=30, n_neighbors=7, score=0.563, total=   0.0s\n",
      "[CV] algorithm=kd_tree, leaf_size=30, n_neighbors=7 ..................\n",
      "[CV]  algorithm=kd_tree, leaf_size=30, n_neighbors=7, score=0.581, total=   0.0s\n",
      "[CV] algorithm=kd_tree, leaf_size=30, n_neighbors=7 ..................\n",
      "[CV]  algorithm=kd_tree, leaf_size=30, n_neighbors=7, score=0.611, total=   0.0s\n",
      "[CV] algorithm=kd_tree, leaf_size=30, n_neighbors=7 ..................\n",
      "[CV]  algorithm=kd_tree, leaf_size=30, n_neighbors=7, score=0.575, total=   0.0s\n",
      "[CV] algorithm=kd_tree, leaf_size=30, n_neighbors=9 ..................\n",
      "[CV]  algorithm=kd_tree, leaf_size=30, n_neighbors=9, score=0.575, total=   0.0s\n",
      "[CV] algorithm=kd_tree, leaf_size=30, n_neighbors=9 ..................\n",
      "[CV]  algorithm=kd_tree, leaf_size=30, n_neighbors=9, score=0.578, total=   0.0s\n",
      "[CV] algorithm=kd_tree, leaf_size=30, n_neighbors=9 ..................\n",
      "[CV]  algorithm=kd_tree, leaf_size=30, n_neighbors=9, score=0.620, total=   0.0s\n",
      "[CV] algorithm=kd_tree, leaf_size=30, n_neighbors=9 ..................\n",
      "[CV]  algorithm=kd_tree, leaf_size=30, n_neighbors=9, score=0.590, total=   0.0s\n",
      "[CV] algorithm=kd_tree, leaf_size=30, n_neighbors=9 ..................\n",
      "[CV]  algorithm=kd_tree, leaf_size=30, n_neighbors=9, score=0.602, total=   0.0s\n",
      "[CV] algorithm=kd_tree, leaf_size=30, n_neighbors=10 .................\n",
      "[CV]  algorithm=kd_tree, leaf_size=30, n_neighbors=10, score=0.593, total=   0.0s\n",
      "[CV] algorithm=kd_tree, leaf_size=30, n_neighbors=10 .................\n",
      "[CV]  algorithm=kd_tree, leaf_size=30, n_neighbors=10, score=0.569, total=   0.1s\n",
      "[CV] algorithm=kd_tree, leaf_size=30, n_neighbors=10 .................\n",
      "[CV]  algorithm=kd_tree, leaf_size=30, n_neighbors=10, score=0.599, total=   0.1s\n",
      "[CV] algorithm=kd_tree, leaf_size=30, n_neighbors=10 .................\n",
      "[CV]  algorithm=kd_tree, leaf_size=30, n_neighbors=10, score=0.614, total=   0.0s\n",
      "[CV] algorithm=kd_tree, leaf_size=30, n_neighbors=10 .................\n",
      "[CV]  algorithm=kd_tree, leaf_size=30, n_neighbors=10, score=0.581, total=   0.0s\n",
      "[CV] algorithm=kd_tree, leaf_size=30, n_neighbors=11 .................\n",
      "[CV]  algorithm=kd_tree, leaf_size=30, n_neighbors=11, score=0.596, total=   0.0s\n",
      "[CV] algorithm=kd_tree, leaf_size=30, n_neighbors=11 .................\n",
      "[CV]  algorithm=kd_tree, leaf_size=30, n_neighbors=11, score=0.548, total=   0.0s\n",
      "[CV] algorithm=kd_tree, leaf_size=30, n_neighbors=11 .................\n",
      "[CV]  algorithm=kd_tree, leaf_size=30, n_neighbors=11, score=0.587, total=   0.0s\n",
      "[CV] algorithm=kd_tree, leaf_size=30, n_neighbors=11 .................\n",
      "[CV]  algorithm=kd_tree, leaf_size=30, n_neighbors=11, score=0.635, total=   0.0s\n",
      "[CV] algorithm=kd_tree, leaf_size=30, n_neighbors=11 .................\n",
      "[CV]  algorithm=kd_tree, leaf_size=30, n_neighbors=11, score=0.572, total=   0.0s\n",
      "[CV] algorithm=kd_tree, leaf_size=30, n_neighbors=12 .................\n",
      "[CV]  algorithm=kd_tree, leaf_size=30, n_neighbors=12, score=0.602, total=   0.0s\n",
      "[CV] algorithm=kd_tree, leaf_size=30, n_neighbors=12 .................\n",
      "[CV]  algorithm=kd_tree, leaf_size=30, n_neighbors=12, score=0.560, total=   0.0s\n",
      "[CV] algorithm=kd_tree, leaf_size=30, n_neighbors=12 .................\n",
      "[CV]  algorithm=kd_tree, leaf_size=30, n_neighbors=12, score=0.608, total=   0.0s\n",
      "[CV] algorithm=kd_tree, leaf_size=30, n_neighbors=12 .................\n",
      "[CV]  algorithm=kd_tree, leaf_size=30, n_neighbors=12, score=0.611, total=   0.0s\n",
      "[CV] algorithm=kd_tree, leaf_size=30, n_neighbors=12 .................\n",
      "[CV]  algorithm=kd_tree, leaf_size=30, n_neighbors=12, score=0.578, total=   0.1s\n",
      "[CV] algorithm=kd_tree, leaf_size=30, n_neighbors=13 .................\n",
      "[CV]  algorithm=kd_tree, leaf_size=30, n_neighbors=13, score=0.581, total=   0.0s\n",
      "[CV] algorithm=kd_tree, leaf_size=30, n_neighbors=13 .................\n",
      "[CV]  algorithm=kd_tree, leaf_size=30, n_neighbors=13, score=0.572, total=   0.1s\n",
      "[CV] algorithm=kd_tree, leaf_size=30, n_neighbors=13 .................\n",
      "[CV]  algorithm=kd_tree, leaf_size=30, n_neighbors=13, score=0.575, total=   0.0s\n",
      "[CV] algorithm=kd_tree, leaf_size=30, n_neighbors=13 .................\n",
      "[CV]  algorithm=kd_tree, leaf_size=30, n_neighbors=13, score=0.605, total=   0.0s\n",
      "[CV] algorithm=kd_tree, leaf_size=30, n_neighbors=13 .................\n",
      "[CV]  algorithm=kd_tree, leaf_size=30, n_neighbors=13, score=0.566, total=   0.0s\n",
      "[CV] algorithm=kd_tree, leaf_size=32, n_neighbors=3 ..................\n",
      "[CV]  algorithm=kd_tree, leaf_size=32, n_neighbors=3, score=0.566, total=   0.0s\n",
      "[CV] algorithm=kd_tree, leaf_size=32, n_neighbors=3 ..................\n",
      "[CV]  algorithm=kd_tree, leaf_size=32, n_neighbors=3, score=0.566, total=   0.0s\n",
      "[CV] algorithm=kd_tree, leaf_size=32, n_neighbors=3 ..................\n",
      "[CV]  algorithm=kd_tree, leaf_size=32, n_neighbors=3, score=0.584, total=   0.0s\n",
      "[CV] algorithm=kd_tree, leaf_size=32, n_neighbors=3 ..................\n",
      "[CV]  algorithm=kd_tree, leaf_size=32, n_neighbors=3, score=0.521, total=   0.0s\n",
      "[CV] algorithm=kd_tree, leaf_size=32, n_neighbors=3 ..................\n",
      "[CV]  algorithm=kd_tree, leaf_size=32, n_neighbors=3, score=0.548, total=   0.0s\n",
      "[CV] algorithm=kd_tree, leaf_size=32, n_neighbors=5 ..................\n",
      "[CV]  algorithm=kd_tree, leaf_size=32, n_neighbors=5, score=0.584, total=   0.0s\n",
      "[CV] algorithm=kd_tree, leaf_size=32, n_neighbors=5 ..................\n",
      "[CV]  algorithm=kd_tree, leaf_size=32, n_neighbors=5, score=0.578, total=   0.0s\n",
      "[CV] algorithm=kd_tree, leaf_size=32, n_neighbors=5 ..................\n",
      "[CV]  algorithm=kd_tree, leaf_size=32, n_neighbors=5, score=0.602, total=   0.0s\n",
      "[CV] algorithm=kd_tree, leaf_size=32, n_neighbors=5 ..................\n",
      "[CV]  algorithm=kd_tree, leaf_size=32, n_neighbors=5, score=0.617, total=   0.0s\n",
      "[CV] algorithm=kd_tree, leaf_size=32, n_neighbors=5 ..................\n",
      "[CV]  algorithm=kd_tree, leaf_size=32, n_neighbors=5, score=0.572, total=   0.0s\n",
      "[CV] algorithm=kd_tree, leaf_size=32, n_neighbors=7 ..................\n",
      "[CV]  algorithm=kd_tree, leaf_size=32, n_neighbors=7, score=0.584, total=   0.0s\n",
      "[CV] algorithm=kd_tree, leaf_size=32, n_neighbors=7 ..................\n",
      "[CV]  algorithm=kd_tree, leaf_size=32, n_neighbors=7, score=0.563, total=   0.0s\n",
      "[CV] algorithm=kd_tree, leaf_size=32, n_neighbors=7 ..................\n",
      "[CV]  algorithm=kd_tree, leaf_size=32, n_neighbors=7, score=0.581, total=   0.0s\n",
      "[CV] algorithm=kd_tree, leaf_size=32, n_neighbors=7 ..................\n",
      "[CV]  algorithm=kd_tree, leaf_size=32, n_neighbors=7, score=0.611, total=   0.0s\n",
      "[CV] algorithm=kd_tree, leaf_size=32, n_neighbors=7 ..................\n",
      "[CV]  algorithm=kd_tree, leaf_size=32, n_neighbors=7, score=0.575, total=   0.0s\n",
      "[CV] algorithm=kd_tree, leaf_size=32, n_neighbors=9 ..................\n",
      "[CV]  algorithm=kd_tree, leaf_size=32, n_neighbors=9, score=0.575, total=   0.0s\n",
      "[CV] algorithm=kd_tree, leaf_size=32, n_neighbors=9 ..................\n",
      "[CV]  algorithm=kd_tree, leaf_size=32, n_neighbors=9, score=0.578, total=   0.0s\n",
      "[CV] algorithm=kd_tree, leaf_size=32, n_neighbors=9 ..................\n",
      "[CV]  algorithm=kd_tree, leaf_size=32, n_neighbors=9, score=0.620, total=   0.0s\n",
      "[CV] algorithm=kd_tree, leaf_size=32, n_neighbors=9 ..................\n",
      "[CV]  algorithm=kd_tree, leaf_size=32, n_neighbors=9, score=0.590, total=   0.0s\n",
      "[CV] algorithm=kd_tree, leaf_size=32, n_neighbors=9 ..................\n",
      "[CV]  algorithm=kd_tree, leaf_size=32, n_neighbors=9, score=0.602, total=   0.0s\n",
      "[CV] algorithm=kd_tree, leaf_size=32, n_neighbors=10 .................\n",
      "[CV]  algorithm=kd_tree, leaf_size=32, n_neighbors=10, score=0.593, total=   0.0s\n",
      "[CV] algorithm=kd_tree, leaf_size=32, n_neighbors=10 .................\n",
      "[CV]  algorithm=kd_tree, leaf_size=32, n_neighbors=10, score=0.569, total=   0.0s\n",
      "[CV] algorithm=kd_tree, leaf_size=32, n_neighbors=10 .................\n",
      "[CV]  algorithm=kd_tree, leaf_size=32, n_neighbors=10, score=0.599, total=   0.0s\n",
      "[CV] algorithm=kd_tree, leaf_size=32, n_neighbors=10 .................\n",
      "[CV]  algorithm=kd_tree, leaf_size=32, n_neighbors=10, score=0.614, total=   0.0s\n",
      "[CV] algorithm=kd_tree, leaf_size=32, n_neighbors=10 .................\n",
      "[CV]  algorithm=kd_tree, leaf_size=32, n_neighbors=10, score=0.581, total=   0.0s\n",
      "[CV] algorithm=kd_tree, leaf_size=32, n_neighbors=11 .................\n",
      "[CV]  algorithm=kd_tree, leaf_size=32, n_neighbors=11, score=0.596, total=   0.0s\n",
      "[CV] algorithm=kd_tree, leaf_size=32, n_neighbors=11 .................\n",
      "[CV]  algorithm=kd_tree, leaf_size=32, n_neighbors=11, score=0.548, total=   0.0s\n",
      "[CV] algorithm=kd_tree, leaf_size=32, n_neighbors=11 .................\n",
      "[CV]  algorithm=kd_tree, leaf_size=32, n_neighbors=11, score=0.587, total=   0.0s\n",
      "[CV] algorithm=kd_tree, leaf_size=32, n_neighbors=11 .................\n",
      "[CV]  algorithm=kd_tree, leaf_size=32, n_neighbors=11, score=0.635, total=   0.0s\n",
      "[CV] algorithm=kd_tree, leaf_size=32, n_neighbors=11 .................\n",
      "[CV]  algorithm=kd_tree, leaf_size=32, n_neighbors=11, score=0.572, total=   0.0s\n",
      "[CV] algorithm=kd_tree, leaf_size=32, n_neighbors=12 .................\n",
      "[CV]  algorithm=kd_tree, leaf_size=32, n_neighbors=12, score=0.602, total=   0.0s\n",
      "[CV] algorithm=kd_tree, leaf_size=32, n_neighbors=12 .................\n",
      "[CV]  algorithm=kd_tree, leaf_size=32, n_neighbors=12, score=0.560, total=   0.0s\n",
      "[CV] algorithm=kd_tree, leaf_size=32, n_neighbors=12 .................\n",
      "[CV]  algorithm=kd_tree, leaf_size=32, n_neighbors=12, score=0.608, total=   0.0s\n",
      "[CV] algorithm=kd_tree, leaf_size=32, n_neighbors=12 .................\n",
      "[CV]  algorithm=kd_tree, leaf_size=32, n_neighbors=12, score=0.611, total=   0.0s\n",
      "[CV] algorithm=kd_tree, leaf_size=32, n_neighbors=12 .................\n",
      "[CV]  algorithm=kd_tree, leaf_size=32, n_neighbors=12, score=0.578, total=   0.0s\n",
      "[CV] algorithm=kd_tree, leaf_size=32, n_neighbors=13 .................\n",
      "[CV]  algorithm=kd_tree, leaf_size=32, n_neighbors=13, score=0.581, total=   0.0s\n",
      "[CV] algorithm=kd_tree, leaf_size=32, n_neighbors=13 .................\n",
      "[CV]  algorithm=kd_tree, leaf_size=32, n_neighbors=13, score=0.572, total=   0.0s\n",
      "[CV] algorithm=kd_tree, leaf_size=32, n_neighbors=13 .................\n",
      "[CV]  algorithm=kd_tree, leaf_size=32, n_neighbors=13, score=0.575, total=   0.0s\n",
      "[CV] algorithm=kd_tree, leaf_size=32, n_neighbors=13 .................\n",
      "[CV]  algorithm=kd_tree, leaf_size=32, n_neighbors=13, score=0.605, total=   0.0s\n",
      "[CV] algorithm=kd_tree, leaf_size=32, n_neighbors=13 .................\n",
      "[CV]  algorithm=kd_tree, leaf_size=32, n_neighbors=13, score=0.566, total=   0.0s\n",
      "[CV] algorithm=kd_tree, leaf_size=34, n_neighbors=3 ..................\n",
      "[CV]  algorithm=kd_tree, leaf_size=34, n_neighbors=3, score=0.566, total=   0.0s\n",
      "[CV] algorithm=kd_tree, leaf_size=34, n_neighbors=3 ..................\n",
      "[CV]  algorithm=kd_tree, leaf_size=34, n_neighbors=3, score=0.566, total=   0.0s\n",
      "[CV] algorithm=kd_tree, leaf_size=34, n_neighbors=3 ..................\n",
      "[CV]  algorithm=kd_tree, leaf_size=34, n_neighbors=3, score=0.584, total=   0.0s\n",
      "[CV] algorithm=kd_tree, leaf_size=34, n_neighbors=3 ..................\n",
      "[CV]  algorithm=kd_tree, leaf_size=34, n_neighbors=3, score=0.521, total=   0.0s\n",
      "[CV] algorithm=kd_tree, leaf_size=34, n_neighbors=3 ..................\n",
      "[CV]  algorithm=kd_tree, leaf_size=34, n_neighbors=3, score=0.548, total=   0.0s\n",
      "[CV] algorithm=kd_tree, leaf_size=34, n_neighbors=5 ..................\n",
      "[CV]  algorithm=kd_tree, leaf_size=34, n_neighbors=5, score=0.584, total=   0.0s\n",
      "[CV] algorithm=kd_tree, leaf_size=34, n_neighbors=5 ..................\n",
      "[CV]  algorithm=kd_tree, leaf_size=34, n_neighbors=5, score=0.578, total=   0.0s\n",
      "[CV] algorithm=kd_tree, leaf_size=34, n_neighbors=5 ..................\n",
      "[CV]  algorithm=kd_tree, leaf_size=34, n_neighbors=5, score=0.602, total=   0.0s\n",
      "[CV] algorithm=kd_tree, leaf_size=34, n_neighbors=5 ..................\n",
      "[CV]  algorithm=kd_tree, leaf_size=34, n_neighbors=5, score=0.617, total=   0.0s\n",
      "[CV] algorithm=kd_tree, leaf_size=34, n_neighbors=5 ..................\n",
      "[CV]  algorithm=kd_tree, leaf_size=34, n_neighbors=5, score=0.572, total=   0.0s\n",
      "[CV] algorithm=kd_tree, leaf_size=34, n_neighbors=7 ..................\n",
      "[CV]  algorithm=kd_tree, leaf_size=34, n_neighbors=7, score=0.584, total=   0.0s\n",
      "[CV] algorithm=kd_tree, leaf_size=34, n_neighbors=7 ..................\n",
      "[CV]  algorithm=kd_tree, leaf_size=34, n_neighbors=7, score=0.563, total=   0.0s\n",
      "[CV] algorithm=kd_tree, leaf_size=34, n_neighbors=7 ..................\n",
      "[CV]  algorithm=kd_tree, leaf_size=34, n_neighbors=7, score=0.581, total=   0.0s\n",
      "[CV] algorithm=kd_tree, leaf_size=34, n_neighbors=7 ..................\n",
      "[CV]  algorithm=kd_tree, leaf_size=34, n_neighbors=7, score=0.611, total=   0.0s\n",
      "[CV] algorithm=kd_tree, leaf_size=34, n_neighbors=7 ..................\n",
      "[CV]  algorithm=kd_tree, leaf_size=34, n_neighbors=7, score=0.575, total=   0.0s\n",
      "[CV] algorithm=kd_tree, leaf_size=34, n_neighbors=9 ..................\n",
      "[CV]  algorithm=kd_tree, leaf_size=34, n_neighbors=9, score=0.575, total=   0.0s\n",
      "[CV] algorithm=kd_tree, leaf_size=34, n_neighbors=9 ..................\n",
      "[CV]  algorithm=kd_tree, leaf_size=34, n_neighbors=9, score=0.578, total=   0.0s\n",
      "[CV] algorithm=kd_tree, leaf_size=34, n_neighbors=9 ..................\n",
      "[CV]  algorithm=kd_tree, leaf_size=34, n_neighbors=9, score=0.620, total=   0.0s\n",
      "[CV] algorithm=kd_tree, leaf_size=34, n_neighbors=9 ..................\n",
      "[CV]  algorithm=kd_tree, leaf_size=34, n_neighbors=9, score=0.590, total=   0.0s\n",
      "[CV] algorithm=kd_tree, leaf_size=34, n_neighbors=9 ..................\n",
      "[CV]  algorithm=kd_tree, leaf_size=34, n_neighbors=9, score=0.602, total=   0.0s\n",
      "[CV] algorithm=kd_tree, leaf_size=34, n_neighbors=10 .................\n",
      "[CV]  algorithm=kd_tree, leaf_size=34, n_neighbors=10, score=0.593, total=   0.0s\n",
      "[CV] algorithm=kd_tree, leaf_size=34, n_neighbors=10 .................\n",
      "[CV]  algorithm=kd_tree, leaf_size=34, n_neighbors=10, score=0.569, total=   0.0s\n",
      "[CV] algorithm=kd_tree, leaf_size=34, n_neighbors=10 .................\n",
      "[CV]  algorithm=kd_tree, leaf_size=34, n_neighbors=10, score=0.599, total=   0.0s\n",
      "[CV] algorithm=kd_tree, leaf_size=34, n_neighbors=10 .................\n",
      "[CV]  algorithm=kd_tree, leaf_size=34, n_neighbors=10, score=0.614, total=   0.0s\n",
      "[CV] algorithm=kd_tree, leaf_size=34, n_neighbors=10 .................\n",
      "[CV]  algorithm=kd_tree, leaf_size=34, n_neighbors=10, score=0.581, total=   0.0s\n",
      "[CV] algorithm=kd_tree, leaf_size=34, n_neighbors=11 .................\n",
      "[CV]  algorithm=kd_tree, leaf_size=34, n_neighbors=11, score=0.596, total=   0.0s\n",
      "[CV] algorithm=kd_tree, leaf_size=34, n_neighbors=11 .................\n",
      "[CV]  algorithm=kd_tree, leaf_size=34, n_neighbors=11, score=0.548, total=   0.0s\n",
      "[CV] algorithm=kd_tree, leaf_size=34, n_neighbors=11 .................\n",
      "[CV]  algorithm=kd_tree, leaf_size=34, n_neighbors=11, score=0.587, total=   0.0s\n",
      "[CV] algorithm=kd_tree, leaf_size=34, n_neighbors=11 .................\n",
      "[CV]  algorithm=kd_tree, leaf_size=34, n_neighbors=11, score=0.635, total=   0.0s\n",
      "[CV] algorithm=kd_tree, leaf_size=34, n_neighbors=11 .................\n",
      "[CV]  algorithm=kd_tree, leaf_size=34, n_neighbors=11, score=0.572, total=   0.0s\n",
      "[CV] algorithm=kd_tree, leaf_size=34, n_neighbors=12 .................\n",
      "[CV]  algorithm=kd_tree, leaf_size=34, n_neighbors=12, score=0.602, total=   0.0s\n",
      "[CV] algorithm=kd_tree, leaf_size=34, n_neighbors=12 .................\n",
      "[CV]  algorithm=kd_tree, leaf_size=34, n_neighbors=12, score=0.560, total=   0.0s\n",
      "[CV] algorithm=kd_tree, leaf_size=34, n_neighbors=12 .................\n",
      "[CV]  algorithm=kd_tree, leaf_size=34, n_neighbors=12, score=0.608, total=   0.0s\n",
      "[CV] algorithm=kd_tree, leaf_size=34, n_neighbors=12 .................\n",
      "[CV]  algorithm=kd_tree, leaf_size=34, n_neighbors=12, score=0.611, total=   0.0s\n",
      "[CV] algorithm=kd_tree, leaf_size=34, n_neighbors=12 .................\n",
      "[CV]  algorithm=kd_tree, leaf_size=34, n_neighbors=12, score=0.578, total=   0.0s\n",
      "[CV] algorithm=kd_tree, leaf_size=34, n_neighbors=13 .................\n",
      "[CV]  algorithm=kd_tree, leaf_size=34, n_neighbors=13, score=0.581, total=   0.0s\n",
      "[CV] algorithm=kd_tree, leaf_size=34, n_neighbors=13 .................\n",
      "[CV]  algorithm=kd_tree, leaf_size=34, n_neighbors=13, score=0.572, total=   0.0s\n",
      "[CV] algorithm=kd_tree, leaf_size=34, n_neighbors=13 .................\n",
      "[CV]  algorithm=kd_tree, leaf_size=34, n_neighbors=13, score=0.575, total=   0.0s\n",
      "[CV] algorithm=kd_tree, leaf_size=34, n_neighbors=13 .................\n",
      "[CV]  algorithm=kd_tree, leaf_size=34, n_neighbors=13, score=0.605, total=   0.0s\n",
      "[CV] algorithm=kd_tree, leaf_size=34, n_neighbors=13 .................\n",
      "[CV]  algorithm=kd_tree, leaf_size=34, n_neighbors=13, score=0.566, total=   0.0s\n",
      "[CV] algorithm=brute, leaf_size=18, n_neighbors=3 ....................\n",
      "[CV]  algorithm=brute, leaf_size=18, n_neighbors=3, score=0.566, total=   0.2s\n",
      "[CV] algorithm=brute, leaf_size=18, n_neighbors=3 ....................\n",
      "[CV]  algorithm=brute, leaf_size=18, n_neighbors=3, score=0.566, total=   0.0s\n",
      "[CV] algorithm=brute, leaf_size=18, n_neighbors=3 ....................\n",
      "[CV]  algorithm=brute, leaf_size=18, n_neighbors=3, score=0.584, total=   0.0s\n",
      "[CV] algorithm=brute, leaf_size=18, n_neighbors=3 ....................\n",
      "[CV]  algorithm=brute, leaf_size=18, n_neighbors=3, score=0.521, total=   0.0s\n",
      "[CV] algorithm=brute, leaf_size=18, n_neighbors=3 ....................\n",
      "[CV]  algorithm=brute, leaf_size=18, n_neighbors=3, score=0.548, total=   0.0s\n",
      "[CV] algorithm=brute, leaf_size=18, n_neighbors=5 ....................\n",
      "[CV]  algorithm=brute, leaf_size=18, n_neighbors=5, score=0.584, total=   0.1s\n",
      "[CV] algorithm=brute, leaf_size=18, n_neighbors=5 ....................\n",
      "[CV]  algorithm=brute, leaf_size=18, n_neighbors=5, score=0.578, total=   0.1s\n",
      "[CV] algorithm=brute, leaf_size=18, n_neighbors=5 ....................\n",
      "[CV]  algorithm=brute, leaf_size=18, n_neighbors=5, score=0.602, total=   0.1s\n",
      "[CV] algorithm=brute, leaf_size=18, n_neighbors=5 ....................\n",
      "[CV]  algorithm=brute, leaf_size=18, n_neighbors=5, score=0.617, total=   0.0s\n",
      "[CV] algorithm=brute, leaf_size=18, n_neighbors=5 ....................\n",
      "[CV]  algorithm=brute, leaf_size=18, n_neighbors=5, score=0.572, total=   0.1s\n",
      "[CV] algorithm=brute, leaf_size=18, n_neighbors=7 ....................\n",
      "[CV]  algorithm=brute, leaf_size=18, n_neighbors=7, score=0.584, total=   0.0s\n",
      "[CV] algorithm=brute, leaf_size=18, n_neighbors=7 ....................\n",
      "[CV]  algorithm=brute, leaf_size=18, n_neighbors=7, score=0.563, total=   0.0s\n",
      "[CV] algorithm=brute, leaf_size=18, n_neighbors=7 ....................\n",
      "[CV]  algorithm=brute, leaf_size=18, n_neighbors=7, score=0.581, total=   0.0s\n",
      "[CV] algorithm=brute, leaf_size=18, n_neighbors=7 ....................\n",
      "[CV]  algorithm=brute, leaf_size=18, n_neighbors=7, score=0.611, total=   0.1s\n",
      "[CV] algorithm=brute, leaf_size=18, n_neighbors=7 ....................\n",
      "[CV]  algorithm=brute, leaf_size=18, n_neighbors=7, score=0.575, total=   0.0s\n",
      "[CV] algorithm=brute, leaf_size=18, n_neighbors=9 ....................\n",
      "[CV]  algorithm=brute, leaf_size=18, n_neighbors=9, score=0.575, total=   0.1s\n",
      "[CV] algorithm=brute, leaf_size=18, n_neighbors=9 ....................\n",
      "[CV]  algorithm=brute, leaf_size=18, n_neighbors=9, score=0.578, total=   0.1s\n",
      "[CV] algorithm=brute, leaf_size=18, n_neighbors=9 ....................\n",
      "[CV]  algorithm=brute, leaf_size=18, n_neighbors=9, score=0.620, total=   0.1s\n",
      "[CV] algorithm=brute, leaf_size=18, n_neighbors=9 ....................\n",
      "[CV]  algorithm=brute, leaf_size=18, n_neighbors=9, score=0.590, total=   0.1s\n",
      "[CV] algorithm=brute, leaf_size=18, n_neighbors=9 ....................\n",
      "[CV]  algorithm=brute, leaf_size=18, n_neighbors=9, score=0.602, total=   0.1s\n",
      "[CV] algorithm=brute, leaf_size=18, n_neighbors=10 ...................\n",
      "[CV]  algorithm=brute, leaf_size=18, n_neighbors=10, score=0.593, total=   0.1s\n",
      "[CV] algorithm=brute, leaf_size=18, n_neighbors=10 ...................\n",
      "[CV]  algorithm=brute, leaf_size=18, n_neighbors=10, score=0.569, total=   0.1s\n",
      "[CV] algorithm=brute, leaf_size=18, n_neighbors=10 ...................\n",
      "[CV]  algorithm=brute, leaf_size=18, n_neighbors=10, score=0.599, total=   0.0s\n",
      "[CV] algorithm=brute, leaf_size=18, n_neighbors=10 ...................\n",
      "[CV]  algorithm=brute, leaf_size=18, n_neighbors=10, score=0.614, total=   0.0s\n",
      "[CV] algorithm=brute, leaf_size=18, n_neighbors=10 ...................\n",
      "[CV]  algorithm=brute, leaf_size=18, n_neighbors=10, score=0.581, total=   0.1s\n",
      "[CV] algorithm=brute, leaf_size=18, n_neighbors=11 ...................\n",
      "[CV]  algorithm=brute, leaf_size=18, n_neighbors=11, score=0.596, total=   0.0s\n",
      "[CV] algorithm=brute, leaf_size=18, n_neighbors=11 ...................\n",
      "[CV]  algorithm=brute, leaf_size=18, n_neighbors=11, score=0.548, total=   0.1s\n",
      "[CV] algorithm=brute, leaf_size=18, n_neighbors=11 ...................\n",
      "[CV]  algorithm=brute, leaf_size=18, n_neighbors=11, score=0.587, total=   0.1s\n",
      "[CV] algorithm=brute, leaf_size=18, n_neighbors=11 ...................\n",
      "[CV]  algorithm=brute, leaf_size=18, n_neighbors=11, score=0.635, total=   0.0s\n",
      "[CV] algorithm=brute, leaf_size=18, n_neighbors=11 ...................\n",
      "[CV]  algorithm=brute, leaf_size=18, n_neighbors=11, score=0.572, total=   0.1s\n",
      "[CV] algorithm=brute, leaf_size=18, n_neighbors=12 ...................\n",
      "[CV]  algorithm=brute, leaf_size=18, n_neighbors=12, score=0.602, total=   0.0s\n",
      "[CV] algorithm=brute, leaf_size=18, n_neighbors=12 ...................\n",
      "[CV]  algorithm=brute, leaf_size=18, n_neighbors=12, score=0.560, total=   0.0s\n",
      "[CV] algorithm=brute, leaf_size=18, n_neighbors=12 ...................\n",
      "[CV]  algorithm=brute, leaf_size=18, n_neighbors=12, score=0.608, total=   0.1s\n",
      "[CV] algorithm=brute, leaf_size=18, n_neighbors=12 ...................\n",
      "[CV]  algorithm=brute, leaf_size=18, n_neighbors=12, score=0.611, total=   0.1s\n",
      "[CV] algorithm=brute, leaf_size=18, n_neighbors=12 ...................\n",
      "[CV]  algorithm=brute, leaf_size=18, n_neighbors=12, score=0.578, total=   0.1s\n",
      "[CV] algorithm=brute, leaf_size=18, n_neighbors=13 ...................\n",
      "[CV]  algorithm=brute, leaf_size=18, n_neighbors=13, score=0.581, total=   0.0s\n",
      "[CV] algorithm=brute, leaf_size=18, n_neighbors=13 ...................\n",
      "[CV]  algorithm=brute, leaf_size=18, n_neighbors=13, score=0.572, total=   0.1s\n",
      "[CV] algorithm=brute, leaf_size=18, n_neighbors=13 ...................\n",
      "[CV]  algorithm=brute, leaf_size=18, n_neighbors=13, score=0.575, total=   0.0s\n",
      "[CV] algorithm=brute, leaf_size=18, n_neighbors=13 ...................\n",
      "[CV]  algorithm=brute, leaf_size=18, n_neighbors=13, score=0.605, total=   0.1s\n",
      "[CV] algorithm=brute, leaf_size=18, n_neighbors=13 ...................\n",
      "[CV]  algorithm=brute, leaf_size=18, n_neighbors=13, score=0.566, total=   0.1s\n",
      "[CV] algorithm=brute, leaf_size=20, n_neighbors=3 ....................\n",
      "[CV]  algorithm=brute, leaf_size=20, n_neighbors=3, score=0.566, total=   0.0s\n",
      "[CV] algorithm=brute, leaf_size=20, n_neighbors=3 ....................\n",
      "[CV]  algorithm=brute, leaf_size=20, n_neighbors=3, score=0.566, total=   0.1s\n",
      "[CV] algorithm=brute, leaf_size=20, n_neighbors=3 ....................\n",
      "[CV]  algorithm=brute, leaf_size=20, n_neighbors=3, score=0.584, total=   0.0s\n",
      "[CV] algorithm=brute, leaf_size=20, n_neighbors=3 ....................\n",
      "[CV]  algorithm=brute, leaf_size=20, n_neighbors=3, score=0.521, total=   0.0s\n",
      "[CV] algorithm=brute, leaf_size=20, n_neighbors=3 ....................\n",
      "[CV]  algorithm=brute, leaf_size=20, n_neighbors=3, score=0.548, total=   0.0s\n",
      "[CV] algorithm=brute, leaf_size=20, n_neighbors=5 ....................\n",
      "[CV]  algorithm=brute, leaf_size=20, n_neighbors=5, score=0.584, total=   0.1s\n",
      "[CV] algorithm=brute, leaf_size=20, n_neighbors=5 ....................\n",
      "[CV]  algorithm=brute, leaf_size=20, n_neighbors=5, score=0.578, total=   0.1s\n",
      "[CV] algorithm=brute, leaf_size=20, n_neighbors=5 ....................\n",
      "[CV]  algorithm=brute, leaf_size=20, n_neighbors=5, score=0.602, total=   0.1s\n",
      "[CV] algorithm=brute, leaf_size=20, n_neighbors=5 ....................\n",
      "[CV]  algorithm=brute, leaf_size=20, n_neighbors=5, score=0.617, total=   0.1s\n",
      "[CV] algorithm=brute, leaf_size=20, n_neighbors=5 ....................\n",
      "[CV]  algorithm=brute, leaf_size=20, n_neighbors=5, score=0.572, total=   0.1s\n",
      "[CV] algorithm=brute, leaf_size=20, n_neighbors=7 ....................\n",
      "[CV]  algorithm=brute, leaf_size=20, n_neighbors=7, score=0.584, total=   0.0s\n",
      "[CV] algorithm=brute, leaf_size=20, n_neighbors=7 ....................\n",
      "[CV]  algorithm=brute, leaf_size=20, n_neighbors=7, score=0.563, total=   0.1s\n",
      "[CV] algorithm=brute, leaf_size=20, n_neighbors=7 ....................\n",
      "[CV]  algorithm=brute, leaf_size=20, n_neighbors=7, score=0.581, total=   0.1s\n",
      "[CV] algorithm=brute, leaf_size=20, n_neighbors=7 ....................\n",
      "[CV]  algorithm=brute, leaf_size=20, n_neighbors=7, score=0.611, total=   0.1s\n",
      "[CV] algorithm=brute, leaf_size=20, n_neighbors=7 ....................\n",
      "[CV]  algorithm=brute, leaf_size=20, n_neighbors=7, score=0.575, total=   0.0s\n",
      "[CV] algorithm=brute, leaf_size=20, n_neighbors=9 ....................\n",
      "[CV]  algorithm=brute, leaf_size=20, n_neighbors=9, score=0.575, total=   0.1s\n",
      "[CV] algorithm=brute, leaf_size=20, n_neighbors=9 ....................\n",
      "[CV]  algorithm=brute, leaf_size=20, n_neighbors=9, score=0.578, total=   0.0s\n",
      "[CV] algorithm=brute, leaf_size=20, n_neighbors=9 ....................\n",
      "[CV]  algorithm=brute, leaf_size=20, n_neighbors=9, score=0.620, total=   0.0s\n",
      "[CV] algorithm=brute, leaf_size=20, n_neighbors=9 ....................\n",
      "[CV]  algorithm=brute, leaf_size=20, n_neighbors=9, score=0.590, total=   0.1s\n",
      "[CV] algorithm=brute, leaf_size=20, n_neighbors=9 ....................\n",
      "[CV]  algorithm=brute, leaf_size=20, n_neighbors=9, score=0.602, total=   0.1s\n",
      "[CV] algorithm=brute, leaf_size=20, n_neighbors=10 ...................\n",
      "[CV]  algorithm=brute, leaf_size=20, n_neighbors=10, score=0.593, total=   0.1s\n",
      "[CV] algorithm=brute, leaf_size=20, n_neighbors=10 ...................\n",
      "[CV]  algorithm=brute, leaf_size=20, n_neighbors=10, score=0.569, total=   0.1s\n",
      "[CV] algorithm=brute, leaf_size=20, n_neighbors=10 ...................\n",
      "[CV]  algorithm=brute, leaf_size=20, n_neighbors=10, score=0.599, total=   0.1s\n",
      "[CV] algorithm=brute, leaf_size=20, n_neighbors=10 ...................\n",
      "[CV]  algorithm=brute, leaf_size=20, n_neighbors=10, score=0.614, total=   0.1s\n",
      "[CV] algorithm=brute, leaf_size=20, n_neighbors=10 ...................\n",
      "[CV]  algorithm=brute, leaf_size=20, n_neighbors=10, score=0.581, total=   0.1s\n",
      "[CV] algorithm=brute, leaf_size=20, n_neighbors=11 ...................\n",
      "[CV]  algorithm=brute, leaf_size=20, n_neighbors=11, score=0.596, total=   0.0s\n",
      "[CV] algorithm=brute, leaf_size=20, n_neighbors=11 ...................\n",
      "[CV]  algorithm=brute, leaf_size=20, n_neighbors=11, score=0.548, total=   0.1s\n",
      "[CV] algorithm=brute, leaf_size=20, n_neighbors=11 ...................\n",
      "[CV]  algorithm=brute, leaf_size=20, n_neighbors=11, score=0.587, total=   0.1s\n",
      "[CV] algorithm=brute, leaf_size=20, n_neighbors=11 ...................\n",
      "[CV]  algorithm=brute, leaf_size=20, n_neighbors=11, score=0.635, total=   0.1s\n",
      "[CV] algorithm=brute, leaf_size=20, n_neighbors=11 ...................\n",
      "[CV]  algorithm=brute, leaf_size=20, n_neighbors=11, score=0.572, total=   0.1s\n",
      "[CV] algorithm=brute, leaf_size=20, n_neighbors=12 ...................\n",
      "[CV]  algorithm=brute, leaf_size=20, n_neighbors=12, score=0.602, total=   0.1s\n",
      "[CV] algorithm=brute, leaf_size=20, n_neighbors=12 ...................\n",
      "[CV]  algorithm=brute, leaf_size=20, n_neighbors=12, score=0.560, total=   0.1s\n",
      "[CV] algorithm=brute, leaf_size=20, n_neighbors=12 ...................\n",
      "[CV]  algorithm=brute, leaf_size=20, n_neighbors=12, score=0.608, total=   0.1s\n",
      "[CV] algorithm=brute, leaf_size=20, n_neighbors=12 ...................\n",
      "[CV]  algorithm=brute, leaf_size=20, n_neighbors=12, score=0.611, total=   0.1s\n",
      "[CV] algorithm=brute, leaf_size=20, n_neighbors=12 ...................\n",
      "[CV]  algorithm=brute, leaf_size=20, n_neighbors=12, score=0.578, total=   0.0s\n",
      "[CV] algorithm=brute, leaf_size=20, n_neighbors=13 ...................\n",
      "[CV]  algorithm=brute, leaf_size=20, n_neighbors=13, score=0.581, total=   0.0s\n",
      "[CV] algorithm=brute, leaf_size=20, n_neighbors=13 ...................\n",
      "[CV]  algorithm=brute, leaf_size=20, n_neighbors=13, score=0.572, total=   0.1s\n",
      "[CV] algorithm=brute, leaf_size=20, n_neighbors=13 ...................\n",
      "[CV]  algorithm=brute, leaf_size=20, n_neighbors=13, score=0.575, total=   0.1s\n",
      "[CV] algorithm=brute, leaf_size=20, n_neighbors=13 ...................\n",
      "[CV]  algorithm=brute, leaf_size=20, n_neighbors=13, score=0.605, total=   0.1s\n",
      "[CV] algorithm=brute, leaf_size=20, n_neighbors=13 ...................\n",
      "[CV]  algorithm=brute, leaf_size=20, n_neighbors=13, score=0.566, total=   0.0s\n",
      "[CV] algorithm=brute, leaf_size=25, n_neighbors=3 ....................\n",
      "[CV]  algorithm=brute, leaf_size=25, n_neighbors=3, score=0.566, total=   0.0s\n",
      "[CV] algorithm=brute, leaf_size=25, n_neighbors=3 ....................\n",
      "[CV]  algorithm=brute, leaf_size=25, n_neighbors=3, score=0.566, total=   0.0s\n",
      "[CV] algorithm=brute, leaf_size=25, n_neighbors=3 ....................\n",
      "[CV]  algorithm=brute, leaf_size=25, n_neighbors=3, score=0.584, total=   0.0s\n",
      "[CV] algorithm=brute, leaf_size=25, n_neighbors=3 ....................\n",
      "[CV]  algorithm=brute, leaf_size=25, n_neighbors=3, score=0.521, total=   0.0s\n",
      "[CV] algorithm=brute, leaf_size=25, n_neighbors=3 ....................\n",
      "[CV]  algorithm=brute, leaf_size=25, n_neighbors=3, score=0.548, total=   0.0s\n",
      "[CV] algorithm=brute, leaf_size=25, n_neighbors=5 ....................\n",
      "[CV]  algorithm=brute, leaf_size=25, n_neighbors=5, score=0.584, total=   0.1s\n",
      "[CV] algorithm=brute, leaf_size=25, n_neighbors=5 ....................\n",
      "[CV]  algorithm=brute, leaf_size=25, n_neighbors=5, score=0.578, total=   0.0s\n",
      "[CV] algorithm=brute, leaf_size=25, n_neighbors=5 ....................\n",
      "[CV]  algorithm=brute, leaf_size=25, n_neighbors=5, score=0.602, total=   0.1s\n",
      "[CV] algorithm=brute, leaf_size=25, n_neighbors=5 ....................\n",
      "[CV]  algorithm=brute, leaf_size=25, n_neighbors=5, score=0.617, total=   0.0s\n",
      "[CV] algorithm=brute, leaf_size=25, n_neighbors=5 ....................\n",
      "[CV]  algorithm=brute, leaf_size=25, n_neighbors=5, score=0.572, total=   0.1s\n",
      "[CV] algorithm=brute, leaf_size=25, n_neighbors=7 ....................\n",
      "[CV]  algorithm=brute, leaf_size=25, n_neighbors=7, score=0.584, total=   0.1s\n",
      "[CV] algorithm=brute, leaf_size=25, n_neighbors=7 ....................\n",
      "[CV]  algorithm=brute, leaf_size=25, n_neighbors=7, score=0.563, total=   0.1s\n",
      "[CV] algorithm=brute, leaf_size=25, n_neighbors=7 ....................\n",
      "[CV]  algorithm=brute, leaf_size=25, n_neighbors=7, score=0.581, total=   0.1s\n",
      "[CV] algorithm=brute, leaf_size=25, n_neighbors=7 ....................\n",
      "[CV]  algorithm=brute, leaf_size=25, n_neighbors=7, score=0.611, total=   0.1s\n",
      "[CV] algorithm=brute, leaf_size=25, n_neighbors=7 ....................\n",
      "[CV]  algorithm=brute, leaf_size=25, n_neighbors=7, score=0.575, total=   0.1s\n",
      "[CV] algorithm=brute, leaf_size=25, n_neighbors=9 ....................\n",
      "[CV]  algorithm=brute, leaf_size=25, n_neighbors=9, score=0.575, total=   0.1s\n",
      "[CV] algorithm=brute, leaf_size=25, n_neighbors=9 ....................\n",
      "[CV]  algorithm=brute, leaf_size=25, n_neighbors=9, score=0.578, total=   0.1s\n",
      "[CV] algorithm=brute, leaf_size=25, n_neighbors=9 ....................\n",
      "[CV]  algorithm=brute, leaf_size=25, n_neighbors=9, score=0.620, total=   0.0s\n",
      "[CV] algorithm=brute, leaf_size=25, n_neighbors=9 ....................\n",
      "[CV]  algorithm=brute, leaf_size=25, n_neighbors=9, score=0.590, total=   0.1s\n",
      "[CV] algorithm=brute, leaf_size=25, n_neighbors=9 ....................\n",
      "[CV]  algorithm=brute, leaf_size=25, n_neighbors=9, score=0.602, total=   0.1s\n",
      "[CV] algorithm=brute, leaf_size=25, n_neighbors=10 ...................\n",
      "[CV]  algorithm=brute, leaf_size=25, n_neighbors=10, score=0.593, total=   0.1s\n",
      "[CV] algorithm=brute, leaf_size=25, n_neighbors=10 ...................\n",
      "[CV]  algorithm=brute, leaf_size=25, n_neighbors=10, score=0.569, total=   0.0s\n",
      "[CV] algorithm=brute, leaf_size=25, n_neighbors=10 ...................\n",
      "[CV]  algorithm=brute, leaf_size=25, n_neighbors=10, score=0.599, total=   0.1s\n",
      "[CV] algorithm=brute, leaf_size=25, n_neighbors=10 ...................\n",
      "[CV]  algorithm=brute, leaf_size=25, n_neighbors=10, score=0.614, total=   0.1s\n",
      "[CV] algorithm=brute, leaf_size=25, n_neighbors=10 ...................\n",
      "[CV]  algorithm=brute, leaf_size=25, n_neighbors=10, score=0.581, total=   0.0s\n",
      "[CV] algorithm=brute, leaf_size=25, n_neighbors=11 ...................\n",
      "[CV]  algorithm=brute, leaf_size=25, n_neighbors=11, score=0.596, total=   0.1s\n",
      "[CV] algorithm=brute, leaf_size=25, n_neighbors=11 ...................\n",
      "[CV]  algorithm=brute, leaf_size=25, n_neighbors=11, score=0.548, total=   0.1s\n",
      "[CV] algorithm=brute, leaf_size=25, n_neighbors=11 ...................\n",
      "[CV]  algorithm=brute, leaf_size=25, n_neighbors=11, score=0.587, total=   0.1s\n",
      "[CV] algorithm=brute, leaf_size=25, n_neighbors=11 ...................\n",
      "[CV]  algorithm=brute, leaf_size=25, n_neighbors=11, score=0.635, total=   0.0s\n",
      "[CV] algorithm=brute, leaf_size=25, n_neighbors=11 ...................\n",
      "[CV]  algorithm=brute, leaf_size=25, n_neighbors=11, score=0.572, total=   0.0s\n",
      "[CV] algorithm=brute, leaf_size=25, n_neighbors=12 ...................\n",
      "[CV]  algorithm=brute, leaf_size=25, n_neighbors=12, score=0.602, total=   0.1s\n",
      "[CV] algorithm=brute, leaf_size=25, n_neighbors=12 ...................\n",
      "[CV]  algorithm=brute, leaf_size=25, n_neighbors=12, score=0.560, total=   0.1s\n",
      "[CV] algorithm=brute, leaf_size=25, n_neighbors=12 ...................\n",
      "[CV]  algorithm=brute, leaf_size=25, n_neighbors=12, score=0.608, total=   0.0s\n",
      "[CV] algorithm=brute, leaf_size=25, n_neighbors=12 ...................\n",
      "[CV]  algorithm=brute, leaf_size=25, n_neighbors=12, score=0.611, total=   0.0s\n",
      "[CV] algorithm=brute, leaf_size=25, n_neighbors=12 ...................\n",
      "[CV]  algorithm=brute, leaf_size=25, n_neighbors=12, score=0.578, total=   0.1s\n",
      "[CV] algorithm=brute, leaf_size=25, n_neighbors=13 ...................\n",
      "[CV]  algorithm=brute, leaf_size=25, n_neighbors=13, score=0.581, total=   0.0s\n",
      "[CV] algorithm=brute, leaf_size=25, n_neighbors=13 ...................\n",
      "[CV]  algorithm=brute, leaf_size=25, n_neighbors=13, score=0.572, total=   0.0s\n",
      "[CV] algorithm=brute, leaf_size=25, n_neighbors=13 ...................\n",
      "[CV]  algorithm=brute, leaf_size=25, n_neighbors=13, score=0.575, total=   0.0s\n",
      "[CV] algorithm=brute, leaf_size=25, n_neighbors=13 ...................\n",
      "[CV]  algorithm=brute, leaf_size=25, n_neighbors=13, score=0.605, total=   0.1s\n",
      "[CV] algorithm=brute, leaf_size=25, n_neighbors=13 ...................\n",
      "[CV]  algorithm=brute, leaf_size=25, n_neighbors=13, score=0.566, total=   0.1s\n",
      "[CV] algorithm=brute, leaf_size=27, n_neighbors=3 ....................\n",
      "[CV]  algorithm=brute, leaf_size=27, n_neighbors=3, score=0.566, total=   0.0s\n",
      "[CV] algorithm=brute, leaf_size=27, n_neighbors=3 ....................\n",
      "[CV]  algorithm=brute, leaf_size=27, n_neighbors=3, score=0.566, total=   0.0s\n",
      "[CV] algorithm=brute, leaf_size=27, n_neighbors=3 ....................\n",
      "[CV]  algorithm=brute, leaf_size=27, n_neighbors=3, score=0.584, total=   0.0s\n",
      "[CV] algorithm=brute, leaf_size=27, n_neighbors=3 ....................\n",
      "[CV]  algorithm=brute, leaf_size=27, n_neighbors=3, score=0.521, total=   0.1s\n",
      "[CV] algorithm=brute, leaf_size=27, n_neighbors=3 ....................\n",
      "[CV]  algorithm=brute, leaf_size=27, n_neighbors=3, score=0.548, total=   0.0s\n",
      "[CV] algorithm=brute, leaf_size=27, n_neighbors=5 ....................\n",
      "[CV]  algorithm=brute, leaf_size=27, n_neighbors=5, score=0.584, total=   0.1s\n",
      "[CV] algorithm=brute, leaf_size=27, n_neighbors=5 ....................\n",
      "[CV]  algorithm=brute, leaf_size=27, n_neighbors=5, score=0.578, total=   0.1s\n",
      "[CV] algorithm=brute, leaf_size=27, n_neighbors=5 ....................\n",
      "[CV]  algorithm=brute, leaf_size=27, n_neighbors=5, score=0.602, total=   0.1s\n",
      "[CV] algorithm=brute, leaf_size=27, n_neighbors=5 ....................\n",
      "[CV]  algorithm=brute, leaf_size=27, n_neighbors=5, score=0.617, total=   0.0s\n",
      "[CV] algorithm=brute, leaf_size=27, n_neighbors=5 ....................\n",
      "[CV]  algorithm=brute, leaf_size=27, n_neighbors=5, score=0.572, total=   0.1s\n",
      "[CV] algorithm=brute, leaf_size=27, n_neighbors=7 ....................\n",
      "[CV]  algorithm=brute, leaf_size=27, n_neighbors=7, score=0.584, total=   0.1s\n",
      "[CV] algorithm=brute, leaf_size=27, n_neighbors=7 ....................\n",
      "[CV]  algorithm=brute, leaf_size=27, n_neighbors=7, score=0.563, total=   0.1s\n",
      "[CV] algorithm=brute, leaf_size=27, n_neighbors=7 ....................\n",
      "[CV]  algorithm=brute, leaf_size=27, n_neighbors=7, score=0.581, total=   0.1s\n",
      "[CV] algorithm=brute, leaf_size=27, n_neighbors=7 ....................\n",
      "[CV]  algorithm=brute, leaf_size=27, n_neighbors=7, score=0.611, total=   0.1s\n",
      "[CV] algorithm=brute, leaf_size=27, n_neighbors=7 ....................\n",
      "[CV]  algorithm=brute, leaf_size=27, n_neighbors=7, score=0.575, total=   0.1s\n",
      "[CV] algorithm=brute, leaf_size=27, n_neighbors=9 ....................\n",
      "[CV]  algorithm=brute, leaf_size=27, n_neighbors=9, score=0.575, total=   0.1s\n",
      "[CV] algorithm=brute, leaf_size=27, n_neighbors=9 ....................\n",
      "[CV]  algorithm=brute, leaf_size=27, n_neighbors=9, score=0.578, total=   0.0s\n",
      "[CV] algorithm=brute, leaf_size=27, n_neighbors=9 ....................\n",
      "[CV]  algorithm=brute, leaf_size=27, n_neighbors=9, score=0.620, total=   0.0s\n",
      "[CV] algorithm=brute, leaf_size=27, n_neighbors=9 ....................\n",
      "[CV]  algorithm=brute, leaf_size=27, n_neighbors=9, score=0.590, total=   0.1s\n",
      "[CV] algorithm=brute, leaf_size=27, n_neighbors=9 ....................\n",
      "[CV]  algorithm=brute, leaf_size=27, n_neighbors=9, score=0.602, total=   0.1s\n",
      "[CV] algorithm=brute, leaf_size=27, n_neighbors=10 ...................\n",
      "[CV]  algorithm=brute, leaf_size=27, n_neighbors=10, score=0.593, total=   0.0s\n",
      "[CV] algorithm=brute, leaf_size=27, n_neighbors=10 ...................\n",
      "[CV]  algorithm=brute, leaf_size=27, n_neighbors=10, score=0.569, total=   0.1s\n",
      "[CV] algorithm=brute, leaf_size=27, n_neighbors=10 ...................\n",
      "[CV]  algorithm=brute, leaf_size=27, n_neighbors=10, score=0.599, total=   0.1s\n",
      "[CV] algorithm=brute, leaf_size=27, n_neighbors=10 ...................\n",
      "[CV]  algorithm=brute, leaf_size=27, n_neighbors=10, score=0.614, total=   0.1s\n",
      "[CV] algorithm=brute, leaf_size=27, n_neighbors=10 ...................\n",
      "[CV]  algorithm=brute, leaf_size=27, n_neighbors=10, score=0.581, total=   0.0s\n",
      "[CV] algorithm=brute, leaf_size=27, n_neighbors=11 ...................\n",
      "[CV]  algorithm=brute, leaf_size=27, n_neighbors=11, score=0.596, total=   0.0s\n",
      "[CV] algorithm=brute, leaf_size=27, n_neighbors=11 ...................\n",
      "[CV]  algorithm=brute, leaf_size=27, n_neighbors=11, score=0.548, total=   0.1s\n",
      "[CV] algorithm=brute, leaf_size=27, n_neighbors=11 ...................\n",
      "[CV]  algorithm=brute, leaf_size=27, n_neighbors=11, score=0.587, total=   0.1s\n",
      "[CV] algorithm=brute, leaf_size=27, n_neighbors=11 ...................\n",
      "[CV]  algorithm=brute, leaf_size=27, n_neighbors=11, score=0.635, total=   0.1s\n",
      "[CV] algorithm=brute, leaf_size=27, n_neighbors=11 ...................\n",
      "[CV]  algorithm=brute, leaf_size=27, n_neighbors=11, score=0.572, total=   0.0s\n",
      "[CV] algorithm=brute, leaf_size=27, n_neighbors=12 ...................\n",
      "[CV]  algorithm=brute, leaf_size=27, n_neighbors=12, score=0.602, total=   0.1s\n",
      "[CV] algorithm=brute, leaf_size=27, n_neighbors=12 ...................\n",
      "[CV]  algorithm=brute, leaf_size=27, n_neighbors=12, score=0.560, total=   0.0s\n",
      "[CV] algorithm=brute, leaf_size=27, n_neighbors=12 ...................\n",
      "[CV]  algorithm=brute, leaf_size=27, n_neighbors=12, score=0.608, total=   0.0s\n",
      "[CV] algorithm=brute, leaf_size=27, n_neighbors=12 ...................\n",
      "[CV]  algorithm=brute, leaf_size=27, n_neighbors=12, score=0.611, total=   0.1s\n",
      "[CV] algorithm=brute, leaf_size=27, n_neighbors=12 ...................\n",
      "[CV]  algorithm=brute, leaf_size=27, n_neighbors=12, score=0.578, total=   0.1s\n",
      "[CV] algorithm=brute, leaf_size=27, n_neighbors=13 ...................\n",
      "[CV]  algorithm=brute, leaf_size=27, n_neighbors=13, score=0.581, total=   0.1s\n",
      "[CV] algorithm=brute, leaf_size=27, n_neighbors=13 ...................\n",
      "[CV]  algorithm=brute, leaf_size=27, n_neighbors=13, score=0.572, total=   0.1s\n",
      "[CV] algorithm=brute, leaf_size=27, n_neighbors=13 ...................\n",
      "[CV]  algorithm=brute, leaf_size=27, n_neighbors=13, score=0.575, total=   0.1s\n",
      "[CV] algorithm=brute, leaf_size=27, n_neighbors=13 ...................\n",
      "[CV]  algorithm=brute, leaf_size=27, n_neighbors=13, score=0.605, total=   0.1s\n",
      "[CV] algorithm=brute, leaf_size=27, n_neighbors=13 ...................\n",
      "[CV]  algorithm=brute, leaf_size=27, n_neighbors=13, score=0.566, total=   0.0s\n",
      "[CV] algorithm=brute, leaf_size=30, n_neighbors=3 ....................\n",
      "[CV]  algorithm=brute, leaf_size=30, n_neighbors=3, score=0.566, total=   0.1s\n",
      "[CV] algorithm=brute, leaf_size=30, n_neighbors=3 ....................\n",
      "[CV]  algorithm=brute, leaf_size=30, n_neighbors=3, score=0.566, total=   0.1s\n",
      "[CV] algorithm=brute, leaf_size=30, n_neighbors=3 ....................\n",
      "[CV]  algorithm=brute, leaf_size=30, n_neighbors=3, score=0.584, total=   0.0s\n",
      "[CV] algorithm=brute, leaf_size=30, n_neighbors=3 ....................\n",
      "[CV]  algorithm=brute, leaf_size=30, n_neighbors=3, score=0.521, total=   0.1s\n",
      "[CV] algorithm=brute, leaf_size=30, n_neighbors=3 ....................\n",
      "[CV]  algorithm=brute, leaf_size=30, n_neighbors=3, score=0.548, total=   0.0s\n",
      "[CV] algorithm=brute, leaf_size=30, n_neighbors=5 ....................\n",
      "[CV]  algorithm=brute, leaf_size=30, n_neighbors=5, score=0.584, total=   0.1s\n",
      "[CV] algorithm=brute, leaf_size=30, n_neighbors=5 ....................\n",
      "[CV]  algorithm=brute, leaf_size=30, n_neighbors=5, score=0.578, total=   0.1s\n",
      "[CV] algorithm=brute, leaf_size=30, n_neighbors=5 ....................\n",
      "[CV]  algorithm=brute, leaf_size=30, n_neighbors=5, score=0.602, total=   0.0s\n",
      "[CV] algorithm=brute, leaf_size=30, n_neighbors=5 ....................\n",
      "[CV]  algorithm=brute, leaf_size=30, n_neighbors=5, score=0.617, total=   0.1s\n",
      "[CV] algorithm=brute, leaf_size=30, n_neighbors=5 ....................\n",
      "[CV]  algorithm=brute, leaf_size=30, n_neighbors=5, score=0.572, total=   0.1s\n",
      "[CV] algorithm=brute, leaf_size=30, n_neighbors=7 ....................\n",
      "[CV]  algorithm=brute, leaf_size=30, n_neighbors=7, score=0.584, total=   0.1s\n",
      "[CV] algorithm=brute, leaf_size=30, n_neighbors=7 ....................\n",
      "[CV]  algorithm=brute, leaf_size=30, n_neighbors=7, score=0.563, total=   0.1s\n",
      "[CV] algorithm=brute, leaf_size=30, n_neighbors=7 ....................\n",
      "[CV]  algorithm=brute, leaf_size=30, n_neighbors=7, score=0.581, total=   0.0s\n",
      "[CV] algorithm=brute, leaf_size=30, n_neighbors=7 ....................\n",
      "[CV]  algorithm=brute, leaf_size=30, n_neighbors=7, score=0.611, total=   0.1s\n",
      "[CV] algorithm=brute, leaf_size=30, n_neighbors=7 ....................\n",
      "[CV]  algorithm=brute, leaf_size=30, n_neighbors=7, score=0.575, total=   0.3s\n",
      "[CV] algorithm=brute, leaf_size=30, n_neighbors=9 ....................\n",
      "[CV]  algorithm=brute, leaf_size=30, n_neighbors=9, score=0.575, total=   0.1s\n",
      "[CV] algorithm=brute, leaf_size=30, n_neighbors=9 ....................\n",
      "[CV]  algorithm=brute, leaf_size=30, n_neighbors=9, score=0.578, total=   0.1s\n",
      "[CV] algorithm=brute, leaf_size=30, n_neighbors=9 ....................\n",
      "[CV]  algorithm=brute, leaf_size=30, n_neighbors=9, score=0.620, total=   0.1s\n",
      "[CV] algorithm=brute, leaf_size=30, n_neighbors=9 ....................\n",
      "[CV]  algorithm=brute, leaf_size=30, n_neighbors=9, score=0.590, total=   0.1s\n",
      "[CV] algorithm=brute, leaf_size=30, n_neighbors=9 ....................\n",
      "[CV]  algorithm=brute, leaf_size=30, n_neighbors=9, score=0.602, total=   0.0s\n",
      "[CV] algorithm=brute, leaf_size=30, n_neighbors=10 ...................\n",
      "[CV]  algorithm=brute, leaf_size=30, n_neighbors=10, score=0.593, total=   0.0s\n",
      "[CV] algorithm=brute, leaf_size=30, n_neighbors=10 ...................\n",
      "[CV]  algorithm=brute, leaf_size=30, n_neighbors=10, score=0.569, total=   0.0s\n",
      "[CV] algorithm=brute, leaf_size=30, n_neighbors=10 ...................\n",
      "[CV]  algorithm=brute, leaf_size=30, n_neighbors=10, score=0.599, total=   0.0s\n",
      "[CV] algorithm=brute, leaf_size=30, n_neighbors=10 ...................\n",
      "[CV]  algorithm=brute, leaf_size=30, n_neighbors=10, score=0.614, total=   0.0s\n",
      "[CV] algorithm=brute, leaf_size=30, n_neighbors=10 ...................\n",
      "[CV]  algorithm=brute, leaf_size=30, n_neighbors=10, score=0.581, total=   0.1s\n",
      "[CV] algorithm=brute, leaf_size=30, n_neighbors=11 ...................\n",
      "[CV]  algorithm=brute, leaf_size=30, n_neighbors=11, score=0.596, total=   0.1s\n",
      "[CV] algorithm=brute, leaf_size=30, n_neighbors=11 ...................\n",
      "[CV]  algorithm=brute, leaf_size=30, n_neighbors=11, score=0.548, total=   0.1s\n",
      "[CV] algorithm=brute, leaf_size=30, n_neighbors=11 ...................\n",
      "[CV]  algorithm=brute, leaf_size=30, n_neighbors=11, score=0.587, total=   0.1s\n",
      "[CV] algorithm=brute, leaf_size=30, n_neighbors=11 ...................\n",
      "[CV]  algorithm=brute, leaf_size=30, n_neighbors=11, score=0.635, total=   0.1s\n",
      "[CV] algorithm=brute, leaf_size=30, n_neighbors=11 ...................\n",
      "[CV]  algorithm=brute, leaf_size=30, n_neighbors=11, score=0.572, total=   0.1s\n",
      "[CV] algorithm=brute, leaf_size=30, n_neighbors=12 ...................\n",
      "[CV]  algorithm=brute, leaf_size=30, n_neighbors=12, score=0.602, total=   0.0s\n",
      "[CV] algorithm=brute, leaf_size=30, n_neighbors=12 ...................\n",
      "[CV]  algorithm=brute, leaf_size=30, n_neighbors=12, score=0.560, total=   0.1s\n",
      "[CV] algorithm=brute, leaf_size=30, n_neighbors=12 ...................\n",
      "[CV]  algorithm=brute, leaf_size=30, n_neighbors=12, score=0.608, total=   0.1s\n",
      "[CV] algorithm=brute, leaf_size=30, n_neighbors=12 ...................\n",
      "[CV]  algorithm=brute, leaf_size=30, n_neighbors=12, score=0.611, total=   0.1s\n",
      "[CV] algorithm=brute, leaf_size=30, n_neighbors=12 ...................\n",
      "[CV]  algorithm=brute, leaf_size=30, n_neighbors=12, score=0.578, total=   0.1s\n",
      "[CV] algorithm=brute, leaf_size=30, n_neighbors=13 ...................\n",
      "[CV]  algorithm=brute, leaf_size=30, n_neighbors=13, score=0.581, total=   0.1s\n",
      "[CV] algorithm=brute, leaf_size=30, n_neighbors=13 ...................\n",
      "[CV]  algorithm=brute, leaf_size=30, n_neighbors=13, score=0.572, total=   0.1s\n",
      "[CV] algorithm=brute, leaf_size=30, n_neighbors=13 ...................\n",
      "[CV]  algorithm=brute, leaf_size=30, n_neighbors=13, score=0.575, total=   0.1s\n",
      "[CV] algorithm=brute, leaf_size=30, n_neighbors=13 ...................\n",
      "[CV]  algorithm=brute, leaf_size=30, n_neighbors=13, score=0.605, total=   0.1s\n",
      "[CV] algorithm=brute, leaf_size=30, n_neighbors=13 ...................\n",
      "[CV]  algorithm=brute, leaf_size=30, n_neighbors=13, score=0.566, total=   0.0s\n",
      "[CV] algorithm=brute, leaf_size=32, n_neighbors=3 ....................\n",
      "[CV]  algorithm=brute, leaf_size=32, n_neighbors=3, score=0.566, total=   0.0s\n",
      "[CV] algorithm=brute, leaf_size=32, n_neighbors=3 ....................\n",
      "[CV]  algorithm=brute, leaf_size=32, n_neighbors=3, score=0.566, total=   0.1s\n",
      "[CV] algorithm=brute, leaf_size=32, n_neighbors=3 ....................\n",
      "[CV]  algorithm=brute, leaf_size=32, n_neighbors=3, score=0.584, total=   0.1s\n",
      "[CV] algorithm=brute, leaf_size=32, n_neighbors=3 ....................\n",
      "[CV]  algorithm=brute, leaf_size=32, n_neighbors=3, score=0.521, total=   0.1s\n",
      "[CV] algorithm=brute, leaf_size=32, n_neighbors=3 ....................\n",
      "[CV]  algorithm=brute, leaf_size=32, n_neighbors=3, score=0.548, total=   0.1s\n",
      "[CV] algorithm=brute, leaf_size=32, n_neighbors=5 ....................\n",
      "[CV]  algorithm=brute, leaf_size=32, n_neighbors=5, score=0.584, total=   0.0s\n",
      "[CV] algorithm=brute, leaf_size=32, n_neighbors=5 ....................\n",
      "[CV]  algorithm=brute, leaf_size=32, n_neighbors=5, score=0.578, total=   0.1s\n",
      "[CV] algorithm=brute, leaf_size=32, n_neighbors=5 ....................\n",
      "[CV]  algorithm=brute, leaf_size=32, n_neighbors=5, score=0.602, total=   0.1s\n",
      "[CV] algorithm=brute, leaf_size=32, n_neighbors=5 ....................\n",
      "[CV]  algorithm=brute, leaf_size=32, n_neighbors=5, score=0.617, total=   0.0s\n",
      "[CV] algorithm=brute, leaf_size=32, n_neighbors=5 ....................\n",
      "[CV]  algorithm=brute, leaf_size=32, n_neighbors=5, score=0.572, total=   0.1s\n",
      "[CV] algorithm=brute, leaf_size=32, n_neighbors=7 ....................\n",
      "[CV]  algorithm=brute, leaf_size=32, n_neighbors=7, score=0.584, total=   0.0s\n",
      "[CV] algorithm=brute, leaf_size=32, n_neighbors=7 ....................\n",
      "[CV]  algorithm=brute, leaf_size=32, n_neighbors=7, score=0.563, total=   0.0s\n",
      "[CV] algorithm=brute, leaf_size=32, n_neighbors=7 ....................\n",
      "[CV]  algorithm=brute, leaf_size=32, n_neighbors=7, score=0.581, total=   0.1s\n",
      "[CV] algorithm=brute, leaf_size=32, n_neighbors=7 ....................\n",
      "[CV]  algorithm=brute, leaf_size=32, n_neighbors=7, score=0.611, total=   0.0s\n",
      "[CV] algorithm=brute, leaf_size=32, n_neighbors=7 ....................\n",
      "[CV]  algorithm=brute, leaf_size=32, n_neighbors=7, score=0.575, total=   0.0s\n",
      "[CV] algorithm=brute, leaf_size=32, n_neighbors=9 ....................\n",
      "[CV]  algorithm=brute, leaf_size=32, n_neighbors=9, score=0.575, total=   0.0s\n",
      "[CV] algorithm=brute, leaf_size=32, n_neighbors=9 ....................\n",
      "[CV]  algorithm=brute, leaf_size=32, n_neighbors=9, score=0.578, total=   0.1s\n",
      "[CV] algorithm=brute, leaf_size=32, n_neighbors=9 ....................\n",
      "[CV]  algorithm=brute, leaf_size=32, n_neighbors=9, score=0.620, total=   0.1s\n",
      "[CV] algorithm=brute, leaf_size=32, n_neighbors=9 ....................\n",
      "[CV]  algorithm=brute, leaf_size=32, n_neighbors=9, score=0.590, total=   0.1s\n",
      "[CV] algorithm=brute, leaf_size=32, n_neighbors=9 ....................\n",
      "[CV]  algorithm=brute, leaf_size=32, n_neighbors=9, score=0.602, total=   0.0s\n",
      "[CV] algorithm=brute, leaf_size=32, n_neighbors=10 ...................\n",
      "[CV]  algorithm=brute, leaf_size=32, n_neighbors=10, score=0.593, total=   0.1s\n",
      "[CV] algorithm=brute, leaf_size=32, n_neighbors=10 ...................\n",
      "[CV]  algorithm=brute, leaf_size=32, n_neighbors=10, score=0.569, total=   0.1s\n",
      "[CV] algorithm=brute, leaf_size=32, n_neighbors=10 ...................\n",
      "[CV]  algorithm=brute, leaf_size=32, n_neighbors=10, score=0.599, total=   0.1s\n",
      "[CV] algorithm=brute, leaf_size=32, n_neighbors=10 ...................\n",
      "[CV]  algorithm=brute, leaf_size=32, n_neighbors=10, score=0.614, total=   0.0s\n",
      "[CV] algorithm=brute, leaf_size=32, n_neighbors=10 ...................\n",
      "[CV]  algorithm=brute, leaf_size=32, n_neighbors=10, score=0.581, total=   0.1s\n",
      "[CV] algorithm=brute, leaf_size=32, n_neighbors=11 ...................\n",
      "[CV]  algorithm=brute, leaf_size=32, n_neighbors=11, score=0.596, total=   0.1s\n",
      "[CV] algorithm=brute, leaf_size=32, n_neighbors=11 ...................\n",
      "[CV]  algorithm=brute, leaf_size=32, n_neighbors=11, score=0.548, total=   0.1s\n",
      "[CV] algorithm=brute, leaf_size=32, n_neighbors=11 ...................\n",
      "[CV]  algorithm=brute, leaf_size=32, n_neighbors=11, score=0.587, total=   0.1s\n",
      "[CV] algorithm=brute, leaf_size=32, n_neighbors=11 ...................\n",
      "[CV]  algorithm=brute, leaf_size=32, n_neighbors=11, score=0.635, total=   0.1s\n",
      "[CV] algorithm=brute, leaf_size=32, n_neighbors=11 ...................\n",
      "[CV]  algorithm=brute, leaf_size=32, n_neighbors=11, score=0.572, total=   0.0s\n",
      "[CV] algorithm=brute, leaf_size=32, n_neighbors=12 ...................\n",
      "[CV]  algorithm=brute, leaf_size=32, n_neighbors=12, score=0.602, total=   0.1s\n",
      "[CV] algorithm=brute, leaf_size=32, n_neighbors=12 ...................\n",
      "[CV]  algorithm=brute, leaf_size=32, n_neighbors=12, score=0.560, total=   0.1s\n",
      "[CV] algorithm=brute, leaf_size=32, n_neighbors=12 ...................\n",
      "[CV]  algorithm=brute, leaf_size=32, n_neighbors=12, score=0.608, total=   0.1s\n",
      "[CV] algorithm=brute, leaf_size=32, n_neighbors=12 ...................\n",
      "[CV]  algorithm=brute, leaf_size=32, n_neighbors=12, score=0.611, total=   0.1s\n",
      "[CV] algorithm=brute, leaf_size=32, n_neighbors=12 ...................\n",
      "[CV]  algorithm=brute, leaf_size=32, n_neighbors=12, score=0.578, total=   0.0s\n",
      "[CV] algorithm=brute, leaf_size=32, n_neighbors=13 ...................\n",
      "[CV]  algorithm=brute, leaf_size=32, n_neighbors=13, score=0.581, total=   0.0s\n",
      "[CV] algorithm=brute, leaf_size=32, n_neighbors=13 ...................\n",
      "[CV]  algorithm=brute, leaf_size=32, n_neighbors=13, score=0.572, total=   0.1s\n",
      "[CV] algorithm=brute, leaf_size=32, n_neighbors=13 ...................\n",
      "[CV]  algorithm=brute, leaf_size=32, n_neighbors=13, score=0.575, total=   0.1s\n",
      "[CV] algorithm=brute, leaf_size=32, n_neighbors=13 ...................\n",
      "[CV]  algorithm=brute, leaf_size=32, n_neighbors=13, score=0.605, total=   0.1s\n",
      "[CV] algorithm=brute, leaf_size=32, n_neighbors=13 ...................\n",
      "[CV]  algorithm=brute, leaf_size=32, n_neighbors=13, score=0.566, total=   0.1s\n",
      "[CV] algorithm=brute, leaf_size=34, n_neighbors=3 ....................\n",
      "[CV]  algorithm=brute, leaf_size=34, n_neighbors=3, score=0.566, total=   0.0s\n",
      "[CV] algorithm=brute, leaf_size=34, n_neighbors=3 ....................\n",
      "[CV]  algorithm=brute, leaf_size=34, n_neighbors=3, score=0.566, total=   0.0s\n",
      "[CV] algorithm=brute, leaf_size=34, n_neighbors=3 ....................\n",
      "[CV]  algorithm=brute, leaf_size=34, n_neighbors=3, score=0.584, total=   0.0s\n",
      "[CV] algorithm=brute, leaf_size=34, n_neighbors=3 ....................\n",
      "[CV]  algorithm=brute, leaf_size=34, n_neighbors=3, score=0.521, total=   0.0s\n",
      "[CV] algorithm=brute, leaf_size=34, n_neighbors=3 ....................\n",
      "[CV]  algorithm=brute, leaf_size=34, n_neighbors=3, score=0.548, total=   0.1s\n",
      "[CV] algorithm=brute, leaf_size=34, n_neighbors=5 ....................\n",
      "[CV]  algorithm=brute, leaf_size=34, n_neighbors=5, score=0.584, total=   0.1s\n",
      "[CV] algorithm=brute, leaf_size=34, n_neighbors=5 ....................\n",
      "[CV]  algorithm=brute, leaf_size=34, n_neighbors=5, score=0.578, total=   0.1s\n",
      "[CV] algorithm=brute, leaf_size=34, n_neighbors=5 ....................\n",
      "[CV]  algorithm=brute, leaf_size=34, n_neighbors=5, score=0.602, total=   0.1s\n",
      "[CV] algorithm=brute, leaf_size=34, n_neighbors=5 ....................\n",
      "[CV]  algorithm=brute, leaf_size=34, n_neighbors=5, score=0.617, total=   0.1s\n",
      "[CV] algorithm=brute, leaf_size=34, n_neighbors=5 ....................\n",
      "[CV]  algorithm=brute, leaf_size=34, n_neighbors=5, score=0.572, total=   0.1s\n",
      "[CV] algorithm=brute, leaf_size=34, n_neighbors=7 ....................\n",
      "[CV]  algorithm=brute, leaf_size=34, n_neighbors=7, score=0.584, total=   0.0s\n",
      "[CV] algorithm=brute, leaf_size=34, n_neighbors=7 ....................\n",
      "[CV]  algorithm=brute, leaf_size=34, n_neighbors=7, score=0.563, total=   0.1s\n",
      "[CV] algorithm=brute, leaf_size=34, n_neighbors=7 ....................\n",
      "[CV]  algorithm=brute, leaf_size=34, n_neighbors=7, score=0.581, total=   0.1s\n",
      "[CV] algorithm=brute, leaf_size=34, n_neighbors=7 ....................\n",
      "[CV]  algorithm=brute, leaf_size=34, n_neighbors=7, score=0.611, total=   0.1s\n",
      "[CV] algorithm=brute, leaf_size=34, n_neighbors=7 ....................\n",
      "[CV]  algorithm=brute, leaf_size=34, n_neighbors=7, score=0.575, total=   0.0s\n",
      "[CV] algorithm=brute, leaf_size=34, n_neighbors=9 ....................\n",
      "[CV]  algorithm=brute, leaf_size=34, n_neighbors=9, score=0.575, total=   0.1s\n",
      "[CV] algorithm=brute, leaf_size=34, n_neighbors=9 ....................\n",
      "[CV]  algorithm=brute, leaf_size=34, n_neighbors=9, score=0.578, total=   0.1s\n",
      "[CV] algorithm=brute, leaf_size=34, n_neighbors=9 ....................\n",
      "[CV]  algorithm=brute, leaf_size=34, n_neighbors=9, score=0.620, total=   0.1s\n",
      "[CV] algorithm=brute, leaf_size=34, n_neighbors=9 ....................\n",
      "[CV]  algorithm=brute, leaf_size=34, n_neighbors=9, score=0.590, total=   0.1s\n",
      "[CV] algorithm=brute, leaf_size=34, n_neighbors=9 ....................\n",
      "[CV]  algorithm=brute, leaf_size=34, n_neighbors=9, score=0.602, total=   0.1s\n",
      "[CV] algorithm=brute, leaf_size=34, n_neighbors=10 ...................\n",
      "[CV]  algorithm=brute, leaf_size=34, n_neighbors=10, score=0.593, total=   0.1s\n",
      "[CV] algorithm=brute, leaf_size=34, n_neighbors=10 ...................\n",
      "[CV]  algorithm=brute, leaf_size=34, n_neighbors=10, score=0.569, total=   0.1s\n",
      "[CV] algorithm=brute, leaf_size=34, n_neighbors=10 ...................\n",
      "[CV]  algorithm=brute, leaf_size=34, n_neighbors=10, score=0.599, total=   0.1s\n",
      "[CV] algorithm=brute, leaf_size=34, n_neighbors=10 ...................\n",
      "[CV]  algorithm=brute, leaf_size=34, n_neighbors=10, score=0.614, total=   0.1s\n",
      "[CV] algorithm=brute, leaf_size=34, n_neighbors=10 ...................\n",
      "[CV]  algorithm=brute, leaf_size=34, n_neighbors=10, score=0.581, total=   0.1s\n",
      "[CV] algorithm=brute, leaf_size=34, n_neighbors=11 ...................\n",
      "[CV]  algorithm=brute, leaf_size=34, n_neighbors=11, score=0.596, total=   0.1s\n",
      "[CV] algorithm=brute, leaf_size=34, n_neighbors=11 ...................\n",
      "[CV]  algorithm=brute, leaf_size=34, n_neighbors=11, score=0.548, total=   0.1s\n",
      "[CV] algorithm=brute, leaf_size=34, n_neighbors=11 ...................\n",
      "[CV]  algorithm=brute, leaf_size=34, n_neighbors=11, score=0.587, total=   0.0s\n",
      "[CV] algorithm=brute, leaf_size=34, n_neighbors=11 ...................\n",
      "[CV]  algorithm=brute, leaf_size=34, n_neighbors=11, score=0.635, total=   0.0s\n",
      "[CV] algorithm=brute, leaf_size=34, n_neighbors=11 ...................\n",
      "[CV]  algorithm=brute, leaf_size=34, n_neighbors=11, score=0.572, total=   0.1s\n",
      "[CV] algorithm=brute, leaf_size=34, n_neighbors=12 ...................\n",
      "[CV]  algorithm=brute, leaf_size=34, n_neighbors=12, score=0.602, total=   0.1s\n",
      "[CV] algorithm=brute, leaf_size=34, n_neighbors=12 ...................\n",
      "[CV]  algorithm=brute, leaf_size=34, n_neighbors=12, score=0.560, total=   0.0s\n",
      "[CV] algorithm=brute, leaf_size=34, n_neighbors=12 ...................\n",
      "[CV]  algorithm=brute, leaf_size=34, n_neighbors=12, score=0.608, total=   0.1s\n",
      "[CV] algorithm=brute, leaf_size=34, n_neighbors=12 ...................\n",
      "[CV]  algorithm=brute, leaf_size=34, n_neighbors=12, score=0.611, total=   0.1s\n",
      "[CV] algorithm=brute, leaf_size=34, n_neighbors=12 ...................\n",
      "[CV]  algorithm=brute, leaf_size=34, n_neighbors=12, score=0.578, total=   0.1s\n",
      "[CV] algorithm=brute, leaf_size=34, n_neighbors=13 ...................\n",
      "[CV]  algorithm=brute, leaf_size=34, n_neighbors=13, score=0.581, total=   0.1s\n",
      "[CV] algorithm=brute, leaf_size=34, n_neighbors=13 ...................\n",
      "[CV]  algorithm=brute, leaf_size=34, n_neighbors=13, score=0.572, total=   0.1s\n",
      "[CV] algorithm=brute, leaf_size=34, n_neighbors=13 ...................\n",
      "[CV]  algorithm=brute, leaf_size=34, n_neighbors=13, score=0.575, total=   0.1s\n",
      "[CV] algorithm=brute, leaf_size=34, n_neighbors=13 ...................\n",
      "[CV]  algorithm=brute, leaf_size=34, n_neighbors=13, score=0.605, total=   0.1s\n",
      "[CV] algorithm=brute, leaf_size=34, n_neighbors=13 ...................\n",
      "[CV]  algorithm=brute, leaf_size=34, n_neighbors=13, score=0.566, total=   0.1s\n"
     ]
    },
    {
     "name": "stderr",
     "output_type": "stream",
     "text": [
      "[Parallel(n_jobs=1)]: Done 840 out of 840 | elapsed:   38.3s finished\n"
     ]
    },
    {
     "data": {
      "text/plain": [
       "GridSearchCV(cv=None, error_score=nan,\n",
       "             estimator=KNeighborsClassifier(algorithm='auto', leaf_size=30,\n",
       "                                            metric='minkowski',\n",
       "                                            metric_params=None, n_jobs=None,\n",
       "                                            n_neighbors=5, p=2,\n",
       "                                            weights='uniform'),\n",
       "             iid='deprecated', n_jobs=None,\n",
       "             param_grid={'algorithm': ['ball_tree', 'kd_tree', 'brute'],\n",
       "                         'leaf_size': [18, 20, 25, 27, 30, 32, 34],\n",
       "                         'n_neighbors': [3, 5, 7, 9, 10, 11, 12, 13]},\n",
       "             pre_dispatch='2*n_jobs', refit=True, return_train_score=False,\n",
       "             scoring=None, verbose=3)"
      ]
     },
     "execution_count": 151,
     "metadata": {},
     "output_type": "execute_result"
    }
   ],
   "source": [
    "gridsearch.fit(x_train,y_train)"
   ]
  },
  {
   "cell_type": "code",
   "execution_count": 152,
   "metadata": {},
   "outputs": [
    {
     "data": {
      "text/plain": [
       "{'algorithm': 'ball_tree', 'leaf_size': 18, 'n_neighbors': 9}"
      ]
     },
     "execution_count": 152,
     "metadata": {},
     "output_type": "execute_result"
    }
   ],
   "source": [
    "gridsearch.best_params_"
   ]
  },
  {
   "cell_type": "code",
   "execution_count": 153,
   "metadata": {},
   "outputs": [],
   "source": [
    "# we will use the best parameters in our k-NN algorithm and check if accuracy is increasing.\n",
    "knn = KNeighborsClassifier(algorithm = 'ball_tree', leaf_size =18, n_neighbors =11)"
   ]
  },
  {
   "cell_type": "code",
   "execution_count": 154,
   "metadata": {},
   "outputs": [
    {
     "data": {
      "text/plain": [
       "KNeighborsClassifier(algorithm='ball_tree', leaf_size=18, metric='minkowski',\n",
       "                     metric_params=None, n_jobs=None, n_neighbors=11, p=2,\n",
       "                     weights='uniform')"
      ]
     },
     "execution_count": 154,
     "metadata": {},
     "output_type": "execute_result"
    }
   ],
   "source": [
    "knn.fit(x_train,y_train)"
   ]
  },
  {
   "cell_type": "code",
   "execution_count": 155,
   "metadata": {},
   "outputs": [
    {
     "data": {
      "text/plain": [
       "0.6790419161676646"
      ]
     },
     "execution_count": 155,
     "metadata": {},
     "output_type": "execute_result"
    }
   ],
   "source": [
    "knn.score(x_train,y_train)"
   ]
  },
  {
   "cell_type": "code",
   "execution_count": 156,
   "metadata": {},
   "outputs": [
    {
     "data": {
      "text/plain": [
       "0.5224416517055656"
      ]
     },
     "execution_count": 156,
     "metadata": {},
     "output_type": "execute_result"
    }
   ],
   "source": [
    "knn.score(x_test,y_test)"
   ]
  },
  {
   "cell_type": "markdown",
   "metadata": {},
   "source": [
    "## SVM"
   ]
  },
  {
   "cell_type": "code",
   "execution_count": 171,
   "metadata": {},
   "outputs": [],
   "source": [
    "from  sklearn.model_selection import train_test_split\n",
    "train_x,test_x,train_y,test_y=train_test_split(X,y,test_size=0.33, random_state=42)"
   ]
  },
  {
   "cell_type": "code",
   "execution_count": 172,
   "metadata": {},
   "outputs": [
    {
     "data": {
      "text/plain": [
       "SVC(C=1.0, break_ties=False, cache_size=200, class_weight=None, coef0=0.0,\n",
       "    decision_function_shape='ovr', degree=3, gamma='scale', kernel='rbf',\n",
       "    max_iter=-1, probability=False, random_state=None, shrinking=True,\n",
       "    tol=0.001, verbose=False)"
      ]
     },
     "execution_count": 172,
     "metadata": {},
     "output_type": "execute_result"
    }
   ],
   "source": [
    "from sklearn.svm import SVC\n",
    "model=SVC()\n",
    "model.fit(train_x,train_y)"
   ]
  },
  {
   "cell_type": "code",
   "execution_count": 173,
   "metadata": {},
   "outputs": [
    {
     "data": {
      "text/plain": [
       "array([0, 0, 0, 0, 0, 0, 0, 0, 0, 0, 0, 0, 0, 0, 0, 0, 0, 0, 0, 0, 0, 0,\n",
       "       0, 0, 0, 0, 0, 0, 0, 0, 0, 0, 0, 0, 0, 0, 0, 0, 0, 0, 0, 0, 0, 0,\n",
       "       0, 0, 0, 0, 0, 0, 0, 0, 0, 0, 0, 0, 0, 0, 0, 0, 0, 0, 0, 0, 0, 0,\n",
       "       0, 0, 0, 0, 0, 0, 0, 0, 0, 0, 0, 0, 0, 0, 0, 0, 0, 0, 0, 0, 0, 0,\n",
       "       0, 0, 0, 0, 0, 0, 0, 0, 0, 0, 0, 0, 0, 0, 0, 0, 0, 0, 0, 0, 0, 0,\n",
       "       0, 0, 0, 0, 0, 0, 0, 0, 0, 0, 0, 0, 0, 0, 0, 0, 0, 0, 0, 0, 0, 0,\n",
       "       0, 0, 0, 0, 0, 0, 0, 0, 0, 0, 0, 0, 0, 0, 0, 0, 0, 0, 0, 0, 0, 0,\n",
       "       0, 0, 0, 0, 0, 0, 0, 0, 0, 0, 0, 0, 0, 0, 0, 0, 0, 0, 0, 0, 0, 0,\n",
       "       0, 0, 0, 0, 0, 0, 0, 0, 0, 0, 0, 0, 0, 0, 0, 0, 0, 0, 0, 0, 0, 0,\n",
       "       0, 0, 0, 0, 0, 0, 0, 0, 0, 0, 0, 0, 0, 0, 0, 0, 0, 0, 0, 0, 0, 0,\n",
       "       0, 0, 0, 0, 0, 0, 0, 0, 0, 0, 0, 0, 0, 0, 0, 0, 0, 0, 0, 0, 0, 0,\n",
       "       0, 0, 0, 0, 0, 0, 0, 0, 0, 0, 0, 0, 0, 0, 0, 0, 0, 0, 0, 0, 0, 0,\n",
       "       0, 0, 0, 0, 0, 0, 0, 0, 0, 0, 0, 0, 0, 0, 0, 0, 0, 0, 0, 0, 0, 0,\n",
       "       0, 0, 0, 0, 0, 0, 0, 0, 0, 0, 0, 0, 0, 0, 0, 0, 0, 0, 0, 0, 0, 0,\n",
       "       0, 0, 0, 0, 0, 0, 0, 0, 0, 0, 0, 0, 0, 0, 0, 0, 0, 0, 0, 0, 0, 0,\n",
       "       0, 0, 0, 0, 0, 0, 0, 0, 0, 0, 0, 0, 0, 0, 0, 0, 0, 0, 0, 0, 0, 0,\n",
       "       0, 0, 0, 0, 0, 0, 0, 0, 0, 0, 0, 0, 0, 0, 0, 0, 0, 0, 0, 0, 0, 0,\n",
       "       0, 0, 0, 0, 0, 0, 0, 0, 0, 0, 0, 0, 0, 0, 0, 0, 0, 0, 0, 0, 0, 0,\n",
       "       0, 0, 0, 0, 0, 0, 0, 0, 0, 0, 0, 0, 0, 0, 0, 0, 0, 0, 0, 0, 0, 0,\n",
       "       0, 0, 0, 0, 0, 0, 0, 0, 0, 0, 0, 0, 0, 0, 0, 0, 0, 0, 0, 0, 0, 0,\n",
       "       0, 0, 0, 0, 0, 0, 0, 0, 0, 0, 0, 0, 0, 0, 0, 0, 0, 0, 0, 0, 0, 0,\n",
       "       0, 0, 0, 0, 0, 0, 0, 0, 0, 0, 0, 0, 0, 0, 0, 0, 0, 0, 0, 0, 0, 0,\n",
       "       0, 0, 0, 0, 0, 0, 0, 0, 0, 0, 0, 0, 0, 0, 0, 0, 0, 0, 0, 0, 0, 0,\n",
       "       0, 0, 0, 0, 0, 0, 0, 0, 0, 0, 0, 0, 0, 0, 0, 0, 0, 0, 0, 0, 0, 0,\n",
       "       0, 0, 0, 0, 0, 0, 0, 0, 0, 0, 0, 0, 0, 0, 0, 0, 0, 0, 0, 0, 0, 0,\n",
       "       0, 0, 0, 0, 0, 0, 0, 0, 0, 0, 0, 0, 0, 0, 0, 0, 0, 0, 0, 0, 0, 0,\n",
       "       0, 0, 0, 0, 0, 0, 0, 0, 0, 0, 0, 0, 0, 0, 0, 0, 0, 0, 0, 0, 0, 0,\n",
       "       0, 0, 0, 0, 0, 0, 0, 0, 0, 0, 0, 0, 0, 0, 0, 0, 0, 0, 0, 0, 0, 0,\n",
       "       0, 0, 0, 0, 0, 0, 0, 0, 0, 0, 0, 0, 0, 0, 0, 0, 0, 0, 0, 0, 0, 0,\n",
       "       0, 0, 0, 0, 0, 0, 0, 0, 0, 0, 0, 0, 0, 0, 0, 0, 0, 0, 0, 0, 0, 0,\n",
       "       0, 0, 0, 0, 0, 0, 0, 0, 0, 0, 0, 0, 0, 0, 0, 0, 0, 0, 0, 0, 0, 0,\n",
       "       0, 0, 0, 0, 0, 0, 0, 0, 0, 0, 0, 0, 0, 0, 0, 0, 0, 0, 0, 0, 0, 0,\n",
       "       0, 0, 0, 0, 0, 0, 0, 0, 0, 0, 0, 0, 0, 0, 0, 0, 0, 0, 0, 0, 0, 0,\n",
       "       0, 0, 0, 0, 0, 0, 0, 0, 0], dtype=int64)"
      ]
     },
     "execution_count": 173,
     "metadata": {},
     "output_type": "execute_result"
    }
   ],
   "source": [
    "model.predict(test_x)"
   ]
  },
  {
   "cell_type": "code",
   "execution_count": 174,
   "metadata": {},
   "outputs": [],
   "source": [
    "from sklearn.metrics import accuracy_score"
   ]
  },
  {
   "cell_type": "code",
   "execution_count": 175,
   "metadata": {},
   "outputs": [
    {
     "data": {
      "text/plain": [
       "0.5401360544217687"
      ]
     },
     "execution_count": 175,
     "metadata": {},
     "output_type": "execute_result"
    }
   ],
   "source": [
    "accuracy_score(test_y,model.predict(test_x))"
   ]
  },
  {
   "cell_type": "markdown",
   "metadata": {},
   "source": [
    "## Implementing Grid Search"
   ]
  },
  {
   "cell_type": "code",
   "execution_count": 176,
   "metadata": {},
   "outputs": [],
   "source": [
    "from sklearn.model_selection import GridSearchCV"
   ]
  },
  {
   "cell_type": "code",
   "execution_count": 177,
   "metadata": {},
   "outputs": [],
   "source": [
    "param_grid={'C':[0.1,1,10,50,100,500],'gamma':[1,0.5,0.1,0.01,0.001]}"
   ]
  },
  {
   "cell_type": "code",
   "execution_count": 178,
   "metadata": {},
   "outputs": [],
   "source": [
    "grid= GridSearchCV(SVC(),param_grid, verbose=3, n_jobs=-1)"
   ]
  },
  {
   "cell_type": "code",
   "execution_count": 179,
   "metadata": {},
   "outputs": [
    {
     "name": "stdout",
     "output_type": "stream",
     "text": [
      "Fitting 5 folds for each of 30 candidates, totalling 150 fits\n"
     ]
    },
    {
     "name": "stderr",
     "output_type": "stream",
     "text": [
      "[Parallel(n_jobs=-1)]: Using backend LokyBackend with 4 concurrent workers.\n",
      "[Parallel(n_jobs=-1)]: Done  24 tasks      | elapsed:   13.2s\n",
      "[Parallel(n_jobs=-1)]: Done 120 tasks      | elapsed:   25.6s\n",
      "[Parallel(n_jobs=-1)]: Done 150 out of 150 | elapsed:   28.8s finished\n"
     ]
    },
    {
     "data": {
      "text/plain": [
       "GridSearchCV(cv=None, error_score=nan,\n",
       "             estimator=SVC(C=1.0, break_ties=False, cache_size=200,\n",
       "                           class_weight=None, coef0=0.0,\n",
       "                           decision_function_shape='ovr', degree=3,\n",
       "                           gamma='scale', kernel='rbf', max_iter=-1,\n",
       "                           probability=False, random_state=None, shrinking=True,\n",
       "                           tol=0.001, verbose=False),\n",
       "             iid='deprecated', n_jobs=-1,\n",
       "             param_grid={'C': [0.1, 1, 10, 50, 100, 500],\n",
       "                         'gamma': [1, 0.5, 0.1, 0.01, 0.001]},\n",
       "             pre_dispatch='2*n_jobs', refit=True, return_train_score=False,\n",
       "             scoring=None, verbose=3)"
      ]
     },
     "execution_count": 179,
     "metadata": {},
     "output_type": "execute_result"
    }
   ],
   "source": [
    "grid.fit(train_x,train_y)"
   ]
  },
  {
   "cell_type": "code",
   "execution_count": 180,
   "metadata": {},
   "outputs": [
    {
     "data": {
      "text/plain": [
       "{'C': 0.1, 'gamma': 0.001}"
      ]
     },
     "execution_count": 180,
     "metadata": {},
     "output_type": "execute_result"
    }
   ],
   "source": [
    "grid.best_params_"
   ]
  },
  {
   "cell_type": "code",
   "execution_count": 181,
   "metadata": {},
   "outputs": [
    {
     "data": {
      "text/plain": [
       "SVC(C=10, break_ties=False, cache_size=200, class_weight=None, coef0=0.0,\n",
       "    decision_function_shape='ovr', degree=3, gamma=1, kernel='rbf', max_iter=-1,\n",
       "    probability=False, random_state=None, shrinking=True, tol=0.001,\n",
       "    verbose=False)"
      ]
     },
     "execution_count": 181,
     "metadata": {},
     "output_type": "execute_result"
    }
   ],
   "source": [
    "model_new=SVC(C=10, gamma=1)\n",
    "model_new.fit(train_x,train_"
   ]
  },
  {
   "cell_type": "code",
   "execution_count": 182,
   "metadata": {},
   "outputs": [
    {
     "data": {
      "text/plain": [
       "0.638095238095238"
      ]
     },
     "execution_count": 182,
     "metadata": {},
     "output_type": "execute_result"
    }
   ],
   "source": [
    "accuracy_score(test_y,model_new.predict(test_x))"
   ]
  },
  {
   "cell_type": "markdown",
   "metadata": {},
   "source": [
    "## Step 4"
   ]
  },
  {
   "cell_type": "markdown",
   "metadata": {},
   "source": [
    "In decision tree we can clearly the accuracy before hyperparameter tuning was 92% for test data, but after doing of hyperparameter tuning my test data accuracy has increased and became 94% and this accuracy is very close to my training accuracy which is 95% after hyperparameter tuning.\n",
    "\n",
    "In KNN we got training accuracy as 72% and testing accuracy as 49% and after hyperparameter tuning my training accuracy got decreased to 67% and test accuracy got incresed to 52%. We can clealy se that our testing accuracy have increased after hyperparameter tuning and where training accuracy was high it got decreased.\n",
    "\n",
    "In SVM accuracy obtained before Grid search was 54% only but after implementing grid search my accuracy has increased to 63% which a very good increase if compared to 54%\n",
    "\n",
    "In logistic regression if we just go with accuracy it is 56%, but if we see for recall it is 57% and our precision is 80% and F1 score is 66%. By using precision we can distinguish between positive and negative value.here recall is also not high which says about how many true event we are able to recall out of all the true event."
   ]
  },
  {
   "cell_type": "markdown",
   "metadata": {},
   "source": [
    "I feel here we need to go with decision tree as it is giving very good accuray for our testing data and it =s accuracy is near to our training data accuracy. so our model is not overfitted."
   ]
  }
 ],
 "metadata": {
  "kernelspec": {
   "display_name": "Python 3",
   "language": "python",
   "name": "python3"
  },
  "language_info": {
   "codemirror_mode": {
    "name": "ipython",
    "version": 3
   },
   "file_extension": ".py",
   "mimetype": "text/x-python",
   "name": "python",
   "nbconvert_exporter": "python",
   "pygments_lexer": "ipython3",
   "version": "3.7.6"
  }
 },
 "nbformat": 4,
 "nbformat_minor": 4
}
